{
 "cells": [
  {
   "cell_type": "code",
   "execution_count": 60,
   "metadata": {
    "collapsed": true
   },
   "outputs": [],
   "source": [
    "\n",
    "import pandas as pd\n",
    "import numpy as np"
   ]
  },
  {
   "cell_type": "code",
   "execution_count": 61,
   "outputs": [],
   "source": [
    "train_main_df = pd.read_csv('HW_train_main_data.csv')\n",
    "train_additional_df = pd.read_csv('train_additional_data.csv')"
   ],
   "metadata": {
    "collapsed": false,
    "pycharm": {
     "name": "#%%\n"
    }
   }
  },
  {
   "cell_type": "code",
   "execution_count": 62,
   "outputs": [
    {
     "data": {
      "text/plain": "      id   timestamp  full_sq  life_sq  floor  max_floor  material  \\\n0  30392  2014-12-30       60     36.0    6.0        9.0       1.0   \n1  36540  2013-06-28       44     29.0    9.0        NaN       NaN   \n2  94669  2013-09-15       62     60.0    4.0        NaN       NaN   \n3  17531  2013-12-13       33     18.0    4.0        9.0       1.0   \n4  32159  2014-02-13       37     14.0    1.0       17.0       1.0   \n\n   build_year  num_room  kitch_sq  apartment condition  sub_area      price  \n0      1974.0       3.0       5.0                  3.0         9  9711800.0  \n1         NaN       NaN       NaN                  NaN        19  6643200.0  \n2         NaN       NaN       NaN                  NaN        80  5698300.0  \n3      1970.0       1.0       6.0                  2.0        15  5055000.0  \n4      1991.0       1.0       1.0                  2.0        74  5425000.0  ",
      "text/html": "<div>\n<style scoped>\n    .dataframe tbody tr th:only-of-type {\n        vertical-align: middle;\n    }\n\n    .dataframe tbody tr th {\n        vertical-align: top;\n    }\n\n    .dataframe thead th {\n        text-align: right;\n    }\n</style>\n<table border=\"1\" class=\"dataframe\">\n  <thead>\n    <tr style=\"text-align: right;\">\n      <th></th>\n      <th>id</th>\n      <th>timestamp</th>\n      <th>full_sq</th>\n      <th>life_sq</th>\n      <th>floor</th>\n      <th>max_floor</th>\n      <th>material</th>\n      <th>build_year</th>\n      <th>num_room</th>\n      <th>kitch_sq</th>\n      <th>apartment condition</th>\n      <th>sub_area</th>\n      <th>price</th>\n    </tr>\n  </thead>\n  <tbody>\n    <tr>\n      <th>0</th>\n      <td>30392</td>\n      <td>2014-12-30</td>\n      <td>60</td>\n      <td>36.0</td>\n      <td>6.0</td>\n      <td>9.0</td>\n      <td>1.0</td>\n      <td>1974.0</td>\n      <td>3.0</td>\n      <td>5.0</td>\n      <td>3.0</td>\n      <td>9</td>\n      <td>9711800.0</td>\n    </tr>\n    <tr>\n      <th>1</th>\n      <td>36540</td>\n      <td>2013-06-28</td>\n      <td>44</td>\n      <td>29.0</td>\n      <td>9.0</td>\n      <td>NaN</td>\n      <td>NaN</td>\n      <td>NaN</td>\n      <td>NaN</td>\n      <td>NaN</td>\n      <td>NaN</td>\n      <td>19</td>\n      <td>6643200.0</td>\n    </tr>\n    <tr>\n      <th>2</th>\n      <td>94669</td>\n      <td>2013-09-15</td>\n      <td>62</td>\n      <td>60.0</td>\n      <td>4.0</td>\n      <td>NaN</td>\n      <td>NaN</td>\n      <td>NaN</td>\n      <td>NaN</td>\n      <td>NaN</td>\n      <td>NaN</td>\n      <td>80</td>\n      <td>5698300.0</td>\n    </tr>\n    <tr>\n      <th>3</th>\n      <td>17531</td>\n      <td>2013-12-13</td>\n      <td>33</td>\n      <td>18.0</td>\n      <td>4.0</td>\n      <td>9.0</td>\n      <td>1.0</td>\n      <td>1970.0</td>\n      <td>1.0</td>\n      <td>6.0</td>\n      <td>2.0</td>\n      <td>15</td>\n      <td>5055000.0</td>\n    </tr>\n    <tr>\n      <th>4</th>\n      <td>32159</td>\n      <td>2014-02-13</td>\n      <td>37</td>\n      <td>14.0</td>\n      <td>1.0</td>\n      <td>17.0</td>\n      <td>1.0</td>\n      <td>1991.0</td>\n      <td>1.0</td>\n      <td>1.0</td>\n      <td>2.0</td>\n      <td>74</td>\n      <td>5425000.0</td>\n    </tr>\n  </tbody>\n</table>\n</div>"
     },
     "execution_count": 62,
     "metadata": {},
     "output_type": "execute_result"
    }
   ],
   "source": [
    "train_main_df.head()"
   ],
   "metadata": {
    "collapsed": false,
    "pycharm": {
     "name": "#%%\n"
    }
   }
  },
  {
   "cell_type": "markdown",
   "source": [
    "Найдем топ 10 самых дорогих квартир"
   ],
   "metadata": {
    "collapsed": false,
    "pycharm": {
     "name": "#%% md\n"
    }
   }
  },
  {
   "cell_type": "code",
   "execution_count": 63,
   "outputs": [
    {
     "data": {
      "text/plain": "[85073, 14154, 88100, 78059, 91175, 45584, 95572, 63901, 92747, 40136]"
     },
     "execution_count": 63,
     "metadata": {},
     "output_type": "execute_result"
    }
   ],
   "source": [
    "ans1 = train_main_df[['id', 'price']].sort_values(by='price', ascending=False)[:10]\n",
    "ans1['id'].to_list()"
   ],
   "metadata": {
    "collapsed": false,
    "pycharm": {
     "name": "#%%\n"
    }
   }
  },
  {
   "cell_type": "markdown",
   "source": [
    "Найдем топ 5 самых больших по площади квартир"
   ],
   "metadata": {
    "collapsed": false,
    "pycharm": {
     "name": "#%% md\n"
    }
   }
  },
  {
   "cell_type": "markdown",
   "source": [],
   "metadata": {
    "collapsed": false
   }
  },
  {
   "cell_type": "code",
   "execution_count": 64,
   "outputs": [
    {
     "data": {
      "text/plain": "          id  full_sq\n19303  95156     5329\n18260  95936      731\n6172   32115      639\n9283   49518      636\n13473  41202      635",
      "text/html": "<div>\n<style scoped>\n    .dataframe tbody tr th:only-of-type {\n        vertical-align: middle;\n    }\n\n    .dataframe tbody tr th {\n        vertical-align: top;\n    }\n\n    .dataframe thead th {\n        text-align: right;\n    }\n</style>\n<table border=\"1\" class=\"dataframe\">\n  <thead>\n    <tr style=\"text-align: right;\">\n      <th></th>\n      <th>id</th>\n      <th>full_sq</th>\n    </tr>\n  </thead>\n  <tbody>\n    <tr>\n      <th>19303</th>\n      <td>95156</td>\n      <td>5329</td>\n    </tr>\n    <tr>\n      <th>18260</th>\n      <td>95936</td>\n      <td>731</td>\n    </tr>\n    <tr>\n      <th>6172</th>\n      <td>32115</td>\n      <td>639</td>\n    </tr>\n    <tr>\n      <th>9283</th>\n      <td>49518</td>\n      <td>636</td>\n    </tr>\n    <tr>\n      <th>13473</th>\n      <td>41202</td>\n      <td>635</td>\n    </tr>\n  </tbody>\n</table>\n</div>"
     },
     "execution_count": 64,
     "metadata": {},
     "output_type": "execute_result"
    }
   ],
   "source": [
    "train_main_df[['id', 'full_sq']].sort_values(by='full_sq', ascending=False)[:5]"
   ],
   "metadata": {
    "collapsed": false,
    "pycharm": {
     "name": "#%%\n"
    }
   }
  },
  {
   "cell_type": "markdown",
   "source": [
    "количество строк с пропусками в life_sq 29000 - 22935 ="
   ],
   "metadata": {
    "collapsed": false,
    "pycharm": {
     "name": "#%% md\n"
    }
   }
  },
  {
   "cell_type": "code",
   "execution_count": 65,
   "outputs": [
    {
     "name": "stdout",
     "output_type": "stream",
     "text": [
      "<class 'pandas.core.frame.DataFrame'>\n",
      "RangeIndex: 29000 entries, 0 to 28999\n",
      "Data columns (total 13 columns):\n",
      " #   Column               Non-Null Count  Dtype  \n",
      "---  ------               --------------  -----  \n",
      " 0   id                   29000 non-null  int64  \n",
      " 1   timestamp            29000 non-null  object \n",
      " 2   full_sq              29000 non-null  int64  \n",
      " 3   life_sq              22935 non-null  float64\n",
      " 4   floor                28843 non-null  float64\n",
      " 5   max_floor            19887 non-null  float64\n",
      " 6   material             19887 non-null  float64\n",
      " 7   build_year           16059 non-null  float64\n",
      " 8   num_room             19887 non-null  float64\n",
      " 9   kitch_sq             19887 non-null  float64\n",
      " 10  apartment condition  16088 non-null  float64\n",
      " 11  sub_area             29000 non-null  int64  \n",
      " 12  price                29000 non-null  float64\n",
      "dtypes: float64(9), int64(3), object(1)\n",
      "memory usage: 2.9+ MB\n"
     ]
    }
   ],
   "source": [
    "train_main_df.info()"
   ],
   "metadata": {
    "collapsed": false,
    "pycharm": {
     "name": "#%%\n"
    }
   }
  },
  {
   "cell_type": "code",
   "execution_count": 66,
   "outputs": [
    {
     "data": {
      "text/plain": "6065"
     },
     "execution_count": 66,
     "metadata": {},
     "output_type": "execute_result"
    }
   ],
   "source": [
    "len(train_main_df[train_main_df['life_sq'].notna() == False])"
   ],
   "metadata": {
    "collapsed": false,
    "pycharm": {
     "name": "#%%\n"
    }
   }
  },
  {
   "cell_type": "code",
   "execution_count": 66,
   "outputs": [],
   "source": [],
   "metadata": {
    "collapsed": false,
    "pycharm": {
     "name": "#%%\n"
    }
   }
  },
  {
   "cell_type": "code",
   "execution_count": 67,
   "outputs": [],
   "source": [
    "train_main_df['timestamp'] = pd.to_datetime(train_main_df['timestamp'])\n",
    "train_main_df['year'] = train_main_df['timestamp'].dt.year\n",
    "train_main_df['month'] = train_main_df['timestamp'].dt.month\n",
    "train_main_df['year_month'] = train_main_df['timestamp'].dt.to_period('M')\n"
   ],
   "metadata": {
    "collapsed": false,
    "pycharm": {
     "name": "#%%\n"
    }
   }
  },
  {
   "cell_type": "code",
   "execution_count": 68,
   "outputs": [
    {
     "data": {
      "text/plain": "          id  timestamp  full_sq  life_sq  floor  max_floor  material  \\\n0      30392 2014-12-30       60     36.0    6.0        9.0       1.0   \n1      36540 2013-06-28       44     29.0    9.0        NaN       NaN   \n2      94669 2013-09-15       62     60.0    4.0        NaN       NaN   \n3      17531 2013-12-13       33     18.0    4.0        9.0       1.0   \n4      32159 2014-02-13       37     14.0    1.0       17.0       1.0   \n...      ...        ...      ...      ...    ...        ...       ...   \n28995  85589 2013-05-08       58      NaN    2.0        NaN       NaN   \n28996  11345 2014-04-12       38      NaN    9.0       17.0       1.0   \n28997  55519 2013-09-23       55     30.0    9.0       16.0       1.0   \n28998  17196 2013-11-19       37     19.0    3.0       16.0       5.0   \n28999  97330 2014-05-03       45     20.0   12.0       17.0       6.0   \n\n       build_year  num_room  kitch_sq  apartment condition  sub_area  \\\n0          1974.0       3.0       5.0                  3.0         9   \n1             NaN       NaN       NaN                  NaN        19   \n2             NaN       NaN       NaN                  NaN        80   \n3          1970.0       1.0       6.0                  2.0        15   \n4          1991.0       1.0       1.0                  2.0        74   \n...           ...       ...       ...                  ...       ...   \n28995         NaN       NaN       NaN                  NaN       101   \n28996         NaN       1.0       1.0                  NaN       134   \n28997      2002.0       2.0       8.0                  3.0        38   \n28998      1979.0       1.0       9.0                  3.0        43   \n28999      2011.0       1.0      10.0                  1.0       101   \n\n           price  year  month year_month  \n0      9711800.0  2014     12    2014-12  \n1      6643200.0  2013      6    2013-06  \n2      5698300.0  2013      9    2013-09  \n3      5055000.0  2013     12    2013-12  \n4      5425000.0  2014      2    2014-02  \n...          ...   ...    ...        ...  \n28995  4330300.0  2013      5    2013-05  \n28996  4779900.0  2014      4    2014-04  \n28997  7260000.0  2013      9    2013-09  \n28998  6018000.0  2013     11    2013-11  \n28999  2389000.0  2014      5    2014-05  \n\n[29000 rows x 16 columns]",
      "text/html": "<div>\n<style scoped>\n    .dataframe tbody tr th:only-of-type {\n        vertical-align: middle;\n    }\n\n    .dataframe tbody tr th {\n        vertical-align: top;\n    }\n\n    .dataframe thead th {\n        text-align: right;\n    }\n</style>\n<table border=\"1\" class=\"dataframe\">\n  <thead>\n    <tr style=\"text-align: right;\">\n      <th></th>\n      <th>id</th>\n      <th>timestamp</th>\n      <th>full_sq</th>\n      <th>life_sq</th>\n      <th>floor</th>\n      <th>max_floor</th>\n      <th>material</th>\n      <th>build_year</th>\n      <th>num_room</th>\n      <th>kitch_sq</th>\n      <th>apartment condition</th>\n      <th>sub_area</th>\n      <th>price</th>\n      <th>year</th>\n      <th>month</th>\n      <th>year_month</th>\n    </tr>\n  </thead>\n  <tbody>\n    <tr>\n      <th>0</th>\n      <td>30392</td>\n      <td>2014-12-30</td>\n      <td>60</td>\n      <td>36.0</td>\n      <td>6.0</td>\n      <td>9.0</td>\n      <td>1.0</td>\n      <td>1974.0</td>\n      <td>3.0</td>\n      <td>5.0</td>\n      <td>3.0</td>\n      <td>9</td>\n      <td>9711800.0</td>\n      <td>2014</td>\n      <td>12</td>\n      <td>2014-12</td>\n    </tr>\n    <tr>\n      <th>1</th>\n      <td>36540</td>\n      <td>2013-06-28</td>\n      <td>44</td>\n      <td>29.0</td>\n      <td>9.0</td>\n      <td>NaN</td>\n      <td>NaN</td>\n      <td>NaN</td>\n      <td>NaN</td>\n      <td>NaN</td>\n      <td>NaN</td>\n      <td>19</td>\n      <td>6643200.0</td>\n      <td>2013</td>\n      <td>6</td>\n      <td>2013-06</td>\n    </tr>\n    <tr>\n      <th>2</th>\n      <td>94669</td>\n      <td>2013-09-15</td>\n      <td>62</td>\n      <td>60.0</td>\n      <td>4.0</td>\n      <td>NaN</td>\n      <td>NaN</td>\n      <td>NaN</td>\n      <td>NaN</td>\n      <td>NaN</td>\n      <td>NaN</td>\n      <td>80</td>\n      <td>5698300.0</td>\n      <td>2013</td>\n      <td>9</td>\n      <td>2013-09</td>\n    </tr>\n    <tr>\n      <th>3</th>\n      <td>17531</td>\n      <td>2013-12-13</td>\n      <td>33</td>\n      <td>18.0</td>\n      <td>4.0</td>\n      <td>9.0</td>\n      <td>1.0</td>\n      <td>1970.0</td>\n      <td>1.0</td>\n      <td>6.0</td>\n      <td>2.0</td>\n      <td>15</td>\n      <td>5055000.0</td>\n      <td>2013</td>\n      <td>12</td>\n      <td>2013-12</td>\n    </tr>\n    <tr>\n      <th>4</th>\n      <td>32159</td>\n      <td>2014-02-13</td>\n      <td>37</td>\n      <td>14.0</td>\n      <td>1.0</td>\n      <td>17.0</td>\n      <td>1.0</td>\n      <td>1991.0</td>\n      <td>1.0</td>\n      <td>1.0</td>\n      <td>2.0</td>\n      <td>74</td>\n      <td>5425000.0</td>\n      <td>2014</td>\n      <td>2</td>\n      <td>2014-02</td>\n    </tr>\n    <tr>\n      <th>...</th>\n      <td>...</td>\n      <td>...</td>\n      <td>...</td>\n      <td>...</td>\n      <td>...</td>\n      <td>...</td>\n      <td>...</td>\n      <td>...</td>\n      <td>...</td>\n      <td>...</td>\n      <td>...</td>\n      <td>...</td>\n      <td>...</td>\n      <td>...</td>\n      <td>...</td>\n      <td>...</td>\n    </tr>\n    <tr>\n      <th>28995</th>\n      <td>85589</td>\n      <td>2013-05-08</td>\n      <td>58</td>\n      <td>NaN</td>\n      <td>2.0</td>\n      <td>NaN</td>\n      <td>NaN</td>\n      <td>NaN</td>\n      <td>NaN</td>\n      <td>NaN</td>\n      <td>NaN</td>\n      <td>101</td>\n      <td>4330300.0</td>\n      <td>2013</td>\n      <td>5</td>\n      <td>2013-05</td>\n    </tr>\n    <tr>\n      <th>28996</th>\n      <td>11345</td>\n      <td>2014-04-12</td>\n      <td>38</td>\n      <td>NaN</td>\n      <td>9.0</td>\n      <td>17.0</td>\n      <td>1.0</td>\n      <td>NaN</td>\n      <td>1.0</td>\n      <td>1.0</td>\n      <td>NaN</td>\n      <td>134</td>\n      <td>4779900.0</td>\n      <td>2014</td>\n      <td>4</td>\n      <td>2014-04</td>\n    </tr>\n    <tr>\n      <th>28997</th>\n      <td>55519</td>\n      <td>2013-09-23</td>\n      <td>55</td>\n      <td>30.0</td>\n      <td>9.0</td>\n      <td>16.0</td>\n      <td>1.0</td>\n      <td>2002.0</td>\n      <td>2.0</td>\n      <td>8.0</td>\n      <td>3.0</td>\n      <td>38</td>\n      <td>7260000.0</td>\n      <td>2013</td>\n      <td>9</td>\n      <td>2013-09</td>\n    </tr>\n    <tr>\n      <th>28998</th>\n      <td>17196</td>\n      <td>2013-11-19</td>\n      <td>37</td>\n      <td>19.0</td>\n      <td>3.0</td>\n      <td>16.0</td>\n      <td>5.0</td>\n      <td>1979.0</td>\n      <td>1.0</td>\n      <td>9.0</td>\n      <td>3.0</td>\n      <td>43</td>\n      <td>6018000.0</td>\n      <td>2013</td>\n      <td>11</td>\n      <td>2013-11</td>\n    </tr>\n    <tr>\n      <th>28999</th>\n      <td>97330</td>\n      <td>2014-05-03</td>\n      <td>45</td>\n      <td>20.0</td>\n      <td>12.0</td>\n      <td>17.0</td>\n      <td>6.0</td>\n      <td>2011.0</td>\n      <td>1.0</td>\n      <td>10.0</td>\n      <td>1.0</td>\n      <td>101</td>\n      <td>2389000.0</td>\n      <td>2014</td>\n      <td>5</td>\n      <td>2014-05</td>\n    </tr>\n  </tbody>\n</table>\n<p>29000 rows × 16 columns</p>\n</div>"
     },
     "execution_count": 68,
     "metadata": {},
     "output_type": "execute_result"
    }
   ],
   "source": [
    "train_main_df"
   ],
   "metadata": {
    "collapsed": false,
    "pycharm": {
     "name": "#%%\n"
    }
   }
  },
  {
   "cell_type": "code",
   "execution_count": 69,
   "outputs": [],
   "source": [
    "from matplotlib import pyplot as plt"
   ],
   "metadata": {
    "collapsed": false,
    "pycharm": {
     "name": "#%%\n"
    }
   }
  },
  {
   "cell_type": "code",
   "execution_count": 70,
   "outputs": [],
   "source": [
    "import seaborn as sns"
   ],
   "metadata": {
    "collapsed": false,
    "pycharm": {
     "name": "#%%\n"
    }
   }
  },
  {
   "cell_type": "code",
   "execution_count": 71,
   "outputs": [],
   "source": [
    "train_main_df['year_month'] = train_main_df['year_month'].astype(str)"
   ],
   "metadata": {
    "collapsed": false,
    "pycharm": {
     "name": "#%%\n"
    }
   }
  },
  {
   "cell_type": "code",
   "execution_count": 72,
   "outputs": [
    {
     "data": {
      "text/plain": "<Figure size 864x432 with 1 Axes>",
      "image/png": "[encoded data removed]"
     },
     "metadata": {
      "needs_background": "light"
     },
     "output_type": "display_data"
    }
   ],
   "source": [
    "# нарисуем график зависимости цены от даты\n",
    "\n",
    "plt.figure(figsize=(12, 6))\n",
    "plt.scatter(train_main_df.timestamp, train_main_df.price)\n",
    "plt.xlabel('timestamp', fontsize=12)\n",
    "plt.ylabel('price', fontsize=12)\n",
    "plt.show()"
   ],
   "metadata": {
    "collapsed": false,
    "pycharm": {
     "name": "#%%\n"
    }
   }
  },
  {
   "cell_type": "code",
   "execution_count": 73,
   "outputs": [
    {
     "data": {
      "text/plain": "Text(0.5, 0, 'year_month')"
     },
     "execution_count": 73,
     "metadata": {},
     "output_type": "execute_result"
    },
    {
     "data": {
      "text/plain": "<Figure size 864x432 with 1 Axes>",
      "image/png": "[encoded data removed]"
     },
     "metadata": {
      "needs_background": "light"
     },
     "output_type": "display_data"
    }
   ],
   "source": [
    "pd.plotting.deregister_matplotlib_converters()\n",
    "plt.figure(figsize=(12, 6))\n",
    "plt.title('Year_month and price', fontsize=20)\n",
    "plt.xticks(np.arange(0, len(train_main_df['year_month'])+1, 5))\n",
    "plt.scatter(train_main_df['year_month'], train_main_df['price'])\n",
    "plt.ylabel('price', fontsize=12)\n",
    "plt.xlabel('year_month', fontsize=12)"
   ],
   "metadata": {
    "collapsed": false,
    "pycharm": {
     "name": "#%%\n"
    }
   }
  },
  {
   "cell_type": "markdown",
   "source": [
    "Для каждой пары месяц-год найти индексы (не id) самых дорогих квартир."
   ],
   "metadata": {
    "collapsed": false,
    "pycharm": {
     "name": "#%% md\n"
    }
   }
  },
  {
   "cell_type": "code",
   "execution_count": 74,
   "outputs": [],
   "source": [
    "train_main_df = train_main_df.reset_index()"
   ],
   "metadata": {
    "collapsed": false,
    "pycharm": {
     "name": "#%%\n"
    }
   }
  },
  {
   "cell_type": "code",
   "execution_count": 75,
   "outputs": [],
   "source": [
    "train_main_df['price_index'] = train_main_df['price']\n",
    "aggr ={\n",
    "    'price': lambda x: x.max(),\n",
    "    'price_index': lambda x: x.idxmax(),\n",
    "}\n",
    "df_year = train_main_df.groupby(['year_month']).agg(aggr).reset_index()"
   ],
   "metadata": {
    "collapsed": false,
    "pycharm": {
     "name": "#%%\n"
    }
   }
  },
  {
   "cell_type": "code",
   "execution_count": 76,
   "outputs": [
    {
     "data": {
      "text/plain": "   year_month        price  price_index\n0     2011-09   17001000.0        22408\n1     2011-10   18043800.0        28566\n2     2011-11   40811000.0        24188\n3     2011-12   26860200.0        27279\n4     2012-01   24576000.0        20316\n5     2012-02   38608400.0        27461\n6     2012-03   62681400.0         8417\n7     2012-04   34816000.0        26644\n8     2012-05  112444400.0        18117\n9     2012-06   35805000.0        10035\n10    2012-07   36967300.0        26274\n11    2012-08   33726000.0        26321\n12    2012-09   63312900.0         9030\n13    2012-10   80388000.0        16898\n14    2012-11   29033200.0        28806\n15    2012-12   43192100.0         7537\n16    2013-01   39923000.0        15912\n17    2013-02   73377700.0         3163\n18    2013-03   87549200.0        26225\n19    2013-04   41500500.0         3767\n20    2013-05   95255100.0        27095\n21    2013-06   43173000.0        14807\n22    2013-07   34334100.0        24097\n23    2013-08   43960000.0        20799\n24    2013-09   40560000.0        20649\n25    2013-10   61800000.0        10213\n26    2013-11   72196800.0         8788\n27    2013-12   65585000.0        20082\n28    2014-01   34432000.0         6981\n29    2014-02   66432000.0         1740\n30    2014-03   70720000.0         7055\n31    2014-04   59417300.0        12729\n32    2014-05   62588500.0         5582\n33    2014-06   81827500.0        15217\n34    2014-07   44075200.0        18599\n35    2014-08   48136000.0         5942\n36    2014-09   66568400.0        28868\n37    2014-10   43302000.0        25278\n38    2014-11   56669500.0        13329\n39    2014-12   65855900.0         2526\n40    2015-01   61118200.0         9340\n41    2015-02   77305800.0        14321\n42    2015-03   94932200.0         5829\n43    2015-04   55150000.0         6705\n44    2015-05   72380000.0         7755\n45    2015-06   46872200.0        12483\n46    2015-07   41817600.0         2014",
      "text/html": "<div>\n<style scoped>\n    .dataframe tbody tr th:only-of-type {\n        vertical-align: middle;\n    }\n\n    .dataframe tbody tr th {\n        vertical-align: top;\n    }\n\n    .dataframe thead th {\n        text-align: right;\n    }\n</style>\n<table border=\"1\" class=\"dataframe\">\n  <thead>\n    <tr style=\"text-align: right;\">\n      <th></th>\n      <th>year_month</th>\n      <th>price</th>\n      <th>price_index</th>\n    </tr>\n  </thead>\n  <tbody>\n    <tr>\n      <th>0</th>\n      <td>2011-09</td>\n      <td>17001000.0</td>\n      <td>22408</td>\n    </tr>\n    <tr>\n      <th>1</th>\n      <td>2011-10</td>\n      <td>18043800.0</td>\n      <td>28566</td>\n    </tr>\n    <tr>\n      <th>2</th>\n      <td>2011-11</td>\n      <td>40811000.0</td>\n      <td>24188</td>\n    </tr>\n    <tr>\n      <th>3</th>\n      <td>2011-12</td>\n      <td>26860200.0</td>\n      <td>27279</td>\n    </tr>\n    <tr>\n      <th>4</th>\n      <td>2012-01</td>\n      <td>24576000.0</td>\n      <td>20316</td>\n    </tr>\n    <tr>\n      <th>5</th>\n      <td>2012-02</td>\n      <td>38608400.0</td>\n      <td>27461</td>\n    </tr>\n    <tr>\n      <th>6</th>\n      <td>2012-03</td>\n      <td>62681400.0</td>\n      <td>8417</td>\n    </tr>\n    <tr>\n      <th>7</th>\n      <td>2012-04</td>\n      <td>34816000.0</td>\n      <td>26644</td>\n    </tr>\n    <tr>\n      <th>8</th>\n      <td>2012-05</td>\n      <td>112444400.0</td>\n      <td>18117</td>\n    </tr>\n    <tr>\n      <th>9</th>\n      <td>2012-06</td>\n      <td>35805000.0</td>\n      <td>10035</td>\n    </tr>\n    <tr>\n      <th>10</th>\n      <td>2012-07</td>\n      <td>36967300.0</td>\n      <td>26274</td>\n    </tr>\n    <tr>\n      <th>11</th>\n      <td>2012-08</td>\n      <td>33726000.0</td>\n      <td>26321</td>\n    </tr>\n    <tr>\n      <th>12</th>\n      <td>2012-09</td>\n      <td>63312900.0</td>\n      <td>9030</td>\n    </tr>\n    <tr>\n      <th>13</th>\n      <td>2012-10</td>\n      <td>80388000.0</td>\n      <td>16898</td>\n    </tr>\n    <tr>\n      <th>14</th>\n      <td>2012-11</td>\n      <td>29033200.0</td>\n      <td>28806</td>\n    </tr>\n    <tr>\n      <th>15</th>\n      <td>2012-12</td>\n      <td>43192100.0</td>\n      <td>7537</td>\n    </tr>\n    <tr>\n      <th>16</th>\n      <td>2013-01</td>\n      <td>39923000.0</td>\n      <td>15912</td>\n    </tr>\n    <tr>\n      <th>17</th>\n      <td>2013-02</td>\n      <td>73377700.0</td>\n      <td>3163</td>\n    </tr>\n    <tr>\n      <th>18</th>\n      <td>2013-03</td>\n      <td>87549200.0</td>\n      <td>26225</td>\n    </tr>\n    <tr>\n      <th>19</th>\n      <td>2013-04</td>\n      <td>41500500.0</td>\n      <td>3767</td>\n    </tr>\n    <tr>\n      <th>20</th>\n      <td>2013-05</td>\n      <td>95255100.0</td>\n      <td>27095</td>\n    </tr>\n    <tr>\n      <th>21</th>\n      <td>2013-06</td>\n      <td>43173000.0</td>\n      <td>14807</td>\n    </tr>\n    <tr>\n      <th>22</th>\n      <td>2013-07</td>\n      <td>34334100.0</td>\n      <td>24097</td>\n    </tr>\n    <tr>\n      <th>23</th>\n      <td>2013-08</td>\n      <td>43960000.0</td>\n      <td>20799</td>\n    </tr>\n    <tr>\n      <th>24</th>\n      <td>2013-09</td>\n      <td>40560000.0</td>\n      <td>20649</td>\n    </tr>\n    <tr>\n      <th>25</th>\n      <td>2013-10</td>\n      <td>61800000.0</td>\n      <td>10213</td>\n    </tr>\n    <tr>\n      <th>26</th>\n      <td>2013-11</td>\n      <td>72196800.0</td>\n      <td>8788</td>\n    </tr>\n    <tr>\n      <th>27</th>\n      <td>2013-12</td>\n      <td>65585000.0</td>\n      <td>20082</td>\n    </tr>\n    <tr>\n      <th>28</th>\n      <td>2014-01</td>\n      <td>34432000.0</td>\n      <td>6981</td>\n    </tr>\n    <tr>\n      <th>29</th>\n      <td>2014-02</td>\n      <td>66432000.0</td>\n      <td>1740</td>\n    </tr>\n    <tr>\n      <th>30</th>\n      <td>2014-03</td>\n      <td>70720000.0</td>\n      <td>7055</td>\n    </tr>\n    <tr>\n      <th>31</th>\n      <td>2014-04</td>\n      <td>59417300.0</td>\n      <td>12729</td>\n    </tr>\n    <tr>\n      <th>32</th>\n      <td>2014-05</td>\n      <td>62588500.0</td>\n      <td>5582</td>\n    </tr>\n    <tr>\n      <th>33</th>\n      <td>2014-06</td>\n      <td>81827500.0</td>\n      <td>15217</td>\n    </tr>\n    <tr>\n      <th>34</th>\n      <td>2014-07</td>\n      <td>44075200.0</td>\n      <td>18599</td>\n    </tr>\n    <tr>\n      <th>35</th>\n      <td>2014-08</td>\n      <td>48136000.0</td>\n      <td>5942</td>\n    </tr>\n    <tr>\n      <th>36</th>\n      <td>2014-09</td>\n      <td>66568400.0</td>\n      <td>28868</td>\n    </tr>\n    <tr>\n      <th>37</th>\n      <td>2014-10</td>\n      <td>43302000.0</td>\n      <td>25278</td>\n    </tr>\n    <tr>\n      <th>38</th>\n      <td>2014-11</td>\n      <td>56669500.0</td>\n      <td>13329</td>\n    </tr>\n    <tr>\n      <th>39</th>\n      <td>2014-12</td>\n      <td>65855900.0</td>\n      <td>2526</td>\n    </tr>\n    <tr>\n      <th>40</th>\n      <td>2015-01</td>\n      <td>61118200.0</td>\n      <td>9340</td>\n    </tr>\n    <tr>\n      <th>41</th>\n      <td>2015-02</td>\n      <td>77305800.0</td>\n      <td>14321</td>\n    </tr>\n    <tr>\n      <th>42</th>\n      <td>2015-03</td>\n      <td>94932200.0</td>\n      <td>5829</td>\n    </tr>\n    <tr>\n      <th>43</th>\n      <td>2015-04</td>\n      <td>55150000.0</td>\n      <td>6705</td>\n    </tr>\n    <tr>\n      <th>44</th>\n      <td>2015-05</td>\n      <td>72380000.0</td>\n      <td>7755</td>\n    </tr>\n    <tr>\n      <th>45</th>\n      <td>2015-06</td>\n      <td>46872200.0</td>\n      <td>12483</td>\n    </tr>\n    <tr>\n      <th>46</th>\n      <td>2015-07</td>\n      <td>41817600.0</td>\n      <td>2014</td>\n    </tr>\n  </tbody>\n</table>\n</div>"
     },
     "execution_count": 76,
     "metadata": {},
     "output_type": "execute_result"
    }
   ],
   "source": [
    "df_year"
   ],
   "metadata": {
    "collapsed": false,
    "pycharm": {
     "name": "#%%\n"
    }
   }
  },
  {
   "cell_type": "code",
   "execution_count": 77,
   "outputs": [
    {
     "name": "stdout",
     "output_type": "stream",
     "text": [
      "[22408, 28566, 24188, 27279, 20316, 27461, 8417, 26644, 18117, 10035, 26274, 26321, 9030, 16898, 28806, 7537, 15912, 3163, 26225, 3767, 27095, 14807, 24097, 20799, 20649, 10213, 8788, 20082, 6981, 1740, 7055, 12729, 5582, 15217, 18599, 5942, 28868, 25278, 13329, 2526, 9340, 14321, 5829, 6705, 7755, 12483, 2014]\n"
     ]
    }
   ],
   "source": [
    "print(df_year['price_index'].to_list())"
   ],
   "metadata": {
    "collapsed": false,
    "pycharm": {
     "name": "#%%\n"
    }
   }
  },
  {
   "cell_type": "code",
   "execution_count": 78,
   "outputs": [
    {
     "data": {
      "text/plain": "                        index        id   full_sq   life_sq     floor  \\\nindex                1.000000 -0.007740 -0.002836 -0.006536 -0.006873   \nid                  -0.007740  1.000000  0.011015  0.012010  0.000112   \nfull_sq             -0.002836  0.011015  1.000000  0.390299  0.088004   \nlife_sq             -0.006536  0.012010  0.390299  1.000000  0.110223   \nfloor               -0.006873  0.000112  0.088004  0.110223  1.000000   \nmax_floor           -0.012507 -0.011584  0.116645  0.112966  0.454869   \nmaterial             0.009636  0.000259  0.034407  0.050486 -0.010701   \nbuild_year          -0.002914 -0.007040 -0.005409 -0.007568  0.001240   \nnum_room            -0.022539  0.006173  0.691535  0.550959 -0.006587   \nkitch_sq             0.002812  0.005560  0.019433  0.007244 -0.008726   \napartment condition  0.001262  0.007588 -0.089916 -0.173063 -0.112670   \nsub_area            -0.004009  0.009514  0.015821  0.080838  0.034533   \nprice               -0.003761  0.006902  0.337113  0.415291  0.117003   \nyear                 0.003320 -0.012562  0.020871  0.040929 -0.014406   \nmonth               -0.011307  0.006288 -0.005540 -0.001437  0.001930   \nprice_index         -0.003761  0.006902  0.337113  0.415291  0.117003   \n\n                     max_floor  material  build_year  num_room  kitch_sq  \\\nindex                -0.012507  0.009636   -0.002914 -0.022539  0.002812   \nid                   -0.011584  0.000259   -0.007040  0.006173  0.005560   \nfull_sq               0.116645  0.034407   -0.005409  0.691535  0.019433   \nlife_sq               0.112966  0.050486   -0.007568  0.550959  0.007244   \nfloor                 0.454869 -0.010701    0.001240 -0.006587 -0.008726   \nmax_floor             1.000000  0.044594   -0.000277 -0.014639  0.019439   \nmaterial              0.044594  1.000000   -0.004514 -0.024995  0.038784   \nbuild_year           -0.000277 -0.004514    1.000000 -0.008433  0.000584   \nnum_room             -0.014639 -0.024995   -0.008433  1.000000  0.016693   \nkitch_sq              0.019439  0.038784    0.000584  0.016693  1.000000   \napartment condition  -0.071158 -0.030843    0.301551  0.081749  0.047418   \nsub_area              0.026302 -0.007386   -0.011150 -0.037610 -0.026619   \nprice                 0.091854  0.064922    0.001452  0.475824  0.027555   \nyear                  0.009641 -0.004280   -0.013658  0.023331 -0.004627   \nmonth                -0.004761  0.021340    0.004944 -0.021686 -0.007615   \nprice_index           0.091854  0.064922    0.001452  0.475824  0.027555   \n\n                     apartment condition  sub_area     price      year  \\\nindex                           0.001262 -0.004009 -0.003761  0.003320   \nid                              0.007588  0.009514  0.006902 -0.012562   \nfull_sq                        -0.089916  0.015821  0.337113  0.020871   \nlife_sq                        -0.173063  0.080838  0.415291  0.040929   \nfloor                          -0.112670  0.034533  0.117003 -0.014406   \nmax_floor                      -0.071158  0.026302  0.091854  0.009641   \nmaterial                       -0.030843 -0.007386  0.064922 -0.004280   \nbuild_year                      0.301551 -0.011150  0.001452 -0.013658   \nnum_room                        0.081749 -0.037610  0.475824  0.023331   \nkitch_sq                        0.047418 -0.026619  0.027555 -0.004627   \napartment condition             1.000000 -0.218589  0.122427 -0.105654   \nsub_area                       -0.218589  1.000000 -0.087612  0.031583   \nprice                           0.122427 -0.087612  1.000000  0.117167   \nyear                           -0.105654  0.031583  0.117167  1.000000   \nmonth                           0.010495  0.007505 -0.023656 -0.305783   \nprice_index                     0.122427 -0.087612  1.000000  0.117167   \n\n                        month  price_index  \nindex               -0.011307    -0.003761  \nid                   0.006288     0.006902  \nfull_sq             -0.005540     0.337113  \nlife_sq             -0.001437     0.415291  \nfloor                0.001930     0.117003  \nmax_floor           -0.004761     0.091854  \nmaterial             0.021340     0.064922  \nbuild_year           0.004944     0.001452  \nnum_room            -0.021686     0.475824  \nkitch_sq            -0.007615     0.027555  \napartment condition  0.010495     0.122427  \nsub_area             0.007505    -0.087612  \nprice               -0.023656     1.000000  \nyear                -0.305783     0.117167  \nmonth                1.000000    -0.023656  \nprice_index         -0.023656     1.000000  ",
      "text/html": "<div>\n<style scoped>\n    .dataframe tbody tr th:only-of-type {\n        vertical-align: middle;\n    }\n\n    .dataframe tbody tr th {\n        vertical-align: top;\n    }\n\n    .dataframe thead th {\n        text-align: right;\n    }\n</style>\n<table border=\"1\" class=\"dataframe\">\n  <thead>\n    <tr style=\"text-align: right;\">\n      <th></th>\n      <th>index</th>\n      <th>id</th>\n      <th>full_sq</th>\n      <th>life_sq</th>\n      <th>floor</th>\n      <th>max_floor</th>\n      <th>material</th>\n      <th>build_year</th>\n      <th>num_room</th>\n      <th>kitch_sq</th>\n      <th>apartment condition</th>\n      <th>sub_area</th>\n      <th>price</th>\n      <th>year</th>\n      <th>month</th>\n      <th>price_index</th>\n    </tr>\n  </thead>\n  <tbody>\n    <tr>\n      <th>index</th>\n      <td>1.000000</td>\n      <td>-0.007740</td>\n      <td>-0.002836</td>\n      <td>-0.006536</td>\n      <td>-0.006873</td>\n      <td>-0.012507</td>\n      <td>0.009636</td>\n      <td>-0.002914</td>\n      <td>-0.022539</td>\n      <td>0.002812</td>\n      <td>0.001262</td>\n      <td>-0.004009</td>\n      <td>-0.003761</td>\n      <td>0.003320</td>\n      <td>-0.011307</td>\n      <td>-0.003761</td>\n    </tr>\n    <tr>\n      <th>id</th>\n      <td>-0.007740</td>\n      <td>1.000000</td>\n      <td>0.011015</td>\n      <td>0.012010</td>\n      <td>0.000112</td>\n      <td>-0.011584</td>\n      <td>0.000259</td>\n      <td>-0.007040</td>\n      <td>0.006173</td>\n      <td>0.005560</td>\n      <td>0.007588</td>\n      <td>0.009514</td>\n      <td>0.006902</td>\n      <td>-0.012562</td>\n      <td>0.006288</td>\n      <td>0.006902</td>\n    </tr>\n    <tr>\n      <th>full_sq</th>\n      <td>-0.002836</td>\n      <td>0.011015</td>\n      <td>1.000000</td>\n      <td>0.390299</td>\n      <td>0.088004</td>\n      <td>0.116645</td>\n      <td>0.034407</td>\n      <td>-0.005409</td>\n      <td>0.691535</td>\n      <td>0.019433</td>\n      <td>-0.089916</td>\n      <td>0.015821</td>\n      <td>0.337113</td>\n      <td>0.020871</td>\n      <td>-0.005540</td>\n      <td>0.337113</td>\n    </tr>\n    <tr>\n      <th>life_sq</th>\n      <td>-0.006536</td>\n      <td>0.012010</td>\n      <td>0.390299</td>\n      <td>1.000000</td>\n      <td>0.110223</td>\n      <td>0.112966</td>\n      <td>0.050486</td>\n      <td>-0.007568</td>\n      <td>0.550959</td>\n      <td>0.007244</td>\n      <td>-0.173063</td>\n      <td>0.080838</td>\n      <td>0.415291</td>\n      <td>0.040929</td>\n      <td>-0.001437</td>\n      <td>0.415291</td>\n    </tr>\n    <tr>\n      <th>floor</th>\n      <td>-0.006873</td>\n      <td>0.000112</td>\n      <td>0.088004</td>\n      <td>0.110223</td>\n      <td>1.000000</td>\n      <td>0.454869</td>\n      <td>-0.010701</td>\n      <td>0.001240</td>\n      <td>-0.006587</td>\n      <td>-0.008726</td>\n      <td>-0.112670</td>\n      <td>0.034533</td>\n      <td>0.117003</td>\n      <td>-0.014406</td>\n      <td>0.001930</td>\n      <td>0.117003</td>\n    </tr>\n    <tr>\n      <th>max_floor</th>\n      <td>-0.012507</td>\n      <td>-0.011584</td>\n      <td>0.116645</td>\n      <td>0.112966</td>\n      <td>0.454869</td>\n      <td>1.000000</td>\n      <td>0.044594</td>\n      <td>-0.000277</td>\n      <td>-0.014639</td>\n      <td>0.019439</td>\n      <td>-0.071158</td>\n      <td>0.026302</td>\n      <td>0.091854</td>\n      <td>0.009641</td>\n      <td>-0.004761</td>\n      <td>0.091854</td>\n    </tr>\n    <tr>\n      <th>material</th>\n      <td>0.009636</td>\n      <td>0.000259</td>\n      <td>0.034407</td>\n      <td>0.050486</td>\n      <td>-0.010701</td>\n      <td>0.044594</td>\n      <td>1.000000</td>\n      <td>-0.004514</td>\n      <td>-0.024995</td>\n      <td>0.038784</td>\n      <td>-0.030843</td>\n      <td>-0.007386</td>\n      <td>0.064922</td>\n      <td>-0.004280</td>\n      <td>0.021340</td>\n      <td>0.064922</td>\n    </tr>\n    <tr>\n      <th>build_year</th>\n      <td>-0.002914</td>\n      <td>-0.007040</td>\n      <td>-0.005409</td>\n      <td>-0.007568</td>\n      <td>0.001240</td>\n      <td>-0.000277</td>\n      <td>-0.004514</td>\n      <td>1.000000</td>\n      <td>-0.008433</td>\n      <td>0.000584</td>\n      <td>0.301551</td>\n      <td>-0.011150</td>\n      <td>0.001452</td>\n      <td>-0.013658</td>\n      <td>0.004944</td>\n      <td>0.001452</td>\n    </tr>\n    <tr>\n      <th>num_room</th>\n      <td>-0.022539</td>\n      <td>0.006173</td>\n      <td>0.691535</td>\n      <td>0.550959</td>\n      <td>-0.006587</td>\n      <td>-0.014639</td>\n      <td>-0.024995</td>\n      <td>-0.008433</td>\n      <td>1.000000</td>\n      <td>0.016693</td>\n      <td>0.081749</td>\n      <td>-0.037610</td>\n      <td>0.475824</td>\n      <td>0.023331</td>\n      <td>-0.021686</td>\n      <td>0.475824</td>\n    </tr>\n    <tr>\n      <th>kitch_sq</th>\n      <td>0.002812</td>\n      <td>0.005560</td>\n      <td>0.019433</td>\n      <td>0.007244</td>\n      <td>-0.008726</td>\n      <td>0.019439</td>\n      <td>0.038784</td>\n      <td>0.000584</td>\n      <td>0.016693</td>\n      <td>1.000000</td>\n      <td>0.047418</td>\n      <td>-0.026619</td>\n      <td>0.027555</td>\n      <td>-0.004627</td>\n      <td>-0.007615</td>\n      <td>0.027555</td>\n    </tr>\n    <tr>\n      <th>apartment condition</th>\n      <td>0.001262</td>\n      <td>0.007588</td>\n      <td>-0.089916</td>\n      <td>-0.173063</td>\n      <td>-0.112670</td>\n      <td>-0.071158</td>\n      <td>-0.030843</td>\n      <td>0.301551</td>\n      <td>0.081749</td>\n      <td>0.047418</td>\n      <td>1.000000</td>\n      <td>-0.218589</td>\n      <td>0.122427</td>\n      <td>-0.105654</td>\n      <td>0.010495</td>\n      <td>0.122427</td>\n    </tr>\n    <tr>\n      <th>sub_area</th>\n      <td>-0.004009</td>\n      <td>0.009514</td>\n      <td>0.015821</td>\n      <td>0.080838</td>\n      <td>0.034533</td>\n      <td>0.026302</td>\n      <td>-0.007386</td>\n      <td>-0.011150</td>\n      <td>-0.037610</td>\n      <td>-0.026619</td>\n      <td>-0.218589</td>\n      <td>1.000000</td>\n      <td>-0.087612</td>\n      <td>0.031583</td>\n      <td>0.007505</td>\n      <td>-0.087612</td>\n    </tr>\n    <tr>\n      <th>price</th>\n      <td>-0.003761</td>\n      <td>0.006902</td>\n      <td>0.337113</td>\n      <td>0.415291</td>\n      <td>0.117003</td>\n      <td>0.091854</td>\n      <td>0.064922</td>\n      <td>0.001452</td>\n      <td>0.475824</td>\n      <td>0.027555</td>\n      <td>0.122427</td>\n      <td>-0.087612</td>\n      <td>1.000000</td>\n      <td>0.117167</td>\n      <td>-0.023656</td>\n      <td>1.000000</td>\n    </tr>\n    <tr>\n      <th>year</th>\n      <td>0.003320</td>\n      <td>-0.012562</td>\n      <td>0.020871</td>\n      <td>0.040929</td>\n      <td>-0.014406</td>\n      <td>0.009641</td>\n      <td>-0.004280</td>\n      <td>-0.013658</td>\n      <td>0.023331</td>\n      <td>-0.004627</td>\n      <td>-0.105654</td>\n      <td>0.031583</td>\n      <td>0.117167</td>\n      <td>1.000000</td>\n      <td>-0.305783</td>\n      <td>0.117167</td>\n    </tr>\n    <tr>\n      <th>month</th>\n      <td>-0.011307</td>\n      <td>0.006288</td>\n      <td>-0.005540</td>\n      <td>-0.001437</td>\n      <td>0.001930</td>\n      <td>-0.004761</td>\n      <td>0.021340</td>\n      <td>0.004944</td>\n      <td>-0.021686</td>\n      <td>-0.007615</td>\n      <td>0.010495</td>\n      <td>0.007505</td>\n      <td>-0.023656</td>\n      <td>-0.305783</td>\n      <td>1.000000</td>\n      <td>-0.023656</td>\n    </tr>\n    <tr>\n      <th>price_index</th>\n      <td>-0.003761</td>\n      <td>0.006902</td>\n      <td>0.337113</td>\n      <td>0.415291</td>\n      <td>0.117003</td>\n      <td>0.091854</td>\n      <td>0.064922</td>\n      <td>0.001452</td>\n      <td>0.475824</td>\n      <td>0.027555</td>\n      <td>0.122427</td>\n      <td>-0.087612</td>\n      <td>1.000000</td>\n      <td>0.117167</td>\n      <td>-0.023656</td>\n      <td>1.000000</td>\n    </tr>\n  </tbody>\n</table>\n</div>"
     },
     "execution_count": 78,
     "metadata": {},
     "output_type": "execute_result"
    }
   ],
   "source": [
    "train_main_df.corr()"
   ],
   "metadata": {
    "collapsed": false,
    "pycharm": {
     "name": "#%%\n"
    }
   }
  },
  {
   "cell_type": "code",
   "execution_count": 79,
   "outputs": [
    {
     "data": {
      "text/plain": "       index     id  timestamp  full_sq  life_sq  floor  max_floor  material  \\\n6          6  82217 2013-01-14       58      NaN   13.0        NaN       NaN   \n7          7  35570 2013-09-19       63      NaN    3.0        NaN       NaN   \n8          8  27294 2014-10-25      137      NaN   18.0       18.0       1.0   \n9          9  92932 2015-04-23       73      NaN    2.0        1.0       6.0   \n12        12  90487 2013-10-08       64      NaN    1.0        9.0       1.0   \n...      ...    ...        ...      ...      ...    ...        ...       ...   \n28982  28982  84395 2013-07-01       61      NaN    2.0        NaN       NaN   \n28991  28991  88577 2015-02-10       59      NaN   10.0       17.0       1.0   \n28994  28994  91012 2013-06-08      102      NaN   15.0        NaN       NaN   \n28995  28995  85589 2013-05-08       58      NaN    2.0        NaN       NaN   \n28996  28996  11345 2014-04-12       38      NaN    9.0       17.0       1.0   \n\n       build_year  num_room  kitch_sq  apartment condition  sub_area  \\\n6             NaN       NaN       NaN                  NaN        94   \n7             NaN       NaN       NaN                  NaN        72   \n8          2014.0       3.0       1.0                  1.0        32   \n9             NaN       2.0       1.0                  NaN        94   \n12            NaN       2.0       1.0                  NaN       102   \n...           ...       ...       ...                  ...       ...   \n28982         NaN       NaN       NaN                  NaN        86   \n28991         NaN       2.0      10.0                  1.0        69   \n28994         NaN       NaN       NaN                  NaN        94   \n28995         NaN       NaN       NaN                  NaN       101   \n28996         NaN       1.0       1.0                  NaN       134   \n\n            price  year  month year_month  price_index  \n6       5431700.0  2013      1    2013-01    5431700.0  \n7       6214900.0  2013      9    2013-09    6214900.0  \n8      20017600.0  2014     10    2014-10   20017600.0  \n9       8692600.0  2015      4    2015-04    8692600.0  \n12      4961200.0  2013     10    2013-10    4961200.0  \n...           ...   ...    ...        ...          ...  \n28982   5230000.0  2013      7    2013-07    5230000.0  \n28991  11028800.0  2015      2    2015-02   11028800.0  \n28994   8358500.0  2013      6    2013-06    8358500.0  \n28995   4330300.0  2013      5    2013-05    4330300.0  \n28996   4779900.0  2014      4    2014-04    4779900.0  \n\n[6065 rows x 18 columns]",
      "text/html": "<div>\n<style scoped>\n    .dataframe tbody tr th:only-of-type {\n        vertical-align: middle;\n    }\n\n    .dataframe tbody tr th {\n        vertical-align: top;\n    }\n\n    .dataframe thead th {\n        text-align: right;\n    }\n</style>\n<table border=\"1\" class=\"dataframe\">\n  <thead>\n    <tr style=\"text-align: right;\">\n      <th></th>\n      <th>index</th>\n      <th>id</th>\n      <th>timestamp</th>\n      <th>full_sq</th>\n      <th>life_sq</th>\n      <th>floor</th>\n      <th>max_floor</th>\n      <th>material</th>\n      <th>build_year</th>\n      <th>num_room</th>\n      <th>kitch_sq</th>\n      <th>apartment condition</th>\n      <th>sub_area</th>\n      <th>price</th>\n      <th>year</th>\n      <th>month</th>\n      <th>year_month</th>\n      <th>price_index</th>\n    </tr>\n  </thead>\n  <tbody>\n    <tr>\n      <th>6</th>\n      <td>6</td>\n      <td>82217</td>\n      <td>2013-01-14</td>\n      <td>58</td>\n      <td>NaN</td>\n      <td>13.0</td>\n      <td>NaN</td>\n      <td>NaN</td>\n      <td>NaN</td>\n      <td>NaN</td>\n      <td>NaN</td>\n      <td>NaN</td>\n      <td>94</td>\n      <td>5431700.0</td>\n      <td>2013</td>\n      <td>1</td>\n      <td>2013-01</td>\n      <td>5431700.0</td>\n    </tr>\n    <tr>\n      <th>7</th>\n      <td>7</td>\n      <td>35570</td>\n      <td>2013-09-19</td>\n      <td>63</td>\n      <td>NaN</td>\n      <td>3.0</td>\n      <td>NaN</td>\n      <td>NaN</td>\n      <td>NaN</td>\n      <td>NaN</td>\n      <td>NaN</td>\n      <td>NaN</td>\n      <td>72</td>\n      <td>6214900.0</td>\n      <td>2013</td>\n      <td>9</td>\n      <td>2013-09</td>\n      <td>6214900.0</td>\n    </tr>\n    <tr>\n      <th>8</th>\n      <td>8</td>\n      <td>27294</td>\n      <td>2014-10-25</td>\n      <td>137</td>\n      <td>NaN</td>\n      <td>18.0</td>\n      <td>18.0</td>\n      <td>1.0</td>\n      <td>2014.0</td>\n      <td>3.0</td>\n      <td>1.0</td>\n      <td>1.0</td>\n      <td>32</td>\n      <td>20017600.0</td>\n      <td>2014</td>\n      <td>10</td>\n      <td>2014-10</td>\n      <td>20017600.0</td>\n    </tr>\n    <tr>\n      <th>9</th>\n      <td>9</td>\n      <td>92932</td>\n      <td>2015-04-23</td>\n      <td>73</td>\n      <td>NaN</td>\n      <td>2.0</td>\n      <td>1.0</td>\n      <td>6.0</td>\n      <td>NaN</td>\n      <td>2.0</td>\n      <td>1.0</td>\n      <td>NaN</td>\n      <td>94</td>\n      <td>8692600.0</td>\n      <td>2015</td>\n      <td>4</td>\n      <td>2015-04</td>\n      <td>8692600.0</td>\n    </tr>\n    <tr>\n      <th>12</th>\n      <td>12</td>\n      <td>90487</td>\n      <td>2013-10-08</td>\n      <td>64</td>\n      <td>NaN</td>\n      <td>1.0</td>\n      <td>9.0</td>\n      <td>1.0</td>\n      <td>NaN</td>\n      <td>2.0</td>\n      <td>1.0</td>\n      <td>NaN</td>\n      <td>102</td>\n      <td>4961200.0</td>\n      <td>2013</td>\n      <td>10</td>\n      <td>2013-10</td>\n      <td>4961200.0</td>\n    </tr>\n    <tr>\n      <th>...</th>\n      <td>...</td>\n      <td>...</td>\n      <td>...</td>\n      <td>...</td>\n      <td>...</td>\n      <td>...</td>\n      <td>...</td>\n      <td>...</td>\n      <td>...</td>\n      <td>...</td>\n      <td>...</td>\n      <td>...</td>\n      <td>...</td>\n      <td>...</td>\n      <td>...</td>\n      <td>...</td>\n      <td>...</td>\n      <td>...</td>\n    </tr>\n    <tr>\n      <th>28982</th>\n      <td>28982</td>\n      <td>84395</td>\n      <td>2013-07-01</td>\n      <td>61</td>\n      <td>NaN</td>\n      <td>2.0</td>\n      <td>NaN</td>\n      <td>NaN</td>\n      <td>NaN</td>\n      <td>NaN</td>\n      <td>NaN</td>\n      <td>NaN</td>\n      <td>86</td>\n      <td>5230000.0</td>\n      <td>2013</td>\n      <td>7</td>\n      <td>2013-07</td>\n      <td>5230000.0</td>\n    </tr>\n    <tr>\n      <th>28991</th>\n      <td>28991</td>\n      <td>88577</td>\n      <td>2015-02-10</td>\n      <td>59</td>\n      <td>NaN</td>\n      <td>10.0</td>\n      <td>17.0</td>\n      <td>1.0</td>\n      <td>NaN</td>\n      <td>2.0</td>\n      <td>10.0</td>\n      <td>1.0</td>\n      <td>69</td>\n      <td>11028800.0</td>\n      <td>2015</td>\n      <td>2</td>\n      <td>2015-02</td>\n      <td>11028800.0</td>\n    </tr>\n    <tr>\n      <th>28994</th>\n      <td>28994</td>\n      <td>91012</td>\n      <td>2013-06-08</td>\n      <td>102</td>\n      <td>NaN</td>\n      <td>15.0</td>\n      <td>NaN</td>\n      <td>NaN</td>\n      <td>NaN</td>\n      <td>NaN</td>\n      <td>NaN</td>\n      <td>NaN</td>\n      <td>94</td>\n      <td>8358500.0</td>\n      <td>2013</td>\n      <td>6</td>\n      <td>2013-06</td>\n      <td>8358500.0</td>\n    </tr>\n    <tr>\n      <th>28995</th>\n      <td>28995</td>\n      <td>85589</td>\n      <td>2013-05-08</td>\n      <td>58</td>\n      <td>NaN</td>\n      <td>2.0</td>\n      <td>NaN</td>\n      <td>NaN</td>\n      <td>NaN</td>\n      <td>NaN</td>\n      <td>NaN</td>\n      <td>NaN</td>\n      <td>101</td>\n      <td>4330300.0</td>\n      <td>2013</td>\n      <td>5</td>\n      <td>2013-05</td>\n      <td>4330300.0</td>\n    </tr>\n    <tr>\n      <th>28996</th>\n      <td>28996</td>\n      <td>11345</td>\n      <td>2014-04-12</td>\n      <td>38</td>\n      <td>NaN</td>\n      <td>9.0</td>\n      <td>17.0</td>\n      <td>1.0</td>\n      <td>NaN</td>\n      <td>1.0</td>\n      <td>1.0</td>\n      <td>NaN</td>\n      <td>134</td>\n      <td>4779900.0</td>\n      <td>2014</td>\n      <td>4</td>\n      <td>2014-04</td>\n      <td>4779900.0</td>\n    </tr>\n  </tbody>\n</table>\n<p>6065 rows × 18 columns</p>\n</div>"
     },
     "execution_count": 79,
     "metadata": {},
     "output_type": "execute_result"
    }
   ],
   "source": [
    "train_main_df[train_main_df['life_sq'].isna() == True]"
   ],
   "metadata": {
    "collapsed": false,
    "pycharm": {
     "name": "#%%\n"
    }
   }
  },
  {
   "cell_type": "code",
   "execution_count": 80,
   "outputs": [],
   "source": [
    "train_main_df_filled = train_main_df.sort_values(by=['full_sq', 'num_room']).reset_index(drop=True)"
   ],
   "metadata": {
    "collapsed": false,
    "pycharm": {
     "name": "#%%\n"
    }
   }
  },
  {
   "cell_type": "code",
   "execution_count": 81,
   "outputs": [],
   "source": [
    "train_main_df_filled['life_sq'] = train_main_df_filled['life_sq'].fillna(method=\"ffill\")"
   ],
   "metadata": {
    "collapsed": false,
    "pycharm": {
     "name": "#%%\n"
    }
   }
  },
  {
   "cell_type": "code",
   "execution_count": 82,
   "outputs": [
    {
     "data": {
      "text/plain": "       index     id  timestamp  full_sq  life_sq  floor  max_floor  material  \\\n0       9664  47907 2014-06-01        0      0.0    0.0        0.0       1.0   \n1      25390  86720 2014-11-23        0     77.0    4.0       17.0       1.0   \n2       3095  16489 2014-06-13        1      1.0    1.0        1.0       1.0   \n3       6097  69823 2015-01-12        1      1.0    1.0        1.0       1.0   \n4       8028  55095 2014-05-02        1      1.0    1.0        1.0       4.0   \n...      ...    ...        ...      ...      ...    ...        ...       ...   \n28995  13473  41202 2014-05-15      635     27.0    3.0       17.0       1.0   \n28996   9283  49518 2013-02-12      636     38.0    3.0        NaN       NaN   \n28997   6172  32115 2014-10-20      639    637.0   18.0       19.0       4.0   \n28998  18260  95936 2012-07-16      731     44.0   12.0        NaN       NaN   \n28999  19303  95156 2012-09-19     5329     22.0   13.0        NaN       NaN   \n\n       build_year  num_room  kitch_sq  apartment condition  sub_area  \\\n0             0.0       0.0       0.0                  1.0       105   \n1             0.0       3.0       0.0                  1.0       103   \n2             1.0       1.0       1.0                  3.0       134   \n3             1.0       1.0       1.0                  1.0        71   \n4             1.0       1.0       1.0                  3.0       105   \n...           ...       ...       ...                  ...       ...   \n28995         NaN       2.0       0.0                  NaN        72   \n28996         NaN       NaN       NaN                  NaN        55   \n28997      2016.0       2.0      10.0                  1.0       134   \n28998         NaN       NaN       NaN                  NaN       133   \n28999         NaN       NaN       NaN                  NaN        10   \n\n            price  year  month year_month  price_index  \n0       4531200.0  2014      6    2014-06    4531200.0  \n1       8396100.0  2014     11    2014-11    8396100.0  \n2       6715700.0  2014      6    2014-06    6715700.0  \n3      16529100.0  2015      1    2015-01   16529100.0  \n4       8688600.0  2014      5    2014-05    8688600.0  \n...           ...   ...    ...        ...          ...  \n28995   6138600.0  2014      5    2014-05    6138600.0  \n28996  11148600.0  2013      2    2013-02   11148600.0  \n28997   5150400.0  2014     10    2014-10    5150400.0  \n28998  13753500.0  2012      7    2012-07   13753500.0  \n28999   6841300.0  2012      9    2012-09    6841300.0  \n\n[29000 rows x 18 columns]",
      "text/html": "<div>\n<style scoped>\n    .dataframe tbody tr th:only-of-type {\n        vertical-align: middle;\n    }\n\n    .dataframe tbody tr th {\n        vertical-align: top;\n    }\n\n    .dataframe thead th {\n        text-align: right;\n    }\n</style>\n<table border=\"1\" class=\"dataframe\">\n  <thead>\n    <tr style=\"text-align: right;\">\n      <th></th>\n      <th>index</th>\n      <th>id</th>\n      <th>timestamp</th>\n      <th>full_sq</th>\n      <th>life_sq</th>\n      <th>floor</th>\n      <th>max_floor</th>\n      <th>material</th>\n      <th>build_year</th>\n      <th>num_room</th>\n      <th>kitch_sq</th>\n      <th>apartment condition</th>\n      <th>sub_area</th>\n      <th>price</th>\n      <th>year</th>\n      <th>month</th>\n      <th>year_month</th>\n      <th>price_index</th>\n    </tr>\n  </thead>\n  <tbody>\n    <tr>\n      <th>0</th>\n      <td>9664</td>\n      <td>47907</td>\n      <td>2014-06-01</td>\n      <td>0</td>\n      <td>0.0</td>\n      <td>0.0</td>\n      <td>0.0</td>\n      <td>1.0</td>\n      <td>0.0</td>\n      <td>0.0</td>\n      <td>0.0</td>\n      <td>1.0</td>\n      <td>105</td>\n      <td>4531200.0</td>\n      <td>2014</td>\n      <td>6</td>\n      <td>2014-06</td>\n      <td>4531200.0</td>\n    </tr>\n    <tr>\n      <th>1</th>\n      <td>25390</td>\n      <td>86720</td>\n      <td>2014-11-23</td>\n      <td>0</td>\n      <td>77.0</td>\n      <td>4.0</td>\n      <td>17.0</td>\n      <td>1.0</td>\n      <td>0.0</td>\n      <td>3.0</td>\n      <td>0.0</td>\n      <td>1.0</td>\n      <td>103</td>\n      <td>8396100.0</td>\n      <td>2014</td>\n      <td>11</td>\n      <td>2014-11</td>\n      <td>8396100.0</td>\n    </tr>\n    <tr>\n      <th>2</th>\n      <td>3095</td>\n      <td>16489</td>\n      <td>2014-06-13</td>\n      <td>1</td>\n      <td>1.0</td>\n      <td>1.0</td>\n      <td>1.0</td>\n      <td>1.0</td>\n      <td>1.0</td>\n      <td>1.0</td>\n      <td>1.0</td>\n      <td>3.0</td>\n      <td>134</td>\n      <td>6715700.0</td>\n      <td>2014</td>\n      <td>6</td>\n      <td>2014-06</td>\n      <td>6715700.0</td>\n    </tr>\n    <tr>\n      <th>3</th>\n      <td>6097</td>\n      <td>69823</td>\n      <td>2015-01-12</td>\n      <td>1</td>\n      <td>1.0</td>\n      <td>1.0</td>\n      <td>1.0</td>\n      <td>1.0</td>\n      <td>1.0</td>\n      <td>1.0</td>\n      <td>1.0</td>\n      <td>1.0</td>\n      <td>71</td>\n      <td>16529100.0</td>\n      <td>2015</td>\n      <td>1</td>\n      <td>2015-01</td>\n      <td>16529100.0</td>\n    </tr>\n    <tr>\n      <th>4</th>\n      <td>8028</td>\n      <td>55095</td>\n      <td>2014-05-02</td>\n      <td>1</td>\n      <td>1.0</td>\n      <td>1.0</td>\n      <td>1.0</td>\n      <td>4.0</td>\n      <td>1.0</td>\n      <td>1.0</td>\n      <td>1.0</td>\n      <td>3.0</td>\n      <td>105</td>\n      <td>8688600.0</td>\n      <td>2014</td>\n      <td>5</td>\n      <td>2014-05</td>\n      <td>8688600.0</td>\n    </tr>\n    <tr>\n      <th>...</th>\n      <td>...</td>\n      <td>...</td>\n      <td>...</td>\n      <td>...</td>\n      <td>...</td>\n      <td>...</td>\n      <td>...</td>\n      <td>...</td>\n      <td>...</td>\n      <td>...</td>\n      <td>...</td>\n      <td>...</td>\n      <td>...</td>\n      <td>...</td>\n      <td>...</td>\n      <td>...</td>\n      <td>...</td>\n      <td>...</td>\n    </tr>\n    <tr>\n      <th>28995</th>\n      <td>13473</td>\n      <td>41202</td>\n      <td>2014-05-15</td>\n      <td>635</td>\n      <td>27.0</td>\n      <td>3.0</td>\n      <td>17.0</td>\n      <td>1.0</td>\n      <td>NaN</td>\n      <td>2.0</td>\n      <td>0.0</td>\n      <td>NaN</td>\n      <td>72</td>\n      <td>6138600.0</td>\n      <td>2014</td>\n      <td>5</td>\n      <td>2014-05</td>\n      <td>6138600.0</td>\n    </tr>\n    <tr>\n      <th>28996</th>\n      <td>9283</td>\n      <td>49518</td>\n      <td>2013-02-12</td>\n      <td>636</td>\n      <td>38.0</td>\n      <td>3.0</td>\n      <td>NaN</td>\n      <td>NaN</td>\n      <td>NaN</td>\n      <td>NaN</td>\n      <td>NaN</td>\n      <td>NaN</td>\n      <td>55</td>\n      <td>11148600.0</td>\n      <td>2013</td>\n      <td>2</td>\n      <td>2013-02</td>\n      <td>11148600.0</td>\n    </tr>\n    <tr>\n      <th>28997</th>\n      <td>6172</td>\n      <td>32115</td>\n      <td>2014-10-20</td>\n      <td>639</td>\n      <td>637.0</td>\n      <td>18.0</td>\n      <td>19.0</td>\n      <td>4.0</td>\n      <td>2016.0</td>\n      <td>2.0</td>\n      <td>10.0</td>\n      <td>1.0</td>\n      <td>134</td>\n      <td>5150400.0</td>\n      <td>2014</td>\n      <td>10</td>\n      <td>2014-10</td>\n      <td>5150400.0</td>\n    </tr>\n    <tr>\n      <th>28998</th>\n      <td>18260</td>\n      <td>95936</td>\n      <td>2012-07-16</td>\n      <td>731</td>\n      <td>44.0</td>\n      <td>12.0</td>\n      <td>NaN</td>\n      <td>NaN</td>\n      <td>NaN</td>\n      <td>NaN</td>\n      <td>NaN</td>\n      <td>NaN</td>\n      <td>133</td>\n      <td>13753500.0</td>\n      <td>2012</td>\n      <td>7</td>\n      <td>2012-07</td>\n      <td>13753500.0</td>\n    </tr>\n    <tr>\n      <th>28999</th>\n      <td>19303</td>\n      <td>95156</td>\n      <td>2012-09-19</td>\n      <td>5329</td>\n      <td>22.0</td>\n      <td>13.0</td>\n      <td>NaN</td>\n      <td>NaN</td>\n      <td>NaN</td>\n      <td>NaN</td>\n      <td>NaN</td>\n      <td>NaN</td>\n      <td>10</td>\n      <td>6841300.0</td>\n      <td>2012</td>\n      <td>9</td>\n      <td>2012-09</td>\n      <td>6841300.0</td>\n    </tr>\n  </tbody>\n</table>\n<p>29000 rows × 18 columns</p>\n</div>"
     },
     "execution_count": 82,
     "metadata": {},
     "output_type": "execute_result"
    }
   ],
   "source": [
    "train_main_df_filled"
   ],
   "metadata": {
    "collapsed": false,
    "pycharm": {
     "name": "#%%\n"
    }
   }
  },
  {
   "cell_type": "code",
   "execution_count": 83,
   "outputs": [
    {
     "data": {
      "text/plain": "0.3371130874205789"
     },
     "execution_count": 83,
     "metadata": {},
     "output_type": "execute_result"
    }
   ],
   "source": [
    "train_main_df_filled['price'].corr(train_main_df_filled['full_sq'])"
   ],
   "metadata": {
    "collapsed": false,
    "pycharm": {
     "name": "#%%\n"
    }
   }
  },
  {
   "cell_type": "code",
   "execution_count": 84,
   "outputs": [
    {
     "data": {
      "text/plain": "0.33711308742057877"
     },
     "execution_count": 84,
     "metadata": {},
     "output_type": "execute_result"
    }
   ],
   "source": [
    "train_main_df['price'].corr(train_main_df['full_sq'])"
   ],
   "metadata": {
    "collapsed": false,
    "pycharm": {
     "name": "#%%\n"
    }
   }
  },
  {
   "cell_type": "code",
   "execution_count": 85,
   "outputs": [],
   "source": [
    "whole_train = pd.read_csv('HW_train_additional_data.csv')"
   ],
   "metadata": {
    "collapsed": false,
    "pycharm": {
     "name": "#%%\n"
    }
   }
  },
  {
   "cell_type": "code",
   "execution_count": 86,
   "outputs": [
    {
     "name": "stdout",
     "output_type": "stream",
     "text": [
      "<class 'pandas.core.frame.DataFrame'>\n",
      "RangeIndex: 29000 entries, 0 to 28999\n",
      "Data columns (total 19 columns):\n",
      " #   Column                           Non-Null Count  Dtype  \n",
      "---  ------                           --------------  -----  \n",
      " 0   id                               29000 non-null  int64  \n",
      " 1   population                       29000 non-null  int64  \n",
      " 2   indust_part                      29000 non-null  float64\n",
      " 3   preschool_facilities             29000 non-null  int64  \n",
      " 4   school_facilities                29000 non-null  int64  \n",
      " 5   hospital_beds_raion              15253 non-null  float64\n",
      " 6   healthcare_facilities            29000 non-null  int64  \n",
      " 7   university_num                   29000 non-null  int64  \n",
      " 8   sport_objects_facilities         29000 non-null  int64  \n",
      " 9   additional_education_facilities  29000 non-null  int64  \n",
      " 10  culture_objects_facilities       29000 non-null  int64  \n",
      " 11  shopping_centers_facilities      29000 non-null  int64  \n",
      " 12  office_num                       29000 non-null  int64  \n",
      " 13  green_part                       29000 non-null  float64\n",
      " 14  prom_part                        29000 non-null  float64\n",
      " 15  cafe_count                       29000 non-null  int64  \n",
      " 16  church_facilities                29000 non-null  int64  \n",
      " 17  mosque                           29000 non-null  int64  \n",
      " 18  leisure_facilities               29000 non-null  int64  \n",
      "dtypes: float64(4), int64(15)\n",
      "memory usage: 4.2 MB\n"
     ]
    }
   ],
   "source": [
    "whole_train.info()"
   ],
   "metadata": {
    "collapsed": false,
    "pycharm": {
     "name": "#%%\n"
    }
   }
  },
  {
   "cell_type": "code",
   "execution_count": 87,
   "outputs": [],
   "source": [
    "whole_train = whole_train.append(train_main_df_filled)"
   ],
   "metadata": {
    "collapsed": false,
    "pycharm": {
     "name": "#%%\n"
    }
   }
  },
  {
   "cell_type": "code",
   "execution_count": 88,
   "outputs": [
    {
     "name": "stdout",
     "output_type": "stream",
     "text": [
      "<class 'pandas.core.frame.DataFrame'>\n",
      "Int64Index: 58000 entries, 0 to 28999\n",
      "Data columns (total 36 columns):\n",
      " #   Column                           Non-Null Count  Dtype         \n",
      "---  ------                           --------------  -----         \n",
      " 0   id                               58000 non-null  int64         \n",
      " 1   population                       29000 non-null  float64       \n",
      " 2   indust_part                      29000 non-null  float64       \n",
      " 3   preschool_facilities             29000 non-null  float64       \n",
      " 4   school_facilities                29000 non-null  float64       \n",
      " 5   hospital_beds_raion              15253 non-null  float64       \n",
      " 6   healthcare_facilities            29000 non-null  float64       \n",
      " 7   university_num                   29000 non-null  float64       \n",
      " 8   sport_objects_facilities         29000 non-null  float64       \n",
      " 9   additional_education_facilities  29000 non-null  float64       \n",
      " 10  culture_objects_facilities       29000 non-null  float64       \n",
      " 11  shopping_centers_facilities      29000 non-null  float64       \n",
      " 12  office_num                       29000 non-null  float64       \n",
      " 13  green_part                       29000 non-null  float64       \n",
      " 14  prom_part                        29000 non-null  float64       \n",
      " 15  cafe_count                       29000 non-null  float64       \n",
      " 16  church_facilities                29000 non-null  float64       \n",
      " 17  mosque                           29000 non-null  float64       \n",
      " 18  leisure_facilities               29000 non-null  float64       \n",
      " 19  index                            29000 non-null  float64       \n",
      " 20  timestamp                        29000 non-null  datetime64[ns]\n",
      " 21  full_sq                          29000 non-null  float64       \n",
      " 22  life_sq                          29000 non-null  float64       \n",
      " 23  floor                            28843 non-null  float64       \n",
      " 24  max_floor                        19887 non-null  float64       \n",
      " 25  material                         19887 non-null  float64       \n",
      " 26  build_year                       16059 non-null  float64       \n",
      " 27  num_room                         19887 non-null  float64       \n",
      " 28  kitch_sq                         19887 non-null  float64       \n",
      " 29  apartment condition              16088 non-null  float64       \n",
      " 30  sub_area                         29000 non-null  float64       \n",
      " 31  price                            29000 non-null  float64       \n",
      " 32  year                             29000 non-null  float64       \n",
      " 33  month                            29000 non-null  float64       \n",
      " 34  year_month                       29000 non-null  object        \n",
      " 35  price_index                      29000 non-null  float64       \n",
      "dtypes: datetime64[ns](1), float64(33), int64(1), object(1)\n",
      "memory usage: 16.4+ MB\n"
     ]
    }
   ],
   "source": [
    "whole_train.info()"
   ],
   "metadata": {
    "collapsed": false,
    "pycharm": {
     "name": "#%%\n"
    }
   }
  },
  {
   "cell_type": "code",
   "execution_count": 89,
   "outputs": [],
   "source": [
    "whole_test = pd.read_csv('HW_test_additional_data.csv')"
   ],
   "metadata": {
    "collapsed": false,
    "pycharm": {
     "name": "#%%\n"
    }
   }
  },
  {
   "cell_type": "code",
   "execution_count": 90,
   "outputs": [],
   "source": [
    "test = pd.read_csv('HW_test_main_data.csv')"
   ],
   "metadata": {
    "collapsed": false,
    "pycharm": {
     "name": "#%%\n"
    }
   }
  },
  {
   "cell_type": "code",
   "execution_count": 91,
   "outputs": [],
   "source": [
    "whole_test = whole_test.append(test)"
   ],
   "metadata": {
    "collapsed": false,
    "pycharm": {
     "name": "#%%\n"
    }
   }
  },
  {
   "cell_type": "code",
   "execution_count": 92,
   "outputs": [
    {
     "data": {
      "text/plain": "        id  population  indust_part  preschool_facilities  school_facilities  \\\n0    30307    247469.0     0.090799                  13.0               14.0   \n1    87380      2546.0     0.034656                   0.0                0.0   \n2    12874      4001.0     0.007122                   0.0                0.0   \n3    57688    129207.0     0.007720                   6.0                6.0   \n4    43433    122873.0     0.175055                   4.0                4.0   \n..     ...         ...          ...                   ...                ...   \n995  28684         NaN          NaN                   NaN                NaN   \n996  65212         NaN          NaN                   NaN                NaN   \n997  11218         NaN          NaN                   NaN                NaN   \n998  57238         NaN          NaN                   NaN                NaN   \n999  26048         NaN          NaN                   NaN                NaN   \n\n     hospital_beds_raion  healthcare_facilities  university_num  \\\n0                    NaN                    5.0             0.0   \n1                    NaN                    0.0             0.0   \n2                    NaN                    0.0             0.0   \n3                    NaN                    0.0             0.0   \n4                    NaN                    1.0             0.0   \n..                   ...                    ...             ...   \n995                  NaN                    NaN             NaN   \n996                  NaN                    NaN             NaN   \n997                  NaN                    NaN             NaN   \n998                  NaN                    NaN             NaN   \n999                  NaN                    NaN             NaN   \n\n     sport_objects_facilities  additional_education_facilities  ...  full_sq  \\\n0                        16.0                             16.0  ...      NaN   \n1                         0.0                              0.0  ...      NaN   \n2                         0.0                              0.0  ...      NaN   \n3                         4.0                              2.0  ...      NaN   \n4                         6.0                              0.0  ...      NaN   \n..                        ...                              ...  ...      ...   \n995                       NaN                              NaN  ...     54.0   \n996                       NaN                              NaN  ...     78.0   \n997                       NaN                              NaN  ...      2.0   \n998                       NaN                              NaN  ...     55.0   \n999                       NaN                              NaN  ...     41.0   \n\n     life_sq  floor  max_floor  material  build_year  num_room  kitch_sq  \\\n0        NaN    NaN        NaN       NaN         NaN       NaN       NaN   \n1        NaN    NaN        NaN       NaN         NaN       NaN       NaN   \n2        NaN    NaN        NaN       NaN         NaN       NaN       NaN   \n3        NaN    NaN        NaN       NaN         NaN       NaN       NaN   \n4        NaN    NaN        NaN       NaN         NaN       NaN       NaN   \n..       ...    ...        ...       ...         ...       ...       ...   \n995      NaN    2.0       17.0       1.0         NaN       2.0       1.0   \n996     45.0    5.0       10.0       1.0      1995.0       3.0      10.0   \n997      1.0   26.0        1.0       1.0         1.0       1.0       1.0   \n998     33.0    6.0        NaN       NaN         NaN       NaN       NaN   \n999      NaN    8.0       17.0       1.0         NaN       1.0       1.0   \n\n     apartment condition sub_area  \n0                    NaN      NaN  \n1                    NaN      NaN  \n2                    NaN      NaN  \n3                    NaN      NaN  \n4                    NaN      NaN  \n..                   ...      ...  \n995                  1.0     96.0  \n996                  2.0     60.0  \n997                  1.0     54.0  \n998                  NaN      9.0  \n999                  1.0     72.0  \n\n[2000 rows x 30 columns]",
      "text/html": "<div>\n<style scoped>\n    .dataframe tbody tr th:only-of-type {\n        vertical-align: middle;\n    }\n\n    .dataframe tbody tr th {\n        vertical-align: top;\n    }\n\n    .dataframe thead th {\n        text-align: right;\n    }\n</style>\n<table border=\"1\" class=\"dataframe\">\n  <thead>\n    <tr style=\"text-align: right;\">\n      <th></th>\n      <th>id</th>\n      <th>population</th>\n      <th>indust_part</th>\n      <th>preschool_facilities</th>\n      <th>school_facilities</th>\n      <th>hospital_beds_raion</th>\n      <th>healthcare_facilities</th>\n      <th>university_num</th>\n      <th>sport_objects_facilities</th>\n      <th>additional_education_facilities</th>\n      <th>...</th>\n      <th>full_sq</th>\n      <th>life_sq</th>\n      <th>floor</th>\n      <th>max_floor</th>\n      <th>material</th>\n      <th>build_year</th>\n      <th>num_room</th>\n      <th>kitch_sq</th>\n      <th>apartment condition</th>\n      <th>sub_area</th>\n    </tr>\n  </thead>\n  <tbody>\n    <tr>\n      <th>0</th>\n      <td>30307</td>\n      <td>247469.0</td>\n      <td>0.090799</td>\n      <td>13.0</td>\n      <td>14.0</td>\n      <td>NaN</td>\n      <td>5.0</td>\n      <td>0.0</td>\n      <td>16.0</td>\n      <td>16.0</td>\n      <td>...</td>\n      <td>NaN</td>\n      <td>NaN</td>\n      <td>NaN</td>\n      <td>NaN</td>\n      <td>NaN</td>\n      <td>NaN</td>\n      <td>NaN</td>\n      <td>NaN</td>\n      <td>NaN</td>\n      <td>NaN</td>\n    </tr>\n    <tr>\n      <th>1</th>\n      <td>87380</td>\n      <td>2546.0</td>\n      <td>0.034656</td>\n      <td>0.0</td>\n      <td>0.0</td>\n      <td>NaN</td>\n      <td>0.0</td>\n      <td>0.0</td>\n      <td>0.0</td>\n      <td>0.0</td>\n      <td>...</td>\n      <td>NaN</td>\n      <td>NaN</td>\n      <td>NaN</td>\n      <td>NaN</td>\n      <td>NaN</td>\n      <td>NaN</td>\n      <td>NaN</td>\n      <td>NaN</td>\n      <td>NaN</td>\n      <td>NaN</td>\n    </tr>\n    <tr>\n      <th>2</th>\n      <td>12874</td>\n      <td>4001.0</td>\n      <td>0.007122</td>\n      <td>0.0</td>\n      <td>0.0</td>\n      <td>NaN</td>\n      <td>0.0</td>\n      <td>0.0</td>\n      <td>0.0</td>\n      <td>0.0</td>\n      <td>...</td>\n      <td>NaN</td>\n      <td>NaN</td>\n      <td>NaN</td>\n      <td>NaN</td>\n      <td>NaN</td>\n      <td>NaN</td>\n      <td>NaN</td>\n      <td>NaN</td>\n      <td>NaN</td>\n      <td>NaN</td>\n    </tr>\n    <tr>\n      <th>3</th>\n      <td>57688</td>\n      <td>129207.0</td>\n      <td>0.007720</td>\n      <td>6.0</td>\n      <td>6.0</td>\n      <td>NaN</td>\n      <td>0.0</td>\n      <td>0.0</td>\n      <td>4.0</td>\n      <td>2.0</td>\n      <td>...</td>\n      <td>NaN</td>\n      <td>NaN</td>\n      <td>NaN</td>\n      <td>NaN</td>\n      <td>NaN</td>\n      <td>NaN</td>\n      <td>NaN</td>\n      <td>NaN</td>\n      <td>NaN</td>\n      <td>NaN</td>\n    </tr>\n    <tr>\n      <th>4</th>\n      <td>43433</td>\n      <td>122873.0</td>\n      <td>0.175055</td>\n      <td>4.0</td>\n      <td>4.0</td>\n      <td>NaN</td>\n      <td>1.0</td>\n      <td>0.0</td>\n      <td>6.0</td>\n      <td>0.0</td>\n      <td>...</td>\n      <td>NaN</td>\n      <td>NaN</td>\n      <td>NaN</td>\n      <td>NaN</td>\n      <td>NaN</td>\n      <td>NaN</td>\n      <td>NaN</td>\n      <td>NaN</td>\n      <td>NaN</td>\n      <td>NaN</td>\n    </tr>\n    <tr>\n      <th>...</th>\n      <td>...</td>\n      <td>...</td>\n      <td>...</td>\n      <td>...</td>\n      <td>...</td>\n      <td>...</td>\n      <td>...</td>\n      <td>...</td>\n      <td>...</td>\n      <td>...</td>\n      <td>...</td>\n      <td>...</td>\n      <td>...</td>\n      <td>...</td>\n      <td>...</td>\n      <td>...</td>\n      <td>...</td>\n      <td>...</td>\n      <td>...</td>\n      <td>...</td>\n      <td>...</td>\n    </tr>\n    <tr>\n      <th>995</th>\n      <td>28684</td>\n      <td>NaN</td>\n      <td>NaN</td>\n      <td>NaN</td>\n      <td>NaN</td>\n      <td>NaN</td>\n      <td>NaN</td>\n      <td>NaN</td>\n      <td>NaN</td>\n      <td>NaN</td>\n      <td>...</td>\n      <td>54.0</td>\n      <td>NaN</td>\n      <td>2.0</td>\n      <td>17.0</td>\n      <td>1.0</td>\n      <td>NaN</td>\n      <td>2.0</td>\n      <td>1.0</td>\n      <td>1.0</td>\n      <td>96.0</td>\n    </tr>\n    <tr>\n      <th>996</th>\n      <td>65212</td>\n      <td>NaN</td>\n      <td>NaN</td>\n      <td>NaN</td>\n      <td>NaN</td>\n      <td>NaN</td>\n      <td>NaN</td>\n      <td>NaN</td>\n      <td>NaN</td>\n      <td>NaN</td>\n      <td>...</td>\n      <td>78.0</td>\n      <td>45.0</td>\n      <td>5.0</td>\n      <td>10.0</td>\n      <td>1.0</td>\n      <td>1995.0</td>\n      <td>3.0</td>\n      <td>10.0</td>\n      <td>2.0</td>\n      <td>60.0</td>\n    </tr>\n    <tr>\n      <th>997</th>\n      <td>11218</td>\n      <td>NaN</td>\n      <td>NaN</td>\n      <td>NaN</td>\n      <td>NaN</td>\n      <td>NaN</td>\n      <td>NaN</td>\n      <td>NaN</td>\n      <td>NaN</td>\n      <td>NaN</td>\n      <td>...</td>\n      <td>2.0</td>\n      <td>1.0</td>\n      <td>26.0</td>\n      <td>1.0</td>\n      <td>1.0</td>\n      <td>1.0</td>\n      <td>1.0</td>\n      <td>1.0</td>\n      <td>1.0</td>\n      <td>54.0</td>\n    </tr>\n    <tr>\n      <th>998</th>\n      <td>57238</td>\n      <td>NaN</td>\n      <td>NaN</td>\n      <td>NaN</td>\n      <td>NaN</td>\n      <td>NaN</td>\n      <td>NaN</td>\n      <td>NaN</td>\n      <td>NaN</td>\n      <td>NaN</td>\n      <td>...</td>\n      <td>55.0</td>\n      <td>33.0</td>\n      <td>6.0</td>\n      <td>NaN</td>\n      <td>NaN</td>\n      <td>NaN</td>\n      <td>NaN</td>\n      <td>NaN</td>\n      <td>NaN</td>\n      <td>9.0</td>\n    </tr>\n    <tr>\n      <th>999</th>\n      <td>26048</td>\n      <td>NaN</td>\n      <td>NaN</td>\n      <td>NaN</td>\n      <td>NaN</td>\n      <td>NaN</td>\n      <td>NaN</td>\n      <td>NaN</td>\n      <td>NaN</td>\n      <td>NaN</td>\n      <td>...</td>\n      <td>41.0</td>\n      <td>NaN</td>\n      <td>8.0</td>\n      <td>17.0</td>\n      <td>1.0</td>\n      <td>NaN</td>\n      <td>1.0</td>\n      <td>1.0</td>\n      <td>1.0</td>\n      <td>72.0</td>\n    </tr>\n  </tbody>\n</table>\n<p>2000 rows × 30 columns</p>\n</div>"
     },
     "execution_count": 92,
     "metadata": {},
     "output_type": "execute_result"
    }
   ],
   "source": [
    "whole_test"
   ],
   "metadata": {
    "collapsed": false,
    "pycharm": {
     "name": "#%%\n"
    }
   }
  },
  {
   "cell_type": "code",
   "execution_count": 93,
   "outputs": [
    {
     "name": "stdout",
     "output_type": "stream",
     "text": [
      "<class 'pandas.core.frame.DataFrame'>\n",
      "Int64Index: 58000 entries, 0 to 28999\n",
      "Data columns (total 36 columns):\n",
      " #   Column                           Non-Null Count  Dtype         \n",
      "---  ------                           --------------  -----         \n",
      " 0   id                               58000 non-null  int64         \n",
      " 1   population                       29000 non-null  float64       \n",
      " 2   indust_part                      29000 non-null  float64       \n",
      " 3   preschool_facilities             29000 non-null  float64       \n",
      " 4   school_facilities                29000 non-null  float64       \n",
      " 5   hospital_beds_raion              15253 non-null  float64       \n",
      " 6   healthcare_facilities            29000 non-null  float64       \n",
      " 7   university_num                   29000 non-null  float64       \n",
      " 8   sport_objects_facilities         29000 non-null  float64       \n",
      " 9   additional_education_facilities  29000 non-null  float64       \n",
      " 10  culture_objects_facilities       29000 non-null  float64       \n",
      " 11  shopping_centers_facilities      29000 non-null  float64       \n",
      " 12  office_num                       29000 non-null  float64       \n",
      " 13  green_part                       29000 non-null  float64       \n",
      " 14  prom_part                        29000 non-null  float64       \n",
      " 15  cafe_count                       29000 non-null  float64       \n",
      " 16  church_facilities                29000 non-null  float64       \n",
      " 17  mosque                           29000 non-null  float64       \n",
      " 18  leisure_facilities               29000 non-null  float64       \n",
      " 19  index                            29000 non-null  float64       \n",
      " 20  timestamp                        29000 non-null  datetime64[ns]\n",
      " 21  full_sq                          29000 non-null  float64       \n",
      " 22  life_sq                          29000 non-null  float64       \n",
      " 23  floor                            28843 non-null  float64       \n",
      " 24  max_floor                        19887 non-null  float64       \n",
      " 25  material                         19887 non-null  float64       \n",
      " 26  build_year                       16059 non-null  float64       \n",
      " 27  num_room                         19887 non-null  float64       \n",
      " 28  kitch_sq                         19887 non-null  float64       \n",
      " 29  apartment condition              16088 non-null  float64       \n",
      " 30  sub_area                         29000 non-null  float64       \n",
      " 31  price                            29000 non-null  float64       \n",
      " 32  year                             29000 non-null  float64       \n",
      " 33  month                            29000 non-null  float64       \n",
      " 34  year_month                       29000 non-null  object        \n",
      " 35  price_index                      29000 non-null  float64       \n",
      "dtypes: datetime64[ns](1), float64(33), int64(1), object(1)\n",
      "memory usage: 16.4+ MB\n"
     ]
    }
   ],
   "source": [
    "whole_train.info()"
   ],
   "metadata": {
    "collapsed": false,
    "pycharm": {
     "name": "#%%\n"
    }
   }
  },
  {
   "cell_type": "code",
   "execution_count": 94,
   "outputs": [
    {
     "data": {
      "text/plain": "       index     id  timestamp  full_sq  life_sq  floor  max_floor  material  \\\n0       9664  47907 2014-06-01        0      0.0    0.0        0.0       1.0   \n1      25390  86720 2014-11-23        0     77.0    4.0       17.0       1.0   \n2       3095  16489 2014-06-13        1      1.0    1.0        1.0       1.0   \n3       6097  69823 2015-01-12        1      1.0    1.0        1.0       1.0   \n4       8028  55095 2014-05-02        1      1.0    1.0        1.0       4.0   \n...      ...    ...        ...      ...      ...    ...        ...       ...   \n28995  13473  41202 2014-05-15      635     27.0    3.0       17.0       1.0   \n28996   9283  49518 2013-02-12      636     38.0    3.0        NaN       NaN   \n28997   6172  32115 2014-10-20      639    637.0   18.0       19.0       4.0   \n28998  18260  95936 2012-07-16      731     44.0   12.0        NaN       NaN   \n28999  19303  95156 2012-09-19     5329     22.0   13.0        NaN       NaN   \n\n       build_year  num_room  kitch_sq  apartment condition  sub_area  \\\n0             0.0       0.0       0.0                  1.0       105   \n1             0.0       3.0       0.0                  1.0       103   \n2             1.0       1.0       1.0                  3.0       134   \n3             1.0       1.0       1.0                  1.0        71   \n4             1.0       1.0       1.0                  3.0       105   \n...           ...       ...       ...                  ...       ...   \n28995         NaN       2.0       0.0                  NaN        72   \n28996         NaN       NaN       NaN                  NaN        55   \n28997      2016.0       2.0      10.0                  1.0       134   \n28998         NaN       NaN       NaN                  NaN       133   \n28999         NaN       NaN       NaN                  NaN        10   \n\n            price  year  month year_month  price_index  \n0       4531200.0  2014      6    2014-06    4531200.0  \n1       8396100.0  2014     11    2014-11    8396100.0  \n2       6715700.0  2014      6    2014-06    6715700.0  \n3      16529100.0  2015      1    2015-01   16529100.0  \n4       8688600.0  2014      5    2014-05    8688600.0  \n...           ...   ...    ...        ...          ...  \n28995   6138600.0  2014      5    2014-05    6138600.0  \n28996  11148600.0  2013      2    2013-02   11148600.0  \n28997   5150400.0  2014     10    2014-10    5150400.0  \n28998  13753500.0  2012      7    2012-07   13753500.0  \n28999   6841300.0  2012      9    2012-09    6841300.0  \n\n[29000 rows x 18 columns]",
      "text/html": "<div>\n<style scoped>\n    .dataframe tbody tr th:only-of-type {\n        vertical-align: middle;\n    }\n\n    .dataframe tbody tr th {\n        vertical-align: top;\n    }\n\n    .dataframe thead th {\n        text-align: right;\n    }\n</style>\n<table border=\"1\" class=\"dataframe\">\n  <thead>\n    <tr style=\"text-align: right;\">\n      <th></th>\n      <th>index</th>\n      <th>id</th>\n      <th>timestamp</th>\n      <th>full_sq</th>\n      <th>life_sq</th>\n      <th>floor</th>\n      <th>max_floor</th>\n      <th>material</th>\n      <th>build_year</th>\n      <th>num_room</th>\n      <th>kitch_sq</th>\n      <th>apartment condition</th>\n      <th>sub_area</th>\n      <th>price</th>\n      <th>year</th>\n      <th>month</th>\n      <th>year_month</th>\n      <th>price_index</th>\n    </tr>\n  </thead>\n  <tbody>\n    <tr>\n      <th>0</th>\n      <td>9664</td>\n      <td>47907</td>\n      <td>2014-06-01</td>\n      <td>0</td>\n      <td>0.0</td>\n      <td>0.0</td>\n      <td>0.0</td>\n      <td>1.0</td>\n      <td>0.0</td>\n      <td>0.0</td>\n      <td>0.0</td>\n      <td>1.0</td>\n      <td>105</td>\n      <td>4531200.0</td>\n      <td>2014</td>\n      <td>6</td>\n      <td>2014-06</td>\n      <td>4531200.0</td>\n    </tr>\n    <tr>\n      <th>1</th>\n      <td>25390</td>\n      <td>86720</td>\n      <td>2014-11-23</td>\n      <td>0</td>\n      <td>77.0</td>\n      <td>4.0</td>\n      <td>17.0</td>\n      <td>1.0</td>\n      <td>0.0</td>\n      <td>3.0</td>\n      <td>0.0</td>\n      <td>1.0</td>\n      <td>103</td>\n      <td>8396100.0</td>\n      <td>2014</td>\n      <td>11</td>\n      <td>2014-11</td>\n      <td>8396100.0</td>\n    </tr>\n    <tr>\n      <th>2</th>\n      <td>3095</td>\n      <td>16489</td>\n      <td>2014-06-13</td>\n      <td>1</td>\n      <td>1.0</td>\n      <td>1.0</td>\n      <td>1.0</td>\n      <td>1.0</td>\n      <td>1.0</td>\n      <td>1.0</td>\n      <td>1.0</td>\n      <td>3.0</td>\n      <td>134</td>\n      <td>6715700.0</td>\n      <td>2014</td>\n      <td>6</td>\n      <td>2014-06</td>\n      <td>6715700.0</td>\n    </tr>\n    <tr>\n      <th>3</th>\n      <td>6097</td>\n      <td>69823</td>\n      <td>2015-01-12</td>\n      <td>1</td>\n      <td>1.0</td>\n      <td>1.0</td>\n      <td>1.0</td>\n      <td>1.0</td>\n      <td>1.0</td>\n      <td>1.0</td>\n      <td>1.0</td>\n      <td>1.0</td>\n      <td>71</td>\n      <td>16529100.0</td>\n      <td>2015</td>\n      <td>1</td>\n      <td>2015-01</td>\n      <td>16529100.0</td>\n    </tr>\n    <tr>\n      <th>4</th>\n      <td>8028</td>\n      <td>55095</td>\n      <td>2014-05-02</td>\n      <td>1</td>\n      <td>1.0</td>\n      <td>1.0</td>\n      <td>1.0</td>\n      <td>4.0</td>\n      <td>1.0</td>\n      <td>1.0</td>\n      <td>1.0</td>\n      <td>3.0</td>\n      <td>105</td>\n      <td>8688600.0</td>\n      <td>2014</td>\n      <td>5</td>\n      <td>2014-05</td>\n      <td>8688600.0</td>\n    </tr>\n    <tr>\n      <th>...</th>\n      <td>...</td>\n      <td>...</td>\n      <td>...</td>\n      <td>...</td>\n      <td>...</td>\n      <td>...</td>\n      <td>...</td>\n      <td>...</td>\n      <td>...</td>\n      <td>...</td>\n      <td>...</td>\n      <td>...</td>\n      <td>...</td>\n      <td>...</td>\n      <td>...</td>\n      <td>...</td>\n      <td>...</td>\n      <td>...</td>\n    </tr>\n    <tr>\n      <th>28995</th>\n      <td>13473</td>\n      <td>41202</td>\n      <td>2014-05-15</td>\n      <td>635</td>\n      <td>27.0</td>\n      <td>3.0</td>\n      <td>17.0</td>\n      <td>1.0</td>\n      <td>NaN</td>\n      <td>2.0</td>\n      <td>0.0</td>\n      <td>NaN</td>\n      <td>72</td>\n      <td>6138600.0</td>\n      <td>2014</td>\n      <td>5</td>\n      <td>2014-05</td>\n      <td>6138600.0</td>\n    </tr>\n    <tr>\n      <th>28996</th>\n      <td>9283</td>\n      <td>49518</td>\n      <td>2013-02-12</td>\n      <td>636</td>\n      <td>38.0</td>\n      <td>3.0</td>\n      <td>NaN</td>\n      <td>NaN</td>\n      <td>NaN</td>\n      <td>NaN</td>\n      <td>NaN</td>\n      <td>NaN</td>\n      <td>55</td>\n      <td>11148600.0</td>\n      <td>2013</td>\n      <td>2</td>\n      <td>2013-02</td>\n      <td>11148600.0</td>\n    </tr>\n    <tr>\n      <th>28997</th>\n      <td>6172</td>\n      <td>32115</td>\n      <td>2014-10-20</td>\n      <td>639</td>\n      <td>637.0</td>\n      <td>18.0</td>\n      <td>19.0</td>\n      <td>4.0</td>\n      <td>2016.0</td>\n      <td>2.0</td>\n      <td>10.0</td>\n      <td>1.0</td>\n      <td>134</td>\n      <td>5150400.0</td>\n      <td>2014</td>\n      <td>10</td>\n      <td>2014-10</td>\n      <td>5150400.0</td>\n    </tr>\n    <tr>\n      <th>28998</th>\n      <td>18260</td>\n      <td>95936</td>\n      <td>2012-07-16</td>\n      <td>731</td>\n      <td>44.0</td>\n      <td>12.0</td>\n      <td>NaN</td>\n      <td>NaN</td>\n      <td>NaN</td>\n      <td>NaN</td>\n      <td>NaN</td>\n      <td>NaN</td>\n      <td>133</td>\n      <td>13753500.0</td>\n      <td>2012</td>\n      <td>7</td>\n      <td>2012-07</td>\n      <td>13753500.0</td>\n    </tr>\n    <tr>\n      <th>28999</th>\n      <td>19303</td>\n      <td>95156</td>\n      <td>2012-09-19</td>\n      <td>5329</td>\n      <td>22.0</td>\n      <td>13.0</td>\n      <td>NaN</td>\n      <td>NaN</td>\n      <td>NaN</td>\n      <td>NaN</td>\n      <td>NaN</td>\n      <td>NaN</td>\n      <td>10</td>\n      <td>6841300.0</td>\n      <td>2012</td>\n      <td>9</td>\n      <td>2012-09</td>\n      <td>6841300.0</td>\n    </tr>\n  </tbody>\n</table>\n<p>29000 rows × 18 columns</p>\n</div>"
     },
     "execution_count": 94,
     "metadata": {},
     "output_type": "execute_result"
    }
   ],
   "source": [
    "train_main_df_filled"
   ],
   "metadata": {
    "collapsed": false,
    "pycharm": {
     "name": "#%%\n"
    }
   }
  },
  {
   "cell_type": "code",
   "execution_count": 216,
   "outputs": [],
   "source": [
    "def preprocess(df, col):\n",
    "\n",
    "    df['timestamp'] = pd.to_datetime(df['timestamp'])\n",
    "    # df['ts'] = df['timestamp'].astype(int)\n",
    "\n",
    "    df['year'] = df['timestamp'].dt.year\n",
    "    df['month'] = df['timestamp'].dt.month\n",
    "    df['day_of_week'] = df.timestamp.dt.weekday\n",
    "    df['week_of_year'] = df.timestamp.dt.weekofyear\n",
    "    df['timestamp'] = df['timestamp'].astype(np.int64) / 1.1e+17\n",
    "    df = df.sort_values(by=col).reset_index(drop=True)\n",
    "    df = df.fillna(method='bfill')\n",
    "    df = df.fillna(method='ffill')\n",
    "    df[\"ratio_life_dash_full_sq\"] = df[\"life_sq\"] / df[\"full_sq\"]\n",
    "    df[\"ration_kitchen_dash_full_sq\"] = df[\"kitch_sq\"] / df[\"full_sq\"]\n",
    "    df['age'] = df['year'] - df[\"build_year\"]\n",
    "    df['some_extra_sqr'] = df[\"full_sq\"] - df[\"life_sq\"]\n",
    "    df = df.fillna(method='bfill')\n",
    "    df = df.fillna(method='ffill')\n",
    "    # df = df.fillna(df.mean(), inplace=True)\n",
    "    return df"
   ],
   "metadata": {
    "collapsed": false,
    "pycharm": {
     "name": "#%%\n"
    }
   }
  },
  {
   "cell_type": "code",
   "execution_count": 217,
   "outputs": [],
   "source": [
    "train1 = pd.read_csv('HW_train_main_data.csv')\n",
    "train2 = pd.read_csv('HW_train_additional_data.csv')"
   ],
   "metadata": {
    "collapsed": false,
    "pycharm": {
     "name": "#%%\n"
    }
   }
  },
  {
   "cell_type": "code",
   "execution_count": 218,
   "outputs": [],
   "source": [
    "train = train1.merge(train2, how='left', on='id')"
   ],
   "metadata": {
    "collapsed": false,
    "pycharm": {
     "name": "#%%\n"
    }
   }
  },
  {
   "cell_type": "code",
   "execution_count": 219,
   "outputs": [
    {
     "data": {
      "text/plain": "                                       id   full_sq   life_sq     floor  \\\nid                               1.000000  0.011015  0.012010  0.000112   \nfull_sq                          0.011015  1.000000  0.390299  0.088004   \nlife_sq                          0.012010  0.390299  1.000000  0.110223   \nfloor                            0.000112  0.088004  0.110223  1.000000   \nmax_floor                       -0.011584  0.116645  0.112966  0.454869   \nmaterial                         0.000259  0.034407  0.050486 -0.010701   \nbuild_year                      -0.007040 -0.005409 -0.007568  0.001240   \nnum_room                         0.006173  0.691535  0.550959 -0.006587   \nkitch_sq                         0.005560  0.019433  0.007244 -0.008726   \napartment condition              0.007588 -0.089916 -0.173063 -0.112670   \nsub_area                         0.009514  0.015821  0.080838  0.034533   \nprice                            0.006902  0.337113  0.415291  0.117003   \npopulation                       0.001151 -0.038870 -0.136506 -0.049519   \nindust_part                      0.003516 -0.052891 -0.086837 -0.017861   \npreschool_facilities             0.002510 -0.010996 -0.101831  0.011324   \nschool_facilities                0.003967 -0.012305 -0.101133 -0.008368   \nhospital_beds_raion             -0.002163 -0.002806 -0.000353 -0.101073   \nhealthcare_facilities            0.005565 -0.009248 -0.057380 -0.078054   \nuniversity_num                   0.007024  0.044526  0.067557  0.002532   \nsport_objects_facilities        -0.002431  0.026986  0.013100 -0.035748   \nadditional_education_facilities -0.000451  0.006333 -0.003754  0.045068   \nculture_objects_facilities      -0.002265  0.025071  0.087290  0.016578   \nshopping_centers_facilities     -0.002475  0.008910  0.004698  0.015191   \noffice_num                       0.000649  0.032155  0.085870 -0.017760   \ngreen_part                      -0.005993  0.018772  0.049741  0.027167   \nprom_part                        0.006421 -0.010360  0.002298  0.021678   \ncafe_count                      -0.002827  0.037538  0.090182  0.006385   \nchurch_facilities               -0.001804  0.023266  0.086901  0.028170   \nmosque                           0.001647  0.000155 -0.007736  0.001154   \nleisure_facilities              -0.006766  0.019999  0.023761 -0.046103   \n\n                                 max_floor  material  build_year  num_room  \\\nid                               -0.011584  0.000259   -0.007040  0.006173   \nfull_sq                           0.116645  0.034407   -0.005409  0.691535   \nlife_sq                           0.112966  0.050486   -0.007568  0.550959   \nfloor                             0.454869 -0.010701    0.001240 -0.006587   \nmax_floor                         1.000000  0.044594   -0.000277 -0.014639   \nmaterial                          0.044594  1.000000   -0.004514 -0.024995   \nbuild_year                       -0.000277 -0.004514    1.000000 -0.008433   \nnum_room                         -0.014639 -0.024995   -0.008433  1.000000   \nkitch_sq                          0.019439  0.038784    0.000584  0.016693   \napartment condition              -0.071158 -0.030843    0.301551  0.081749   \nsub_area                          0.026302 -0.007386   -0.011150 -0.037610   \nprice                             0.091854  0.064922    0.001452  0.475824   \npopulation                       -0.017736 -0.048026    0.001486  0.074629   \nindust_part                      -0.014921 -0.025176    0.001143 -0.035752   \npreschool_facilities              0.040506 -0.077030   -0.001115  0.074824   \nschool_facilities                 0.010726 -0.045853   -0.000265  0.083205   \nhospital_beds_raion              -0.155759  0.085688   -0.009224  0.046138   \nhealthcare_facilities            -0.071686  0.023308    0.007948  0.059863   \nuniversity_num                    0.008186  0.050593   -0.002562  0.041996   \nsport_objects_facilities         -0.021464  0.034816   -0.001543  0.091633   \nadditional_education_facilities   0.066349 -0.061878    0.002456  0.018515   \nculture_objects_facilities        0.024875 -0.013117   -0.001613  0.004498   \nshopping_centers_facilities       0.025507 -0.058325    0.002512  0.061272   \noffice_num                       -0.018755  0.018403    0.000521  0.040685   \ngreen_part                        0.090617 -0.044852   -0.003447 -0.037810   \nprom_part                        -0.002710  0.029711   -0.003792 -0.010180   \ncafe_count                        0.005503 -0.003554    0.003068  0.047110   \nchurch_facilities                 0.019904 -0.023536   -0.002266 -0.001175   \nmosque                            0.007737 -0.009140   -0.000567  0.016835   \nleisure_facilities               -0.052727  0.028943   -0.001489  0.071136   \n\n                                 kitch_sq  apartment condition  ...  \\\nid                               0.005560             0.007588  ...   \nfull_sq                          0.019433            -0.089916  ...   \nlife_sq                          0.007244            -0.173063  ...   \nfloor                           -0.008726            -0.112670  ...   \nmax_floor                        0.019439            -0.071158  ...   \nmaterial                         0.038784            -0.030843  ...   \nbuild_year                       0.000584             0.301551  ...   \nnum_room                         0.016693             0.081749  ...   \nkitch_sq                         1.000000             0.047418  ...   \napartment condition              0.047418             1.000000  ...   \nsub_area                        -0.026619            -0.218589  ...   \nprice                            0.027555             0.122427  ...   \npopulation                       0.035792             0.373377  ...   \nindust_part                      0.000438             0.058113  ...   \npreschool_facilities             0.030362             0.312757  ...   \nschool_facilities                0.032245             0.314076  ...   \nhospital_beds_raion              0.009542             0.121087  ...   \nhealthcare_facilities            0.027456             0.224311  ...   \nuniversity_num                  -0.005662            -0.024154  ...   \nsport_objects_facilities         0.018747             0.173601  ...   \nadditional_education_facilities -0.003697             0.040657  ...   \nculture_objects_facilities      -0.020156            -0.126720  ...   \nshopping_centers_facilities      0.004434             0.117972  ...   \noffice_num                      -0.013887            -0.056888  ...   \ngreen_part                      -0.018677            -0.153116  ...   \nprom_part                        0.006716            -0.043021  ...   \ncafe_count                      -0.012685            -0.053444  ...   \nchurch_facilities               -0.019411            -0.127536  ...   \nmosque                           0.004083             0.041694  ...   \nleisure_facilities               0.003353             0.048570  ...   \n\n                                 additional_education_facilities  \\\nid                                                     -0.000451   \nfull_sq                                                 0.006333   \nlife_sq                                                -0.003754   \nfloor                                                   0.045068   \nmax_floor                                               0.066349   \nmaterial                                               -0.061878   \nbuild_year                                              0.002456   \nnum_room                                                0.018515   \nkitch_sq                                               -0.003697   \napartment condition                                     0.040657   \nsub_area                                                0.034401   \nprice                                                   0.057858   \npopulation                                              0.422432   \nindust_part                                            -0.025630   \npreschool_facilities                                    0.458530   \nschool_facilities                                       0.404867   \nhospital_beds_raion                                     0.010252   \nhealthcare_facilities                                   0.399845   \nuniversity_num                                          0.383588   \nsport_objects_facilities                                0.567410   \nadditional_education_facilities                         1.000000   \nculture_objects_facilities                              0.586898   \nshopping_centers_facilities                             0.673120   \noffice_num                                              0.524485   \ngreen_part                                             -0.021797   \nprom_part                                              -0.068668   \ncafe_count                                              0.538533   \nchurch_facilities                                       0.544296   \nmosque                                                 -0.011329   \nleisure_facilities                                      0.013655   \n\n                                 culture_objects_facilities  \\\nid                                                -0.002265   \nfull_sq                                            0.025071   \nlife_sq                                            0.087290   \nfloor                                              0.016578   \nmax_floor                                          0.024875   \nmaterial                                          -0.013117   \nbuild_year                                        -0.001613   \nnum_room                                           0.004498   \nkitch_sq                                          -0.020156   \napartment condition                               -0.126720   \nsub_area                                           0.226273   \nprice                                              0.044158   \npopulation                                        -0.007477   \nindust_part                                       -0.179334   \npreschool_facilities                               0.019565   \nschool_facilities                                  0.004791   \nhospital_beds_raion                               -0.007110   \nhealthcare_facilities                              0.202533   \nuniversity_num                                     0.664529   \nsport_objects_facilities                           0.572155   \nadditional_education_facilities                    0.586898   \nculture_objects_facilities                         1.000000   \nshopping_centers_facilities                        0.595167   \noffice_num                                         0.893431   \ngreen_part                                        -0.032237   \nprom_part                                         -0.062180   \ncafe_count                                         0.856143   \nchurch_facilities                                  0.889944   \nmosque                                            -0.013586   \nleisure_facilities                                 0.064210   \n\n                                 shopping_centers_facilities  office_num  \\\nid                                                 -0.002475    0.000649   \nfull_sq                                             0.008910    0.032155   \nlife_sq                                             0.004698    0.085870   \nfloor                                               0.015191   -0.017760   \nmax_floor                                           0.025507   -0.018755   \nmaterial                                           -0.058325    0.018403   \nbuild_year                                          0.002512    0.000521   \nnum_room                                            0.061272    0.040685   \nkitch_sq                                            0.004434   -0.013887   \napartment condition                                 0.117972   -0.056888   \nsub_area                                            0.001821    0.136153   \nprice                                               0.148866    0.145373   \npopulation                                          0.535269    0.028361   \nindust_part                                        -0.079352   -0.126638   \npreschool_facilities                                0.446674    0.050244   \nschool_facilities                                   0.429607    0.075911   \nhospital_beds_raion                                 0.065935    0.140535   \nhealthcare_facilities                               0.465930    0.285826   \nuniversity_num                                      0.465651    0.758612   \nsport_objects_facilities                            0.741368    0.703142   \nadditional_education_facilities                     0.673120    0.524485   \nculture_objects_facilities                          0.595167    0.893431   \nshopping_centers_facilities                         1.000000    0.641999   \noffice_num                                          0.641999    1.000000   \ngreen_part                                         -0.114061   -0.090699   \nprom_part                                          -0.050474   -0.049484   \ncafe_count                                          0.608937    0.875215   \nchurch_facilities                                   0.581349    0.837733   \nmosque                                              0.007312    0.008519   \nleisure_facilities                                  0.104065    0.197206   \n\n                                 green_part  prom_part  cafe_count  \\\nid                                -0.005993   0.006421   -0.002827   \nfull_sq                            0.018772  -0.010360    0.037538   \nlife_sq                            0.049741   0.002298    0.090182   \nfloor                              0.027167   0.021678    0.006385   \nmax_floor                          0.090617  -0.002710    0.005503   \nmaterial                          -0.044852   0.029711   -0.003554   \nbuild_year                        -0.003447  -0.003792    0.003068   \nnum_room                          -0.037810  -0.010180    0.047110   \nkitch_sq                          -0.018677   0.006716   -0.012685   \napartment condition               -0.153116  -0.043021   -0.053444   \nsub_area                           0.038154  -0.047736    0.131474   \nprice                             -0.051730  -0.009608    0.119706   \npopulation                        -0.162973  -0.037166    0.035304   \nindust_part                       -0.111814   0.248057   -0.163041   \npreschool_facilities              -0.086749  -0.070642    0.054564   \nschool_facilities                 -0.106678  -0.026167    0.051328   \nhospital_beds_raion               -0.110927  -0.006425    0.071703   \nhealthcare_facilities             -0.133468   0.044414    0.238148   \nuniversity_num                    -0.086599  -0.088217    0.683829   \nsport_objects_facilities          -0.144738  -0.056387    0.616501   \nadditional_education_facilities   -0.021797  -0.068668    0.538533   \nculture_objects_facilities        -0.032237  -0.062180    0.856143   \nshopping_centers_facilities       -0.114061  -0.050474    0.608937   \noffice_num                        -0.090699  -0.049484    0.875215   \ngreen_part                         1.000000  -0.141500   -0.078305   \nprom_part                         -0.141500   1.000000   -0.095718   \ncafe_count                        -0.078305  -0.095718    1.000000   \nchurch_facilities                 -0.023060  -0.078808    0.878457   \nmosque                            -0.012743  -0.001690    0.010064   \nleisure_facilities                -0.058990  -0.042329    0.213124   \n\n                                 church_facilities    mosque  \\\nid                                       -0.001804  0.001647   \nfull_sq                                   0.023266  0.000155   \nlife_sq                                   0.086901 -0.007736   \nfloor                                     0.028170  0.001154   \nmax_floor                                 0.019904  0.007737   \nmaterial                                 -0.023536 -0.009140   \nbuild_year                               -0.002266 -0.000567   \nnum_room                                 -0.001175  0.016835   \nkitch_sq                                 -0.019411  0.004083   \napartment condition                      -0.127536  0.041694   \nsub_area                                  0.213839 -0.009513   \nprice                                     0.014840  0.018631   \npopulation                               -0.016036  0.039209   \nindust_part                              -0.161396  0.011358   \npreschool_facilities                     -0.006726  0.045350   \nschool_facilities                        -0.022289  0.065677   \nhospital_beds_raion                       0.027279  0.102699   \nhealthcare_facilities                     0.185813  0.020771   \nuniversity_num                            0.658008  0.053031   \nsport_objects_facilities                  0.529876  0.029037   \nadditional_education_facilities           0.544296 -0.011329   \nculture_objects_facilities                0.889944 -0.013586   \nshopping_centers_facilities               0.581349  0.007312   \noffice_num                                0.837733  0.008519   \ngreen_part                               -0.023060 -0.012743   \nprom_part                                -0.078808 -0.001690   \ncafe_count                                0.878457  0.010064   \nchurch_facilities                         1.000000  0.025090   \nmosque                                    0.025090  1.000000   \nleisure_facilities                        0.064986  0.003441   \n\n                                 leisure_facilities  \nid                                        -0.006766  \nfull_sq                                    0.019999  \nlife_sq                                    0.023761  \nfloor                                     -0.046103  \nmax_floor                                 -0.052727  \nmaterial                                   0.028943  \nbuild_year                                -0.001489  \nnum_room                                   0.071136  \nkitch_sq                                   0.003353  \napartment condition                        0.048570  \nsub_area                                  -0.001828  \nprice                                      0.161163  \npopulation                                 0.034792  \nindust_part                                0.003984  \npreschool_facilities                       0.032530  \nschool_facilities                          0.065850  \nhospital_beds_raion                        0.106845  \nhealthcare_facilities                      0.128054  \nuniversity_num                             0.169545  \nsport_objects_facilities                   0.174372  \nadditional_education_facilities            0.013655  \nculture_objects_facilities                 0.064210  \nshopping_centers_facilities                0.104065  \noffice_num                                 0.197206  \ngreen_part                                -0.058990  \nprom_part                                 -0.042329  \ncafe_count                                 0.213124  \nchurch_facilities                          0.064986  \nmosque                                     0.003441  \nleisure_facilities                         1.000000  \n\n[30 rows x 30 columns]",
      "text/html": "<div>\n<style scoped>\n    .dataframe tbody tr th:only-of-type {\n        vertical-align: middle;\n    }\n\n    .dataframe tbody tr th {\n        vertical-align: top;\n    }\n\n    .dataframe thead th {\n        text-align: right;\n    }\n</style>\n<table border=\"1\" class=\"dataframe\">\n  <thead>\n    <tr style=\"text-align: right;\">\n      <th></th>\n      <th>id</th>\n      <th>full_sq</th>\n      <th>life_sq</th>\n      <th>floor</th>\n      <th>max_floor</th>\n      <th>material</th>\n      <th>build_year</th>\n      <th>num_room</th>\n      <th>kitch_sq</th>\n      <th>apartment condition</th>\n      <th>...</th>\n      <th>additional_education_facilities</th>\n      <th>culture_objects_facilities</th>\n      <th>shopping_centers_facilities</th>\n      <th>office_num</th>\n      <th>green_part</th>\n      <th>prom_part</th>\n      <th>cafe_count</th>\n      <th>church_facilities</th>\n      <th>mosque</th>\n      <th>leisure_facilities</th>\n    </tr>\n  </thead>\n  <tbody>\n    <tr>\n      <th>id</th>\n      <td>1.000000</td>\n      <td>0.011015</td>\n      <td>0.012010</td>\n      <td>0.000112</td>\n      <td>-0.011584</td>\n      <td>0.000259</td>\n      <td>-0.007040</td>\n      <td>0.006173</td>\n      <td>0.005560</td>\n      <td>0.007588</td>\n      <td>...</td>\n      <td>-0.000451</td>\n      <td>-0.002265</td>\n      <td>-0.002475</td>\n      <td>0.000649</td>\n      <td>-0.005993</td>\n      <td>0.006421</td>\n      <td>-0.002827</td>\n      <td>-0.001804</td>\n      <td>0.001647</td>\n      <td>-0.006766</td>\n    </tr>\n    <tr>\n      <th>full_sq</th>\n      <td>0.011015</td>\n      <td>1.000000</td>\n      <td>0.390299</td>\n      <td>0.088004</td>\n      <td>0.116645</td>\n      <td>0.034407</td>\n      <td>-0.005409</td>\n      <td>0.691535</td>\n      <td>0.019433</td>\n      <td>-0.089916</td>\n      <td>...</td>\n      <td>0.006333</td>\n      <td>0.025071</td>\n      <td>0.008910</td>\n      <td>0.032155</td>\n      <td>0.018772</td>\n      <td>-0.010360</td>\n      <td>0.037538</td>\n      <td>0.023266</td>\n      <td>0.000155</td>\n      <td>0.019999</td>\n    </tr>\n    <tr>\n      <th>life_sq</th>\n      <td>0.012010</td>\n      <td>0.390299</td>\n      <td>1.000000</td>\n      <td>0.110223</td>\n      <td>0.112966</td>\n      <td>0.050486</td>\n      <td>-0.007568</td>\n      <td>0.550959</td>\n      <td>0.007244</td>\n      <td>-0.173063</td>\n      <td>...</td>\n      <td>-0.003754</td>\n      <td>0.087290</td>\n      <td>0.004698</td>\n      <td>0.085870</td>\n      <td>0.049741</td>\n      <td>0.002298</td>\n      <td>0.090182</td>\n      <td>0.086901</td>\n      <td>-0.007736</td>\n      <td>0.023761</td>\n    </tr>\n    <tr>\n      <th>floor</th>\n      <td>0.000112</td>\n      <td>0.088004</td>\n      <td>0.110223</td>\n      <td>1.000000</td>\n      <td>0.454869</td>\n      <td>-0.010701</td>\n      <td>0.001240</td>\n      <td>-0.006587</td>\n      <td>-0.008726</td>\n      <td>-0.112670</td>\n      <td>...</td>\n      <td>0.045068</td>\n      <td>0.016578</td>\n      <td>0.015191</td>\n      <td>-0.017760</td>\n      <td>0.027167</td>\n      <td>0.021678</td>\n      <td>0.006385</td>\n      <td>0.028170</td>\n      <td>0.001154</td>\n      <td>-0.046103</td>\n    </tr>\n    <tr>\n      <th>max_floor</th>\n      <td>-0.011584</td>\n      <td>0.116645</td>\n      <td>0.112966</td>\n      <td>0.454869</td>\n      <td>1.000000</td>\n      <td>0.044594</td>\n      <td>-0.000277</td>\n      <td>-0.014639</td>\n      <td>0.019439</td>\n      <td>-0.071158</td>\n      <td>...</td>\n      <td>0.066349</td>\n      <td>0.024875</td>\n      <td>0.025507</td>\n      <td>-0.018755</td>\n      <td>0.090617</td>\n      <td>-0.002710</td>\n      <td>0.005503</td>\n      <td>0.019904</td>\n      <td>0.007737</td>\n      <td>-0.052727</td>\n    </tr>\n    <tr>\n      <th>material</th>\n      <td>0.000259</td>\n      <td>0.034407</td>\n      <td>0.050486</td>\n      <td>-0.010701</td>\n      <td>0.044594</td>\n      <td>1.000000</td>\n      <td>-0.004514</td>\n      <td>-0.024995</td>\n      <td>0.038784</td>\n      <td>-0.030843</td>\n      <td>...</td>\n      <td>-0.061878</td>\n      <td>-0.013117</td>\n      <td>-0.058325</td>\n      <td>0.018403</td>\n      <td>-0.044852</td>\n      <td>0.029711</td>\n      <td>-0.003554</td>\n      <td>-0.023536</td>\n      <td>-0.009140</td>\n      <td>0.028943</td>\n    </tr>\n    <tr>\n      <th>build_year</th>\n      <td>-0.007040</td>\n      <td>-0.005409</td>\n      <td>-0.007568</td>\n      <td>0.001240</td>\n      <td>-0.000277</td>\n      <td>-0.004514</td>\n      <td>1.000000</td>\n      <td>-0.008433</td>\n      <td>0.000584</td>\n      <td>0.301551</td>\n      <td>...</td>\n      <td>0.002456</td>\n      <td>-0.001613</td>\n      <td>0.002512</td>\n      <td>0.000521</td>\n      <td>-0.003447</td>\n      <td>-0.003792</td>\n      <td>0.003068</td>\n      <td>-0.002266</td>\n      <td>-0.000567</td>\n      <td>-0.001489</td>\n    </tr>\n    <tr>\n      <th>num_room</th>\n      <td>0.006173</td>\n      <td>0.691535</td>\n      <td>0.550959</td>\n      <td>-0.006587</td>\n      <td>-0.014639</td>\n      <td>-0.024995</td>\n      <td>-0.008433</td>\n      <td>1.000000</td>\n      <td>0.016693</td>\n      <td>0.081749</td>\n      <td>...</td>\n      <td>0.018515</td>\n      <td>0.004498</td>\n      <td>0.061272</td>\n      <td>0.040685</td>\n      <td>-0.037810</td>\n      <td>-0.010180</td>\n      <td>0.047110</td>\n      <td>-0.001175</td>\n      <td>0.016835</td>\n      <td>0.071136</td>\n    </tr>\n    <tr>\n      <th>kitch_sq</th>\n      <td>0.005560</td>\n      <td>0.019433</td>\n      <td>0.007244</td>\n      <td>-0.008726</td>\n      <td>0.019439</td>\n      <td>0.038784</td>\n      <td>0.000584</td>\n      <td>0.016693</td>\n      <td>1.000000</td>\n      <td>0.047418</td>\n      <td>...</td>\n      <td>-0.003697</td>\n      <td>-0.020156</td>\n      <td>0.004434</td>\n      <td>-0.013887</td>\n      <td>-0.018677</td>\n      <td>0.006716</td>\n      <td>-0.012685</td>\n      <td>-0.019411</td>\n      <td>0.004083</td>\n      <td>0.003353</td>\n    </tr>\n    <tr>\n      <th>apartment condition</th>\n      <td>0.007588</td>\n      <td>-0.089916</td>\n      <td>-0.173063</td>\n      <td>-0.112670</td>\n      <td>-0.071158</td>\n      <td>-0.030843</td>\n      <td>0.301551</td>\n      <td>0.081749</td>\n      <td>0.047418</td>\n      <td>1.000000</td>\n      <td>...</td>\n      <td>0.040657</td>\n      <td>-0.126720</td>\n      <td>0.117972</td>\n      <td>-0.056888</td>\n      <td>-0.153116</td>\n      <td>-0.043021</td>\n      <td>-0.053444</td>\n      <td>-0.127536</td>\n      <td>0.041694</td>\n      <td>0.048570</td>\n    </tr>\n    <tr>\n      <th>sub_area</th>\n      <td>0.009514</td>\n      <td>0.015821</td>\n      <td>0.080838</td>\n      <td>0.034533</td>\n      <td>0.026302</td>\n      <td>-0.007386</td>\n      <td>-0.011150</td>\n      <td>-0.037610</td>\n      <td>-0.026619</td>\n      <td>-0.218589</td>\n      <td>...</td>\n      <td>0.034401</td>\n      <td>0.226273</td>\n      <td>0.001821</td>\n      <td>0.136153</td>\n      <td>0.038154</td>\n      <td>-0.047736</td>\n      <td>0.131474</td>\n      <td>0.213839</td>\n      <td>-0.009513</td>\n      <td>-0.001828</td>\n    </tr>\n    <tr>\n      <th>price</th>\n      <td>0.006902</td>\n      <td>0.337113</td>\n      <td>0.415291</td>\n      <td>0.117003</td>\n      <td>0.091854</td>\n      <td>0.064922</td>\n      <td>0.001452</td>\n      <td>0.475824</td>\n      <td>0.027555</td>\n      <td>0.122427</td>\n      <td>...</td>\n      <td>0.057858</td>\n      <td>0.044158</td>\n      <td>0.148866</td>\n      <td>0.145373</td>\n      <td>-0.051730</td>\n      <td>-0.009608</td>\n      <td>0.119706</td>\n      <td>0.014840</td>\n      <td>0.018631</td>\n      <td>0.161163</td>\n    </tr>\n    <tr>\n      <th>population</th>\n      <td>0.001151</td>\n      <td>-0.038870</td>\n      <td>-0.136506</td>\n      <td>-0.049519</td>\n      <td>-0.017736</td>\n      <td>-0.048026</td>\n      <td>0.001486</td>\n      <td>0.074629</td>\n      <td>0.035792</td>\n      <td>0.373377</td>\n      <td>...</td>\n      <td>0.422432</td>\n      <td>-0.007477</td>\n      <td>0.535269</td>\n      <td>0.028361</td>\n      <td>-0.162973</td>\n      <td>-0.037166</td>\n      <td>0.035304</td>\n      <td>-0.016036</td>\n      <td>0.039209</td>\n      <td>0.034792</td>\n    </tr>\n    <tr>\n      <th>indust_part</th>\n      <td>0.003516</td>\n      <td>-0.052891</td>\n      <td>-0.086837</td>\n      <td>-0.017861</td>\n      <td>-0.014921</td>\n      <td>-0.025176</td>\n      <td>0.001143</td>\n      <td>-0.035752</td>\n      <td>0.000438</td>\n      <td>0.058113</td>\n      <td>...</td>\n      <td>-0.025630</td>\n      <td>-0.179334</td>\n      <td>-0.079352</td>\n      <td>-0.126638</td>\n      <td>-0.111814</td>\n      <td>0.248057</td>\n      <td>-0.163041</td>\n      <td>-0.161396</td>\n      <td>0.011358</td>\n      <td>0.003984</td>\n    </tr>\n    <tr>\n      <th>preschool_facilities</th>\n      <td>0.002510</td>\n      <td>-0.010996</td>\n      <td>-0.101831</td>\n      <td>0.011324</td>\n      <td>0.040506</td>\n      <td>-0.077030</td>\n      <td>-0.001115</td>\n      <td>0.074824</td>\n      <td>0.030362</td>\n      <td>0.312757</td>\n      <td>...</td>\n      <td>0.458530</td>\n      <td>0.019565</td>\n      <td>0.446674</td>\n      <td>0.050244</td>\n      <td>-0.086749</td>\n      <td>-0.070642</td>\n      <td>0.054564</td>\n      <td>-0.006726</td>\n      <td>0.045350</td>\n      <td>0.032530</td>\n    </tr>\n    <tr>\n      <th>school_facilities</th>\n      <td>0.003967</td>\n      <td>-0.012305</td>\n      <td>-0.101133</td>\n      <td>-0.008368</td>\n      <td>0.010726</td>\n      <td>-0.045853</td>\n      <td>-0.000265</td>\n      <td>0.083205</td>\n      <td>0.032245</td>\n      <td>0.314076</td>\n      <td>...</td>\n      <td>0.404867</td>\n      <td>0.004791</td>\n      <td>0.429607</td>\n      <td>0.075911</td>\n      <td>-0.106678</td>\n      <td>-0.026167</td>\n      <td>0.051328</td>\n      <td>-0.022289</td>\n      <td>0.065677</td>\n      <td>0.065850</td>\n    </tr>\n    <tr>\n      <th>hospital_beds_raion</th>\n      <td>-0.002163</td>\n      <td>-0.002806</td>\n      <td>-0.000353</td>\n      <td>-0.101073</td>\n      <td>-0.155759</td>\n      <td>0.085688</td>\n      <td>-0.009224</td>\n      <td>0.046138</td>\n      <td>0.009542</td>\n      <td>0.121087</td>\n      <td>...</td>\n      <td>0.010252</td>\n      <td>-0.007110</td>\n      <td>0.065935</td>\n      <td>0.140535</td>\n      <td>-0.110927</td>\n      <td>-0.006425</td>\n      <td>0.071703</td>\n      <td>0.027279</td>\n      <td>0.102699</td>\n      <td>0.106845</td>\n    </tr>\n    <tr>\n      <th>healthcare_facilities</th>\n      <td>0.005565</td>\n      <td>-0.009248</td>\n      <td>-0.057380</td>\n      <td>-0.078054</td>\n      <td>-0.071686</td>\n      <td>0.023308</td>\n      <td>0.007948</td>\n      <td>0.059863</td>\n      <td>0.027456</td>\n      <td>0.224311</td>\n      <td>...</td>\n      <td>0.399845</td>\n      <td>0.202533</td>\n      <td>0.465930</td>\n      <td>0.285826</td>\n      <td>-0.133468</td>\n      <td>0.044414</td>\n      <td>0.238148</td>\n      <td>0.185813</td>\n      <td>0.020771</td>\n      <td>0.128054</td>\n    </tr>\n    <tr>\n      <th>university_num</th>\n      <td>0.007024</td>\n      <td>0.044526</td>\n      <td>0.067557</td>\n      <td>0.002532</td>\n      <td>0.008186</td>\n      <td>0.050593</td>\n      <td>-0.002562</td>\n      <td>0.041996</td>\n      <td>-0.005662</td>\n      <td>-0.024154</td>\n      <td>...</td>\n      <td>0.383588</td>\n      <td>0.664529</td>\n      <td>0.465651</td>\n      <td>0.758612</td>\n      <td>-0.086599</td>\n      <td>-0.088217</td>\n      <td>0.683829</td>\n      <td>0.658008</td>\n      <td>0.053031</td>\n      <td>0.169545</td>\n    </tr>\n    <tr>\n      <th>sport_objects_facilities</th>\n      <td>-0.002431</td>\n      <td>0.026986</td>\n      <td>0.013100</td>\n      <td>-0.035748</td>\n      <td>-0.021464</td>\n      <td>0.034816</td>\n      <td>-0.001543</td>\n      <td>0.091633</td>\n      <td>0.018747</td>\n      <td>0.173601</td>\n      <td>...</td>\n      <td>0.567410</td>\n      <td>0.572155</td>\n      <td>0.741368</td>\n      <td>0.703142</td>\n      <td>-0.144738</td>\n      <td>-0.056387</td>\n      <td>0.616501</td>\n      <td>0.529876</td>\n      <td>0.029037</td>\n      <td>0.174372</td>\n    </tr>\n    <tr>\n      <th>additional_education_facilities</th>\n      <td>-0.000451</td>\n      <td>0.006333</td>\n      <td>-0.003754</td>\n      <td>0.045068</td>\n      <td>0.066349</td>\n      <td>-0.061878</td>\n      <td>0.002456</td>\n      <td>0.018515</td>\n      <td>-0.003697</td>\n      <td>0.040657</td>\n      <td>...</td>\n      <td>1.000000</td>\n      <td>0.586898</td>\n      <td>0.673120</td>\n      <td>0.524485</td>\n      <td>-0.021797</td>\n      <td>-0.068668</td>\n      <td>0.538533</td>\n      <td>0.544296</td>\n      <td>-0.011329</td>\n      <td>0.013655</td>\n    </tr>\n    <tr>\n      <th>culture_objects_facilities</th>\n      <td>-0.002265</td>\n      <td>0.025071</td>\n      <td>0.087290</td>\n      <td>0.016578</td>\n      <td>0.024875</td>\n      <td>-0.013117</td>\n      <td>-0.001613</td>\n      <td>0.004498</td>\n      <td>-0.020156</td>\n      <td>-0.126720</td>\n      <td>...</td>\n      <td>0.586898</td>\n      <td>1.000000</td>\n      <td>0.595167</td>\n      <td>0.893431</td>\n      <td>-0.032237</td>\n      <td>-0.062180</td>\n      <td>0.856143</td>\n      <td>0.889944</td>\n      <td>-0.013586</td>\n      <td>0.064210</td>\n    </tr>\n    <tr>\n      <th>shopping_centers_facilities</th>\n      <td>-0.002475</td>\n      <td>0.008910</td>\n      <td>0.004698</td>\n      <td>0.015191</td>\n      <td>0.025507</td>\n      <td>-0.058325</td>\n      <td>0.002512</td>\n      <td>0.061272</td>\n      <td>0.004434</td>\n      <td>0.117972</td>\n      <td>...</td>\n      <td>0.673120</td>\n      <td>0.595167</td>\n      <td>1.000000</td>\n      <td>0.641999</td>\n      <td>-0.114061</td>\n      <td>-0.050474</td>\n      <td>0.608937</td>\n      <td>0.581349</td>\n      <td>0.007312</td>\n      <td>0.104065</td>\n    </tr>\n    <tr>\n      <th>office_num</th>\n      <td>0.000649</td>\n      <td>0.032155</td>\n      <td>0.085870</td>\n      <td>-0.017760</td>\n      <td>-0.018755</td>\n      <td>0.018403</td>\n      <td>0.000521</td>\n      <td>0.040685</td>\n      <td>-0.013887</td>\n      <td>-0.056888</td>\n      <td>...</td>\n      <td>0.524485</td>\n      <td>0.893431</td>\n      <td>0.641999</td>\n      <td>1.000000</td>\n      <td>-0.090699</td>\n      <td>-0.049484</td>\n      <td>0.875215</td>\n      <td>0.837733</td>\n      <td>0.008519</td>\n      <td>0.197206</td>\n    </tr>\n    <tr>\n      <th>green_part</th>\n      <td>-0.005993</td>\n      <td>0.018772</td>\n      <td>0.049741</td>\n      <td>0.027167</td>\n      <td>0.090617</td>\n      <td>-0.044852</td>\n      <td>-0.003447</td>\n      <td>-0.037810</td>\n      <td>-0.018677</td>\n      <td>-0.153116</td>\n      <td>...</td>\n      <td>-0.021797</td>\n      <td>-0.032237</td>\n      <td>-0.114061</td>\n      <td>-0.090699</td>\n      <td>1.000000</td>\n      <td>-0.141500</td>\n      <td>-0.078305</td>\n      <td>-0.023060</td>\n      <td>-0.012743</td>\n      <td>-0.058990</td>\n    </tr>\n    <tr>\n      <th>prom_part</th>\n      <td>0.006421</td>\n      <td>-0.010360</td>\n      <td>0.002298</td>\n      <td>0.021678</td>\n      <td>-0.002710</td>\n      <td>0.029711</td>\n      <td>-0.003792</td>\n      <td>-0.010180</td>\n      <td>0.006716</td>\n      <td>-0.043021</td>\n      <td>...</td>\n      <td>-0.068668</td>\n      <td>-0.062180</td>\n      <td>-0.050474</td>\n      <td>-0.049484</td>\n      <td>-0.141500</td>\n      <td>1.000000</td>\n      <td>-0.095718</td>\n      <td>-0.078808</td>\n      <td>-0.001690</td>\n      <td>-0.042329</td>\n    </tr>\n    <tr>\n      <th>cafe_count</th>\n      <td>-0.002827</td>\n      <td>0.037538</td>\n      <td>0.090182</td>\n      <td>0.006385</td>\n      <td>0.005503</td>\n      <td>-0.003554</td>\n      <td>0.003068</td>\n      <td>0.047110</td>\n      <td>-0.012685</td>\n      <td>-0.053444</td>\n      <td>...</td>\n      <td>0.538533</td>\n      <td>0.856143</td>\n      <td>0.608937</td>\n      <td>0.875215</td>\n      <td>-0.078305</td>\n      <td>-0.095718</td>\n      <td>1.000000</td>\n      <td>0.878457</td>\n      <td>0.010064</td>\n      <td>0.213124</td>\n    </tr>\n    <tr>\n      <th>church_facilities</th>\n      <td>-0.001804</td>\n      <td>0.023266</td>\n      <td>0.086901</td>\n      <td>0.028170</td>\n      <td>0.019904</td>\n      <td>-0.023536</td>\n      <td>-0.002266</td>\n      <td>-0.001175</td>\n      <td>-0.019411</td>\n      <td>-0.127536</td>\n      <td>...</td>\n      <td>0.544296</td>\n      <td>0.889944</td>\n      <td>0.581349</td>\n      <td>0.837733</td>\n      <td>-0.023060</td>\n      <td>-0.078808</td>\n      <td>0.878457</td>\n      <td>1.000000</td>\n      <td>0.025090</td>\n      <td>0.064986</td>\n    </tr>\n    <tr>\n      <th>mosque</th>\n      <td>0.001647</td>\n      <td>0.000155</td>\n      <td>-0.007736</td>\n      <td>0.001154</td>\n      <td>0.007737</td>\n      <td>-0.009140</td>\n      <td>-0.000567</td>\n      <td>0.016835</td>\n      <td>0.004083</td>\n      <td>0.041694</td>\n      <td>...</td>\n      <td>-0.011329</td>\n      <td>-0.013586</td>\n      <td>0.007312</td>\n      <td>0.008519</td>\n      <td>-0.012743</td>\n      <td>-0.001690</td>\n      <td>0.010064</td>\n      <td>0.025090</td>\n      <td>1.000000</td>\n      <td>0.003441</td>\n    </tr>\n    <tr>\n      <th>leisure_facilities</th>\n      <td>-0.006766</td>\n      <td>0.019999</td>\n      <td>0.023761</td>\n      <td>-0.046103</td>\n      <td>-0.052727</td>\n      <td>0.028943</td>\n      <td>-0.001489</td>\n      <td>0.071136</td>\n      <td>0.003353</td>\n      <td>0.048570</td>\n      <td>...</td>\n      <td>0.013655</td>\n      <td>0.064210</td>\n      <td>0.104065</td>\n      <td>0.197206</td>\n      <td>-0.058990</td>\n      <td>-0.042329</td>\n      <td>0.213124</td>\n      <td>0.064986</td>\n      <td>0.003441</td>\n      <td>1.000000</td>\n    </tr>\n  </tbody>\n</table>\n<p>30 rows × 30 columns</p>\n</div>"
     },
     "execution_count": 219,
     "metadata": {},
     "output_type": "execute_result"
    }
   ],
   "source": [
    "train.corr()"
   ],
   "metadata": {
    "collapsed": false,
    "pycharm": {
     "name": "#%%\n"
    }
   }
  },
  {
   "cell_type": "code",
   "execution_count": 220,
   "outputs": [
    {
     "name": "stdout",
     "output_type": "stream",
     "text": [
      "<class 'pandas.core.frame.DataFrame'>\n",
      "Int64Index: 29000 entries, 0 to 28999\n",
      "Data columns (total 31 columns):\n",
      " #   Column                           Non-Null Count  Dtype  \n",
      "---  ------                           --------------  -----  \n",
      " 0   id                               29000 non-null  int64  \n",
      " 1   timestamp                        29000 non-null  object \n",
      " 2   full_sq                          29000 non-null  int64  \n",
      " 3   life_sq                          22935 non-null  float64\n",
      " 4   floor                            28843 non-null  float64\n",
      " 5   max_floor                        19887 non-null  float64\n",
      " 6   material                         19887 non-null  float64\n",
      " 7   build_year                       16059 non-null  float64\n",
      " 8   num_room                         19887 non-null  float64\n",
      " 9   kitch_sq                         19887 non-null  float64\n",
      " 10  apartment condition              16088 non-null  float64\n",
      " 11  sub_area                         29000 non-null  int64  \n",
      " 12  price                            29000 non-null  float64\n",
      " 13  population                       29000 non-null  int64  \n",
      " 14  indust_part                      29000 non-null  float64\n",
      " 15  preschool_facilities             29000 non-null  int64  \n",
      " 16  school_facilities                29000 non-null  int64  \n",
      " 17  hospital_beds_raion              15253 non-null  float64\n",
      " 18  healthcare_facilities            29000 non-null  int64  \n",
      " 19  university_num                   29000 non-null  int64  \n",
      " 20  sport_objects_facilities         29000 non-null  int64  \n",
      " 21  additional_education_facilities  29000 non-null  int64  \n",
      " 22  culture_objects_facilities       29000 non-null  int64  \n",
      " 23  shopping_centers_facilities      29000 non-null  int64  \n",
      " 24  office_num                       29000 non-null  int64  \n",
      " 25  green_part                       29000 non-null  float64\n",
      " 26  prom_part                        29000 non-null  float64\n",
      " 27  cafe_count                       29000 non-null  int64  \n",
      " 28  church_facilities                29000 non-null  int64  \n",
      " 29  mosque                           29000 non-null  int64  \n",
      " 30  leisure_facilities               29000 non-null  int64  \n",
      "dtypes: float64(13), int64(17), object(1)\n",
      "memory usage: 7.1+ MB\n"
     ]
    }
   ],
   "source": [
    "train.info()"
   ],
   "metadata": {
    "collapsed": false,
    "pycharm": {
     "name": "#%%\n"
    }
   }
  },
  {
   "cell_type": "code",
   "execution_count": 220,
   "outputs": [],
   "source": [],
   "metadata": {
    "collapsed": false,
    "pycharm": {
     "name": "#%%\n"
    }
   }
  },
  {
   "cell_type": "code",
   "execution_count": 221,
   "outputs": [
    {
     "data": {
      "text/plain": "      id  population  indust_part  preschool_facilities  school_facilities  \\\n0  30392      155572     0.000070                     5                  5   \n1  36540      111874     0.089040                     5                  5   \n2  94669      129207     0.007720                     6                  6   \n3  17531      125354     0.265089                     4                  5   \n4  32159      111023     0.025609                     7                  7   \n\n   hospital_beds_raion  healthcare_facilities  university_num  \\\n0                240.0                      1               0   \n1                  NaN                      0               0   \n2                  NaN                      0               0   \n3               1937.0                      3               0   \n4                240.0                      3               0   \n\n   sport_objects_facilities  additional_education_facilities  \\\n0                         7                                3   \n1                        10                                3   \n2                         4                                2   \n3                         6                                4   \n4                         6                                4   \n\n   culture_objects_facilities  shopping_centers_facilities  office_num  \\\n0                           0                           16           1   \n1                           0                           11           5   \n2                           0                            4           2   \n3                           0                            2           0   \n4                           0                            1           0   \n\n   green_part  prom_part  cafe_count  church_facilities  mosque  \\\n0        2.86       0.00           0                  0       0   \n1        9.26       2.71           1                  0       0   \n2       13.80       0.00           4                  0       0   \n3        7.46       0.00           1                  0       0   \n4        0.00       0.00           3                  0       0   \n\n   leisure_facilities  \n0                   0  \n1                   0  \n2                   0  \n3                   0  \n4                   0  ",
      "text/html": "<div>\n<style scoped>\n    .dataframe tbody tr th:only-of-type {\n        vertical-align: middle;\n    }\n\n    .dataframe tbody tr th {\n        vertical-align: top;\n    }\n\n    .dataframe thead th {\n        text-align: right;\n    }\n</style>\n<table border=\"1\" class=\"dataframe\">\n  <thead>\n    <tr style=\"text-align: right;\">\n      <th></th>\n      <th>id</th>\n      <th>population</th>\n      <th>indust_part</th>\n      <th>preschool_facilities</th>\n      <th>school_facilities</th>\n      <th>hospital_beds_raion</th>\n      <th>healthcare_facilities</th>\n      <th>university_num</th>\n      <th>sport_objects_facilities</th>\n      <th>additional_education_facilities</th>\n      <th>culture_objects_facilities</th>\n      <th>shopping_centers_facilities</th>\n      <th>office_num</th>\n      <th>green_part</th>\n      <th>prom_part</th>\n      <th>cafe_count</th>\n      <th>church_facilities</th>\n      <th>mosque</th>\n      <th>leisure_facilities</th>\n    </tr>\n  </thead>\n  <tbody>\n    <tr>\n      <th>0</th>\n      <td>30392</td>\n      <td>155572</td>\n      <td>0.000070</td>\n      <td>5</td>\n      <td>5</td>\n      <td>240.0</td>\n      <td>1</td>\n      <td>0</td>\n      <td>7</td>\n      <td>3</td>\n      <td>0</td>\n      <td>16</td>\n      <td>1</td>\n      <td>2.86</td>\n      <td>0.00</td>\n      <td>0</td>\n      <td>0</td>\n      <td>0</td>\n      <td>0</td>\n    </tr>\n    <tr>\n      <th>1</th>\n      <td>36540</td>\n      <td>111874</td>\n      <td>0.089040</td>\n      <td>5</td>\n      <td>5</td>\n      <td>NaN</td>\n      <td>0</td>\n      <td>0</td>\n      <td>10</td>\n      <td>3</td>\n      <td>0</td>\n      <td>11</td>\n      <td>5</td>\n      <td>9.26</td>\n      <td>2.71</td>\n      <td>1</td>\n      <td>0</td>\n      <td>0</td>\n      <td>0</td>\n    </tr>\n    <tr>\n      <th>2</th>\n      <td>94669</td>\n      <td>129207</td>\n      <td>0.007720</td>\n      <td>6</td>\n      <td>6</td>\n      <td>NaN</td>\n      <td>0</td>\n      <td>0</td>\n      <td>4</td>\n      <td>2</td>\n      <td>0</td>\n      <td>4</td>\n      <td>2</td>\n      <td>13.80</td>\n      <td>0.00</td>\n      <td>4</td>\n      <td>0</td>\n      <td>0</td>\n      <td>0</td>\n    </tr>\n    <tr>\n      <th>3</th>\n      <td>17531</td>\n      <td>125354</td>\n      <td>0.265089</td>\n      <td>4</td>\n      <td>5</td>\n      <td>1937.0</td>\n      <td>3</td>\n      <td>0</td>\n      <td>6</td>\n      <td>4</td>\n      <td>0</td>\n      <td>2</td>\n      <td>0</td>\n      <td>7.46</td>\n      <td>0.00</td>\n      <td>1</td>\n      <td>0</td>\n      <td>0</td>\n      <td>0</td>\n    </tr>\n    <tr>\n      <th>4</th>\n      <td>32159</td>\n      <td>111023</td>\n      <td>0.025609</td>\n      <td>7</td>\n      <td>7</td>\n      <td>240.0</td>\n      <td>3</td>\n      <td>0</td>\n      <td>6</td>\n      <td>4</td>\n      <td>0</td>\n      <td>1</td>\n      <td>0</td>\n      <td>0.00</td>\n      <td>0.00</td>\n      <td>3</td>\n      <td>0</td>\n      <td>0</td>\n      <td>0</td>\n    </tr>\n  </tbody>\n</table>\n</div>"
     },
     "execution_count": 221,
     "metadata": {},
     "output_type": "execute_result"
    }
   ],
   "source": [
    "train2.head()"
   ],
   "metadata": {
    "collapsed": false,
    "pycharm": {
     "name": "#%%\n"
    }
   }
  },
  {
   "cell_type": "code",
   "execution_count": 222,
   "outputs": [],
   "source": [
    "test = pd.read_csv('HW_test_main_data.csv')"
   ],
   "metadata": {
    "collapsed": false,
    "pycharm": {
     "name": "#%%\n"
    }
   }
  },
  {
   "cell_type": "code",
   "execution_count": 223,
   "outputs": [],
   "source": [
    "tes2 = pd.read_csv('HW_test_additional_data.csv')"
   ],
   "metadata": {
    "collapsed": false,
    "pycharm": {
     "name": "#%%\n"
    }
   }
  },
  {
   "cell_type": "code",
   "execution_count": 224,
   "outputs": [],
   "source": [
    "test = test.merge(tes2, how='left', on='id')"
   ],
   "metadata": {
    "collapsed": false,
    "pycharm": {
     "name": "#%%\n"
    }
   }
  },
  {
   "cell_type": "code",
   "execution_count": 225,
   "outputs": [
    {
     "name": "stderr",
     "output_type": "stream",
     "text": [
      "C:\\Users\\denko\\AppData\\Local\\Temp/ipykernel_20984/1254016806.py:9: FutureWarning: Series.dt.weekofyear and Series.dt.week have been deprecated.  Please use Series.dt.isocalendar().week instead.\n",
      "  df['week_of_year'] = df.timestamp.dt.weekofyear\n",
      "C:\\Users\\denko\\AppData\\Local\\Temp/ipykernel_20984/1254016806.py:10: FutureWarning: casting datetime64[ns] values to int64 with .astype(...) is deprecated and will raise in a future version. Use .view(...) instead.\n",
      "  df['timestamp'] = df['timestamp'].astype(np.int64) / 1.1e+17\n"
     ]
    }
   ],
   "source": [
    "test = preprocess(test, 'life_sq')\n"
   ],
   "metadata": {
    "collapsed": false,
    "pycharm": {
     "name": "#%%\n"
    }
   }
  },
  {
   "cell_type": "code",
   "execution_count": 226,
   "outputs": [
    {
     "name": "stderr",
     "output_type": "stream",
     "text": [
      "C:\\Users\\denko\\AppData\\Local\\Temp/ipykernel_20984/1254016806.py:9: FutureWarning: Series.dt.weekofyear and Series.dt.week have been deprecated.  Please use Series.dt.isocalendar().week instead.\n",
      "  df['week_of_year'] = df.timestamp.dt.weekofyear\n",
      "C:\\Users\\denko\\AppData\\Local\\Temp/ipykernel_20984/1254016806.py:10: FutureWarning: casting datetime64[ns] values to int64 with .astype(...) is deprecated and will raise in a future version. Use .view(...) instead.\n",
      "  df['timestamp'] = df['timestamp'].astype(np.int64) / 1.1e+17\n"
     ]
    }
   ],
   "source": [
    "train = preprocess(train, 'price')"
   ],
   "metadata": {
    "collapsed": false,
    "pycharm": {
     "name": "#%%\n"
    }
   }
  },
  {
   "cell_type": "code",
   "execution_count": 227,
   "outputs": [
    {
     "data": {
      "text/plain": "          id  timestamp  full_sq  life_sq  floor  max_floor  material  \\\n0      67278  12.767564       72     37.0   11.0       16.0       1.0   \n1      17471  12.096000       38     23.0    9.0        1.0       1.0   \n2      42228  12.096785       47     31.0    7.0        1.0       1.0   \n3      15460  12.505222       41     25.0    1.0        1.0       1.0   \n4      73208  12.240524       32     19.0    5.0        1.0       1.0   \n...      ...        ...      ...      ...    ...        ...       ...   \n28995  91175  12.751855      185     85.0   10.0       47.0       4.0   \n28996  78059  12.404684      208    128.0    2.0        5.0       2.0   \n28997  88100  12.976495      222    144.0    3.0        5.0       2.0   \n28998  14154  12.446313      188     66.0   33.0        5.0       2.0   \n28999  85073  12.154909       57     31.0   12.0        5.0       2.0   \n\n       build_year  num_room  kitch_sq  ...  mosque  leisure_facilities  year  \\\n0          2006.0       2.0      12.0  ...       0                   0  2014   \n1          2014.0       1.0       1.0  ...       0                   0  2012   \n2          2014.0       1.0       1.0  ...       0                   0  2012   \n3          2014.0       1.0       1.0  ...       0                   0  2013   \n4          2014.0       1.0       1.0  ...       0                   0  2012   \n...           ...       ...       ...  ...     ...                 ...   ...   \n28995      2004.0       1.0      54.0  ...       0                   0  2014   \n28996      1927.0       9.0      17.0  ...       0                   0  2013   \n28997      1927.0       9.0      17.0  ...       0                   7  2015   \n28998      1927.0       9.0      17.0  ...       0                   0  2013   \n28999      1927.0       9.0      17.0  ...       0                   0  2012   \n\n       month  day_of_week  week_of_year  ratio_life_dash_full_sq  \\\n0          7            4            27                 0.513889   \n1          3            3             9                 0.605263   \n2          3            4             9                 0.659574   \n3          8            6            31                 0.609756   \n4          9            5            35                 0.593750   \n...      ...          ...           ...                      ...   \n28995      6            5            24                 0.459459   \n28996      3            4            13                 0.615385   \n28997      3            4            13                 0.648649   \n28998      5            1            21                 0.351064   \n28999      5            1            20                 0.543860   \n\n       ration_kitchen_dash_full_sq   age  some_extra_sqr  \n0                         0.166667   8.0            35.0  \n1                         0.026316  -2.0            15.0  \n2                         0.021277  -2.0            16.0  \n3                         0.024390  -1.0            16.0  \n4                         0.031250  -2.0            13.0  \n...                            ...   ...             ...  \n28995                     0.291892  10.0           100.0  \n28996                     0.081731  86.0            80.0  \n28997                     0.076577  88.0            78.0  \n28998                     0.090426  86.0           122.0  \n28999                     0.298246  85.0            26.0  \n\n[29000 rows x 39 columns]",
      "text/html": "<div>\n<style scoped>\n    .dataframe tbody tr th:only-of-type {\n        vertical-align: middle;\n    }\n\n    .dataframe tbody tr th {\n        vertical-align: top;\n    }\n\n    .dataframe thead th {\n        text-align: right;\n    }\n</style>\n<table border=\"1\" class=\"dataframe\">\n  <thead>\n    <tr style=\"text-align: right;\">\n      <th></th>\n      <th>id</th>\n      <th>timestamp</th>\n      <th>full_sq</th>\n      <th>life_sq</th>\n      <th>floor</th>\n      <th>max_floor</th>\n      <th>material</th>\n      <th>build_year</th>\n      <th>num_room</th>\n      <th>kitch_sq</th>\n      <th>...</th>\n      <th>mosque</th>\n      <th>leisure_facilities</th>\n      <th>year</th>\n      <th>month</th>\n      <th>day_of_week</th>\n      <th>week_of_year</th>\n      <th>ratio_life_dash_full_sq</th>\n      <th>ration_kitchen_dash_full_sq</th>\n      <th>age</th>\n      <th>some_extra_sqr</th>\n    </tr>\n  </thead>\n  <tbody>\n    <tr>\n      <th>0</th>\n      <td>67278</td>\n      <td>12.767564</td>\n      <td>72</td>\n      <td>37.0</td>\n      <td>11.0</td>\n      <td>16.0</td>\n      <td>1.0</td>\n      <td>2006.0</td>\n      <td>2.0</td>\n      <td>12.0</td>\n      <td>...</td>\n      <td>0</td>\n      <td>0</td>\n      <td>2014</td>\n      <td>7</td>\n      <td>4</td>\n      <td>27</td>\n      <td>0.513889</td>\n      <td>0.166667</td>\n      <td>8.0</td>\n      <td>35.0</td>\n    </tr>\n    <tr>\n      <th>1</th>\n      <td>17471</td>\n      <td>12.096000</td>\n      <td>38</td>\n      <td>23.0</td>\n      <td>9.0</td>\n      <td>1.0</td>\n      <td>1.0</td>\n      <td>2014.0</td>\n      <td>1.0</td>\n      <td>1.0</td>\n      <td>...</td>\n      <td>0</td>\n      <td>0</td>\n      <td>2012</td>\n      <td>3</td>\n      <td>3</td>\n      <td>9</td>\n      <td>0.605263</td>\n      <td>0.026316</td>\n      <td>-2.0</td>\n      <td>15.0</td>\n    </tr>\n    <tr>\n      <th>2</th>\n      <td>42228</td>\n      <td>12.096785</td>\n      <td>47</td>\n      <td>31.0</td>\n      <td>7.0</td>\n      <td>1.0</td>\n      <td>1.0</td>\n      <td>2014.0</td>\n      <td>1.0</td>\n      <td>1.0</td>\n      <td>...</td>\n      <td>0</td>\n      <td>0</td>\n      <td>2012</td>\n      <td>3</td>\n      <td>4</td>\n      <td>9</td>\n      <td>0.659574</td>\n      <td>0.021277</td>\n      <td>-2.0</td>\n      <td>16.0</td>\n    </tr>\n    <tr>\n      <th>3</th>\n      <td>15460</td>\n      <td>12.505222</td>\n      <td>41</td>\n      <td>25.0</td>\n      <td>1.0</td>\n      <td>1.0</td>\n      <td>1.0</td>\n      <td>2014.0</td>\n      <td>1.0</td>\n      <td>1.0</td>\n      <td>...</td>\n      <td>0</td>\n      <td>0</td>\n      <td>2013</td>\n      <td>8</td>\n      <td>6</td>\n      <td>31</td>\n      <td>0.609756</td>\n      <td>0.024390</td>\n      <td>-1.0</td>\n      <td>16.0</td>\n    </tr>\n    <tr>\n      <th>4</th>\n      <td>73208</td>\n      <td>12.240524</td>\n      <td>32</td>\n      <td>19.0</td>\n      <td>5.0</td>\n      <td>1.0</td>\n      <td>1.0</td>\n      <td>2014.0</td>\n      <td>1.0</td>\n      <td>1.0</td>\n      <td>...</td>\n      <td>0</td>\n      <td>0</td>\n      <td>2012</td>\n      <td>9</td>\n      <td>5</td>\n      <td>35</td>\n      <td>0.593750</td>\n      <td>0.031250</td>\n      <td>-2.0</td>\n      <td>13.0</td>\n    </tr>\n    <tr>\n      <th>...</th>\n      <td>...</td>\n      <td>...</td>\n      <td>...</td>\n      <td>...</td>\n      <td>...</td>\n      <td>...</td>\n      <td>...</td>\n      <td>...</td>\n      <td>...</td>\n      <td>...</td>\n      <td>...</td>\n      <td>...</td>\n      <td>...</td>\n      <td>...</td>\n      <td>...</td>\n      <td>...</td>\n      <td>...</td>\n      <td>...</td>\n      <td>...</td>\n      <td>...</td>\n      <td>...</td>\n    </tr>\n    <tr>\n      <th>28995</th>\n      <td>91175</td>\n      <td>12.751855</td>\n      <td>185</td>\n      <td>85.0</td>\n      <td>10.0</td>\n      <td>47.0</td>\n      <td>4.0</td>\n      <td>2004.0</td>\n      <td>1.0</td>\n      <td>54.0</td>\n      <td>...</td>\n      <td>0</td>\n      <td>0</td>\n      <td>2014</td>\n      <td>6</td>\n      <td>5</td>\n      <td>24</td>\n      <td>0.459459</td>\n      <td>0.291892</td>\n      <td>10.0</td>\n      <td>100.0</td>\n    </tr>\n    <tr>\n      <th>28996</th>\n      <td>78059</td>\n      <td>12.404684</td>\n      <td>208</td>\n      <td>128.0</td>\n      <td>2.0</td>\n      <td>5.0</td>\n      <td>2.0</td>\n      <td>1927.0</td>\n      <td>9.0</td>\n      <td>17.0</td>\n      <td>...</td>\n      <td>0</td>\n      <td>0</td>\n      <td>2013</td>\n      <td>3</td>\n      <td>4</td>\n      <td>13</td>\n      <td>0.615385</td>\n      <td>0.081731</td>\n      <td>86.0</td>\n      <td>80.0</td>\n    </tr>\n    <tr>\n      <th>28997</th>\n      <td>88100</td>\n      <td>12.976495</td>\n      <td>222</td>\n      <td>144.0</td>\n      <td>3.0</td>\n      <td>5.0</td>\n      <td>2.0</td>\n      <td>1927.0</td>\n      <td>9.0</td>\n      <td>17.0</td>\n      <td>...</td>\n      <td>0</td>\n      <td>7</td>\n      <td>2015</td>\n      <td>3</td>\n      <td>4</td>\n      <td>13</td>\n      <td>0.648649</td>\n      <td>0.076577</td>\n      <td>88.0</td>\n      <td>78.0</td>\n    </tr>\n    <tr>\n      <th>28998</th>\n      <td>14154</td>\n      <td>12.446313</td>\n      <td>188</td>\n      <td>66.0</td>\n      <td>33.0</td>\n      <td>5.0</td>\n      <td>2.0</td>\n      <td>1927.0</td>\n      <td>9.0</td>\n      <td>17.0</td>\n      <td>...</td>\n      <td>0</td>\n      <td>0</td>\n      <td>2013</td>\n      <td>5</td>\n      <td>1</td>\n      <td>21</td>\n      <td>0.351064</td>\n      <td>0.090426</td>\n      <td>86.0</td>\n      <td>122.0</td>\n    </tr>\n    <tr>\n      <th>28999</th>\n      <td>85073</td>\n      <td>12.154909</td>\n      <td>57</td>\n      <td>31.0</td>\n      <td>12.0</td>\n      <td>5.0</td>\n      <td>2.0</td>\n      <td>1927.0</td>\n      <td>9.0</td>\n      <td>17.0</td>\n      <td>...</td>\n      <td>0</td>\n      <td>0</td>\n      <td>2012</td>\n      <td>5</td>\n      <td>1</td>\n      <td>20</td>\n      <td>0.543860</td>\n      <td>0.298246</td>\n      <td>85.0</td>\n      <td>26.0</td>\n    </tr>\n  </tbody>\n</table>\n<p>29000 rows × 39 columns</p>\n</div>"
     },
     "execution_count": 227,
     "metadata": {},
     "output_type": "execute_result"
    }
   ],
   "source": [
    "train"
   ],
   "metadata": {
    "collapsed": false,
    "pycharm": {
     "name": "#%%\n"
    }
   }
  },
  {
   "cell_type": "code",
   "execution_count": 228,
   "outputs": [],
   "source": [
    "from sklearn.model_selection import train_test_split"
   ],
   "metadata": {
    "collapsed": false,
    "pycharm": {
     "name": "#%%\n"
    }
   }
  },
  {
   "cell_type": "code",
   "execution_count": 229,
   "outputs": [
    {
     "data": {
      "text/plain": "Index(['id', 'timestamp', 'full_sq', 'life_sq', 'floor', 'max_floor',\n       'material', 'build_year', 'num_room', 'kitch_sq', 'apartment condition',\n       'sub_area', 'population', 'indust_part', 'preschool_facilities',\n       'school_facilities', 'hospital_beds_raion', 'healthcare_facilities',\n       'university_num', 'sport_objects_facilities',\n       'additional_education_facilities', 'culture_objects_facilities',\n       'shopping_centers_facilities', 'office_num', 'green_part', 'prom_part',\n       'cafe_count', 'church_facilities', 'mosque', 'leisure_facilities',\n       'year', 'month', 'day_of_week', 'week_of_year',\n       'ratio_life_dash_full_sq', 'ration_kitchen_dash_full_sq', 'age',\n       'some_extra_sqr'],\n      dtype='object')"
     },
     "execution_count": 229,
     "metadata": {},
     "output_type": "execute_result"
    }
   ],
   "source": [
    "cols = train.columns[(train.columns != 'price') & (train.columns != 'year_month')]\n",
    "cols"
   ],
   "metadata": {
    "collapsed": false,
    "pycharm": {
     "name": "#%%\n"
    }
   }
  },
  {
   "cell_type": "code",
   "execution_count": 230,
   "outputs": [],
   "source": [
    "X_train, X_test, y_train, y_test = train_test_split(\n",
    "    train[cols],\n",
    "    train.price, test_size=1425, random_state=42)"
   ],
   "metadata": {
    "collapsed": false,
    "pycharm": {
     "name": "#%%\n"
    }
   }
  },
  {
   "cell_type": "code",
   "execution_count": 231,
   "outputs": [
    {
     "data": {
      "text/plain": "Empty DataFrame\nColumns: [id, timestamp, full_sq, life_sq, floor, max_floor, material, build_year, num_room, kitch_sq, apartment condition, sub_area, price, population, indust_part, preschool_facilities, school_facilities, hospital_beds_raion, healthcare_facilities, university_num, sport_objects_facilities, additional_education_facilities, culture_objects_facilities, shopping_centers_facilities, office_num, green_part, prom_part, cafe_count, church_facilities, mosque, leisure_facilities, year, month, day_of_week, week_of_year, ratio_life_dash_full_sq, ration_kitchen_dash_full_sq, age, some_extra_sqr]\nIndex: []\n\n[0 rows x 39 columns]",
      "text/html": "<div>\n<style scoped>\n    .dataframe tbody tr th:only-of-type {\n        vertical-align: middle;\n    }\n\n    .dataframe tbody tr th {\n        vertical-align: top;\n    }\n\n    .dataframe thead th {\n        text-align: right;\n    }\n</style>\n<table border=\"1\" class=\"dataframe\">\n  <thead>\n    <tr style=\"text-align: right;\">\n      <th></th>\n      <th>id</th>\n      <th>timestamp</th>\n      <th>full_sq</th>\n      <th>life_sq</th>\n      <th>floor</th>\n      <th>max_floor</th>\n      <th>material</th>\n      <th>build_year</th>\n      <th>num_room</th>\n      <th>kitch_sq</th>\n      <th>...</th>\n      <th>mosque</th>\n      <th>leisure_facilities</th>\n      <th>year</th>\n      <th>month</th>\n      <th>day_of_week</th>\n      <th>week_of_year</th>\n      <th>ratio_life_dash_full_sq</th>\n      <th>ration_kitchen_dash_full_sq</th>\n      <th>age</th>\n      <th>some_extra_sqr</th>\n    </tr>\n  </thead>\n  <tbody>\n  </tbody>\n</table>\n<p>0 rows × 39 columns</p>\n</div>"
     },
     "execution_count": 231,
     "metadata": {},
     "output_type": "execute_result"
    }
   ],
   "source": [
    "train[train['ratio_life_dash_full_sq'].isna() == True]"
   ],
   "metadata": {
    "collapsed": false,
    "pycharm": {
     "name": "#%%\n"
    }
   }
  },
  {
   "cell_type": "code",
   "execution_count": 232,
   "outputs": [
    {
     "data": {
      "text/plain": "2014    439\n2013    277\n2012    152\n2015    114\n2011     18\nName: year, dtype: int64"
     },
     "execution_count": 232,
     "metadata": {},
     "output_type": "execute_result"
    }
   ],
   "source": [
    "test.year.value_counts()"
   ],
   "metadata": {
    "collapsed": false,
    "pycharm": {
     "name": "#%%\n"
    }
   }
  },
  {
   "cell_type": "code",
   "execution_count": 233,
   "outputs": [
    {
     "name": "stdout",
     "output_type": "stream",
     "text": [
      "<class 'pandas.core.frame.DataFrame'>\n",
      "RangeIndex: 29000 entries, 0 to 28999\n",
      "Data columns (total 39 columns):\n",
      " #   Column                           Non-Null Count  Dtype  \n",
      "---  ------                           --------------  -----  \n",
      " 0   id                               29000 non-null  int64  \n",
      " 1   timestamp                        29000 non-null  float64\n",
      " 2   full_sq                          29000 non-null  int64  \n",
      " 3   life_sq                          29000 non-null  float64\n",
      " 4   floor                            29000 non-null  float64\n",
      " 5   max_floor                        29000 non-null  float64\n",
      " 6   material                         29000 non-null  float64\n",
      " 7   build_year                       29000 non-null  float64\n",
      " 8   num_room                         29000 non-null  float64\n",
      " 9   kitch_sq                         29000 non-null  float64\n",
      " 10  apartment condition              29000 non-null  float64\n",
      " 11  sub_area                         29000 non-null  int64  \n",
      " 12  price                            29000 non-null  float64\n",
      " 13  population                       29000 non-null  int64  \n",
      " 14  indust_part                      29000 non-null  float64\n",
      " 15  preschool_facilities             29000 non-null  int64  \n",
      " 16  school_facilities                29000 non-null  int64  \n",
      " 17  hospital_beds_raion              29000 non-null  float64\n",
      " 18  healthcare_facilities            29000 non-null  int64  \n",
      " 19  university_num                   29000 non-null  int64  \n",
      " 20  sport_objects_facilities         29000 non-null  int64  \n",
      " 21  additional_education_facilities  29000 non-null  int64  \n",
      " 22  culture_objects_facilities       29000 non-null  int64  \n",
      " 23  shopping_centers_facilities      29000 non-null  int64  \n",
      " 24  office_num                       29000 non-null  int64  \n",
      " 25  green_part                       29000 non-null  float64\n",
      " 26  prom_part                        29000 non-null  float64\n",
      " 27  cafe_count                       29000 non-null  int64  \n",
      " 28  church_facilities                29000 non-null  int64  \n",
      " 29  mosque                           29000 non-null  int64  \n",
      " 30  leisure_facilities               29000 non-null  int64  \n",
      " 31  year                             29000 non-null  int64  \n",
      " 32  month                            29000 non-null  int64  \n",
      " 33  day_of_week                      29000 non-null  int64  \n",
      " 34  week_of_year                     29000 non-null  int64  \n",
      " 35  ratio_life_dash_full_sq          29000 non-null  float64\n",
      " 36  ration_kitchen_dash_full_sq      29000 non-null  float64\n",
      " 37  age                              29000 non-null  float64\n",
      " 38  some_extra_sqr                   29000 non-null  float64\n",
      "dtypes: float64(18), int64(21)\n",
      "memory usage: 8.6 MB\n"
     ]
    }
   ],
   "source": [
    "train.info()"
   ],
   "metadata": {
    "collapsed": false,
    "pycharm": {
     "name": "#%%\n"
    }
   }
  },
  {
   "cell_type": "code",
   "execution_count": 234,
   "outputs": [],
   "source": [
    "xgb_params = {\n",
    "    'eta': 0.05,\n",
    "    'max_depth': 4,\n",
    "    'subsample': 0.7,\n",
    "    'colsample_bytree': 0.7,\n",
    "    'objective': 'reg:linear',\n",
    "    'eval_metric': 'rmse',\n",
    "    'min_child_weight':1,\n",
    "    'silent': 1,\n",
    "    'seed':0\n",
    "}"
   ],
   "metadata": {
    "collapsed": false,
    "pycharm": {
     "name": "#%%\n"
    }
   }
  },
  {
   "cell_type": "code",
   "execution_count": 235,
   "outputs": [],
   "source": [
    "import xgboost as xgb"
   ],
   "metadata": {
    "collapsed": false,
    "pycharm": {
     "name": "#%%\n"
    }
   }
  },
  {
   "cell_type": "code",
   "execution_count": 236,
   "outputs": [
    {
     "data": {
      "text/plain": "          id  timestamp  full_sq  life_sq  floor  max_floor  material  \\\n28995  91175  12.751855      185     85.0   10.0       47.0       4.0   \n28996  78059  12.404684      208    128.0    2.0        5.0       2.0   \n28997  88100  12.976495      222    144.0    3.0        5.0       2.0   \n28998  14154  12.446313      188     66.0   33.0        5.0       2.0   \n28999  85073  12.154909       57     31.0   12.0        5.0       2.0   \n\n       build_year  num_room  kitch_sq  ...  mosque  leisure_facilities  year  \\\n28995      2004.0       1.0      54.0  ...       0                   0  2014   \n28996      1927.0       9.0      17.0  ...       0                   0  2013   \n28997      1927.0       9.0      17.0  ...       0                   7  2015   \n28998      1927.0       9.0      17.0  ...       0                   0  2013   \n28999      1927.0       9.0      17.0  ...       0                   0  2012   \n\n       month  day_of_week  week_of_year  ratio_life_dash_full_sq  \\\n28995      6            5            24                 0.459459   \n28996      3            4            13                 0.615385   \n28997      3            4            13                 0.648649   \n28998      5            1            21                 0.351064   \n28999      5            1            20                 0.543860   \n\n       ration_kitchen_dash_full_sq   age  some_extra_sqr  \n28995                     0.291892  10.0           100.0  \n28996                     0.081731  86.0            80.0  \n28997                     0.076577  88.0            78.0  \n28998                     0.090426  86.0           122.0  \n28999                     0.298246  85.0            26.0  \n\n[5 rows x 39 columns]",
      "text/html": "<div>\n<style scoped>\n    .dataframe tbody tr th:only-of-type {\n        vertical-align: middle;\n    }\n\n    .dataframe tbody tr th {\n        vertical-align: top;\n    }\n\n    .dataframe thead th {\n        text-align: right;\n    }\n</style>\n<table border=\"1\" class=\"dataframe\">\n  <thead>\n    <tr style=\"text-align: right;\">\n      <th></th>\n      <th>id</th>\n      <th>timestamp</th>\n      <th>full_sq</th>\n      <th>life_sq</th>\n      <th>floor</th>\n      <th>max_floor</th>\n      <th>material</th>\n      <th>build_year</th>\n      <th>num_room</th>\n      <th>kitch_sq</th>\n      <th>...</th>\n      <th>mosque</th>\n      <th>leisure_facilities</th>\n      <th>year</th>\n      <th>month</th>\n      <th>day_of_week</th>\n      <th>week_of_year</th>\n      <th>ratio_life_dash_full_sq</th>\n      <th>ration_kitchen_dash_full_sq</th>\n      <th>age</th>\n      <th>some_extra_sqr</th>\n    </tr>\n  </thead>\n  <tbody>\n    <tr>\n      <th>28995</th>\n      <td>91175</td>\n      <td>12.751855</td>\n      <td>185</td>\n      <td>85.0</td>\n      <td>10.0</td>\n      <td>47.0</td>\n      <td>4.0</td>\n      <td>2004.0</td>\n      <td>1.0</td>\n      <td>54.0</td>\n      <td>...</td>\n      <td>0</td>\n      <td>0</td>\n      <td>2014</td>\n      <td>6</td>\n      <td>5</td>\n      <td>24</td>\n      <td>0.459459</td>\n      <td>0.291892</td>\n      <td>10.0</td>\n      <td>100.0</td>\n    </tr>\n    <tr>\n      <th>28996</th>\n      <td>78059</td>\n      <td>12.404684</td>\n      <td>208</td>\n      <td>128.0</td>\n      <td>2.0</td>\n      <td>5.0</td>\n      <td>2.0</td>\n      <td>1927.0</td>\n      <td>9.0</td>\n      <td>17.0</td>\n      <td>...</td>\n      <td>0</td>\n      <td>0</td>\n      <td>2013</td>\n      <td>3</td>\n      <td>4</td>\n      <td>13</td>\n      <td>0.615385</td>\n      <td>0.081731</td>\n      <td>86.0</td>\n      <td>80.0</td>\n    </tr>\n    <tr>\n      <th>28997</th>\n      <td>88100</td>\n      <td>12.976495</td>\n      <td>222</td>\n      <td>144.0</td>\n      <td>3.0</td>\n      <td>5.0</td>\n      <td>2.0</td>\n      <td>1927.0</td>\n      <td>9.0</td>\n      <td>17.0</td>\n      <td>...</td>\n      <td>0</td>\n      <td>7</td>\n      <td>2015</td>\n      <td>3</td>\n      <td>4</td>\n      <td>13</td>\n      <td>0.648649</td>\n      <td>0.076577</td>\n      <td>88.0</td>\n      <td>78.0</td>\n    </tr>\n    <tr>\n      <th>28998</th>\n      <td>14154</td>\n      <td>12.446313</td>\n      <td>188</td>\n      <td>66.0</td>\n      <td>33.0</td>\n      <td>5.0</td>\n      <td>2.0</td>\n      <td>1927.0</td>\n      <td>9.0</td>\n      <td>17.0</td>\n      <td>...</td>\n      <td>0</td>\n      <td>0</td>\n      <td>2013</td>\n      <td>5</td>\n      <td>1</td>\n      <td>21</td>\n      <td>0.351064</td>\n      <td>0.090426</td>\n      <td>86.0</td>\n      <td>122.0</td>\n    </tr>\n    <tr>\n      <th>28999</th>\n      <td>85073</td>\n      <td>12.154909</td>\n      <td>57</td>\n      <td>31.0</td>\n      <td>12.0</td>\n      <td>5.0</td>\n      <td>2.0</td>\n      <td>1927.0</td>\n      <td>9.0</td>\n      <td>17.0</td>\n      <td>...</td>\n      <td>0</td>\n      <td>0</td>\n      <td>2012</td>\n      <td>5</td>\n      <td>1</td>\n      <td>20</td>\n      <td>0.543860</td>\n      <td>0.298246</td>\n      <td>85.0</td>\n      <td>26.0</td>\n    </tr>\n  </tbody>\n</table>\n<p>5 rows × 39 columns</p>\n</div>"
     },
     "execution_count": 236,
     "metadata": {},
     "output_type": "execute_result"
    }
   ],
   "source": [
    "train.tail()"
   ],
   "metadata": {
    "collapsed": false,
    "pycharm": {
     "name": "#%%\n"
    }
   }
  },
  {
   "cell_type": "code",
   "execution_count": 237,
   "outputs": [
    {
     "ename": "ValueError",
     "evalue": "Input contains infinity or a value too large for dtype('float64').",
     "output_type": "error",
     "traceback": [
      "\u001B[1;31m---------------------------------------------------------------------------\u001B[0m",
      "\u001B[1;31mValueError\u001B[0m                                Traceback (most recent call last)",
      "\u001B[1;32m~\\AppData\\Local\\Temp/ipykernel_20984/2655791616.py\u001B[0m in \u001B[0;36m<module>\u001B[1;34m\u001B[0m\n\u001B[0;32m      1\u001B[0m \u001B[1;32mfrom\u001B[0m \u001B[0msklearn\u001B[0m\u001B[1;33m.\u001B[0m\u001B[0mpreprocessing\u001B[0m \u001B[1;32mimport\u001B[0m \u001B[0mStandardScaler\u001B[0m\u001B[1;33m\u001B[0m\u001B[1;33m\u001B[0m\u001B[0m\n\u001B[0;32m      2\u001B[0m \u001B[0mscaler\u001B[0m \u001B[1;33m=\u001B[0m \u001B[0mStandardScaler\u001B[0m\u001B[1;33m(\u001B[0m\u001B[1;33m)\u001B[0m\u001B[1;33m\u001B[0m\u001B[1;33m\u001B[0m\u001B[0m\n\u001B[1;32m----> 3\u001B[1;33m \u001B[0mtrain\u001B[0m \u001B[1;33m=\u001B[0m \u001B[0mscaler\u001B[0m\u001B[1;33m.\u001B[0m\u001B[0mfit_transform\u001B[0m\u001B[1;33m(\u001B[0m\u001B[0mtrain\u001B[0m\u001B[1;33m)\u001B[0m\u001B[1;33m\u001B[0m\u001B[1;33m\u001B[0m\u001B[0m\n\u001B[0m",
      "\u001B[1;32md:\\0work\\git\\biot_sandbox\\venv3\\lib\\site-packages\\sklearn\\base.py\u001B[0m in \u001B[0;36mfit_transform\u001B[1;34m(self, X, y, **fit_params)\u001B[0m\n\u001B[0;32m    697\u001B[0m         \u001B[1;32mif\u001B[0m \u001B[0my\u001B[0m \u001B[1;32mis\u001B[0m \u001B[1;32mNone\u001B[0m\u001B[1;33m:\u001B[0m\u001B[1;33m\u001B[0m\u001B[1;33m\u001B[0m\u001B[0m\n\u001B[0;32m    698\u001B[0m             \u001B[1;31m# fit method of arity 1 (unsupervised transformation)\u001B[0m\u001B[1;33m\u001B[0m\u001B[1;33m\u001B[0m\u001B[1;33m\u001B[0m\u001B[0m\n\u001B[1;32m--> 699\u001B[1;33m             \u001B[1;32mreturn\u001B[0m \u001B[0mself\u001B[0m\u001B[1;33m.\u001B[0m\u001B[0mfit\u001B[0m\u001B[1;33m(\u001B[0m\u001B[0mX\u001B[0m\u001B[1;33m,\u001B[0m \u001B[1;33m**\u001B[0m\u001B[0mfit_params\u001B[0m\u001B[1;33m)\u001B[0m\u001B[1;33m.\u001B[0m\u001B[0mtransform\u001B[0m\u001B[1;33m(\u001B[0m\u001B[0mX\u001B[0m\u001B[1;33m)\u001B[0m\u001B[1;33m\u001B[0m\u001B[1;33m\u001B[0m\u001B[0m\n\u001B[0m\u001B[0;32m    700\u001B[0m         \u001B[1;32melse\u001B[0m\u001B[1;33m:\u001B[0m\u001B[1;33m\u001B[0m\u001B[1;33m\u001B[0m\u001B[0m\n\u001B[0;32m    701\u001B[0m             \u001B[1;31m# fit method of arity 2 (supervised transformation)\u001B[0m\u001B[1;33m\u001B[0m\u001B[1;33m\u001B[0m\u001B[1;33m\u001B[0m\u001B[0m\n",
      "\u001B[1;32md:\\0work\\git\\biot_sandbox\\venv3\\lib\\site-packages\\sklearn\\preprocessing\\_data.py\u001B[0m in \u001B[0;36mfit\u001B[1;34m(self, X, y, sample_weight)\u001B[0m\n\u001B[0;32m    728\u001B[0m         \u001B[1;31m# Reset internal state before fitting\u001B[0m\u001B[1;33m\u001B[0m\u001B[1;33m\u001B[0m\u001B[1;33m\u001B[0m\u001B[0m\n\u001B[0;32m    729\u001B[0m         \u001B[0mself\u001B[0m\u001B[1;33m.\u001B[0m\u001B[0m_reset\u001B[0m\u001B[1;33m(\u001B[0m\u001B[1;33m)\u001B[0m\u001B[1;33m\u001B[0m\u001B[1;33m\u001B[0m\u001B[0m\n\u001B[1;32m--> 730\u001B[1;33m         \u001B[1;32mreturn\u001B[0m \u001B[0mself\u001B[0m\u001B[1;33m.\u001B[0m\u001B[0mpartial_fit\u001B[0m\u001B[1;33m(\u001B[0m\u001B[0mX\u001B[0m\u001B[1;33m,\u001B[0m \u001B[0my\u001B[0m\u001B[1;33m,\u001B[0m \u001B[0msample_weight\u001B[0m\u001B[1;33m)\u001B[0m\u001B[1;33m\u001B[0m\u001B[1;33m\u001B[0m\u001B[0m\n\u001B[0m\u001B[0;32m    731\u001B[0m \u001B[1;33m\u001B[0m\u001B[0m\n\u001B[0;32m    732\u001B[0m     \u001B[1;32mdef\u001B[0m \u001B[0mpartial_fit\u001B[0m\u001B[1;33m(\u001B[0m\u001B[0mself\u001B[0m\u001B[1;33m,\u001B[0m \u001B[0mX\u001B[0m\u001B[1;33m,\u001B[0m \u001B[0my\u001B[0m\u001B[1;33m=\u001B[0m\u001B[1;32mNone\u001B[0m\u001B[1;33m,\u001B[0m \u001B[0msample_weight\u001B[0m\u001B[1;33m=\u001B[0m\u001B[1;32mNone\u001B[0m\u001B[1;33m)\u001B[0m\u001B[1;33m:\u001B[0m\u001B[1;33m\u001B[0m\u001B[1;33m\u001B[0m\u001B[0m\n",
      "\u001B[1;32md:\\0work\\git\\biot_sandbox\\venv3\\lib\\site-packages\\sklearn\\preprocessing\\_data.py\u001B[0m in \u001B[0;36mpartial_fit\u001B[1;34m(self, X, y, sample_weight)\u001B[0m\n\u001B[0;32m    764\u001B[0m         \"\"\"\n\u001B[0;32m    765\u001B[0m         \u001B[0mfirst_call\u001B[0m \u001B[1;33m=\u001B[0m \u001B[1;32mnot\u001B[0m \u001B[0mhasattr\u001B[0m\u001B[1;33m(\u001B[0m\u001B[0mself\u001B[0m\u001B[1;33m,\u001B[0m \u001B[1;34m\"n_samples_seen_\"\u001B[0m\u001B[1;33m)\u001B[0m\u001B[1;33m\u001B[0m\u001B[1;33m\u001B[0m\u001B[0m\n\u001B[1;32m--> 766\u001B[1;33m         X = self._validate_data(X, accept_sparse=('csr', 'csc'),\n\u001B[0m\u001B[0;32m    767\u001B[0m                                 \u001B[0mestimator\u001B[0m\u001B[1;33m=\u001B[0m\u001B[0mself\u001B[0m\u001B[1;33m,\u001B[0m \u001B[0mdtype\u001B[0m\u001B[1;33m=\u001B[0m\u001B[0mFLOAT_DTYPES\u001B[0m\u001B[1;33m,\u001B[0m\u001B[1;33m\u001B[0m\u001B[1;33m\u001B[0m\u001B[0m\n\u001B[0;32m    768\u001B[0m                                 force_all_finite='allow-nan', reset=first_call)\n",
      "\u001B[1;32md:\\0work\\git\\biot_sandbox\\venv3\\lib\\site-packages\\sklearn\\base.py\u001B[0m in \u001B[0;36m_validate_data\u001B[1;34m(self, X, y, reset, validate_separately, **check_params)\u001B[0m\n\u001B[0;32m    419\u001B[0m             \u001B[0mout\u001B[0m \u001B[1;33m=\u001B[0m \u001B[0mX\u001B[0m\u001B[1;33m\u001B[0m\u001B[1;33m\u001B[0m\u001B[0m\n\u001B[0;32m    420\u001B[0m         \u001B[1;32melif\u001B[0m \u001B[0misinstance\u001B[0m\u001B[1;33m(\u001B[0m\u001B[0my\u001B[0m\u001B[1;33m,\u001B[0m \u001B[0mstr\u001B[0m\u001B[1;33m)\u001B[0m \u001B[1;32mand\u001B[0m \u001B[0my\u001B[0m \u001B[1;33m==\u001B[0m \u001B[1;34m'no_validation'\u001B[0m\u001B[1;33m:\u001B[0m\u001B[1;33m\u001B[0m\u001B[1;33m\u001B[0m\u001B[0m\n\u001B[1;32m--> 421\u001B[1;33m             \u001B[0mX\u001B[0m \u001B[1;33m=\u001B[0m \u001B[0mcheck_array\u001B[0m\u001B[1;33m(\u001B[0m\u001B[0mX\u001B[0m\u001B[1;33m,\u001B[0m \u001B[1;33m**\u001B[0m\u001B[0mcheck_params\u001B[0m\u001B[1;33m)\u001B[0m\u001B[1;33m\u001B[0m\u001B[1;33m\u001B[0m\u001B[0m\n\u001B[0m\u001B[0;32m    422\u001B[0m             \u001B[0mout\u001B[0m \u001B[1;33m=\u001B[0m \u001B[0mX\u001B[0m\u001B[1;33m\u001B[0m\u001B[1;33m\u001B[0m\u001B[0m\n\u001B[0;32m    423\u001B[0m         \u001B[1;32melse\u001B[0m\u001B[1;33m:\u001B[0m\u001B[1;33m\u001B[0m\u001B[1;33m\u001B[0m\u001B[0m\n",
      "\u001B[1;32md:\\0work\\git\\biot_sandbox\\venv3\\lib\\site-packages\\sklearn\\utils\\validation.py\u001B[0m in \u001B[0;36minner_f\u001B[1;34m(*args, **kwargs)\u001B[0m\n\u001B[0;32m     61\u001B[0m             \u001B[0mextra_args\u001B[0m \u001B[1;33m=\u001B[0m \u001B[0mlen\u001B[0m\u001B[1;33m(\u001B[0m\u001B[0margs\u001B[0m\u001B[1;33m)\u001B[0m \u001B[1;33m-\u001B[0m \u001B[0mlen\u001B[0m\u001B[1;33m(\u001B[0m\u001B[0mall_args\u001B[0m\u001B[1;33m)\u001B[0m\u001B[1;33m\u001B[0m\u001B[1;33m\u001B[0m\u001B[0m\n\u001B[0;32m     62\u001B[0m             \u001B[1;32mif\u001B[0m \u001B[0mextra_args\u001B[0m \u001B[1;33m<=\u001B[0m \u001B[1;36m0\u001B[0m\u001B[1;33m:\u001B[0m\u001B[1;33m\u001B[0m\u001B[1;33m\u001B[0m\u001B[0m\n\u001B[1;32m---> 63\u001B[1;33m                 \u001B[1;32mreturn\u001B[0m \u001B[0mf\u001B[0m\u001B[1;33m(\u001B[0m\u001B[1;33m*\u001B[0m\u001B[0margs\u001B[0m\u001B[1;33m,\u001B[0m \u001B[1;33m**\u001B[0m\u001B[0mkwargs\u001B[0m\u001B[1;33m)\u001B[0m\u001B[1;33m\u001B[0m\u001B[1;33m\u001B[0m\u001B[0m\n\u001B[0m\u001B[0;32m     64\u001B[0m \u001B[1;33m\u001B[0m\u001B[0m\n\u001B[0;32m     65\u001B[0m             \u001B[1;31m# extra_args > 0\u001B[0m\u001B[1;33m\u001B[0m\u001B[1;33m\u001B[0m\u001B[1;33m\u001B[0m\u001B[0m\n",
      "\u001B[1;32md:\\0work\\git\\biot_sandbox\\venv3\\lib\\site-packages\\sklearn\\utils\\validation.py\u001B[0m in \u001B[0;36mcheck_array\u001B[1;34m(array, accept_sparse, accept_large_sparse, dtype, order, copy, force_all_finite, ensure_2d, allow_nd, ensure_min_samples, ensure_min_features, estimator)\u001B[0m\n\u001B[0;32m    718\u001B[0m \u001B[1;33m\u001B[0m\u001B[0m\n\u001B[0;32m    719\u001B[0m         \u001B[1;32mif\u001B[0m \u001B[0mforce_all_finite\u001B[0m\u001B[1;33m:\u001B[0m\u001B[1;33m\u001B[0m\u001B[1;33m\u001B[0m\u001B[0m\n\u001B[1;32m--> 720\u001B[1;33m             _assert_all_finite(array,\n\u001B[0m\u001B[0;32m    721\u001B[0m                                allow_nan=force_all_finite == 'allow-nan')\n\u001B[0;32m    722\u001B[0m \u001B[1;33m\u001B[0m\u001B[0m\n",
      "\u001B[1;32md:\\0work\\git\\biot_sandbox\\venv3\\lib\\site-packages\\sklearn\\utils\\validation.py\u001B[0m in \u001B[0;36m_assert_all_finite\u001B[1;34m(X, allow_nan, msg_dtype)\u001B[0m\n\u001B[0;32m    101\u001B[0m                 not allow_nan and not np.isfinite(X).all()):\n\u001B[0;32m    102\u001B[0m             \u001B[0mtype_err\u001B[0m \u001B[1;33m=\u001B[0m \u001B[1;34m'infinity'\u001B[0m \u001B[1;32mif\u001B[0m \u001B[0mallow_nan\u001B[0m \u001B[1;32melse\u001B[0m \u001B[1;34m'NaN, infinity'\u001B[0m\u001B[1;33m\u001B[0m\u001B[1;33m\u001B[0m\u001B[0m\n\u001B[1;32m--> 103\u001B[1;33m             raise ValueError(\n\u001B[0m\u001B[0;32m    104\u001B[0m                     \u001B[0mmsg_err\u001B[0m\u001B[1;33m.\u001B[0m\u001B[0mformat\u001B[0m\u001B[1;33m\u001B[0m\u001B[1;33m\u001B[0m\u001B[0m\n\u001B[0;32m    105\u001B[0m                     (type_err,\n",
      "\u001B[1;31mValueError\u001B[0m: Input contains infinity or a value too large for dtype('float64')."
     ]
    }
   ],
   "source": [
    "from sklearn.preprocessing import StandardScaler\n",
    "scaler = StandardScaler()\n",
    "train = scaler.fit_transform(train)"
   ],
   "metadata": {
    "collapsed": false,
    "pycharm": {
     "name": "#%%\n"
    }
   }
  },
  {
   "cell_type": "code",
   "execution_count": null,
   "outputs": [],
   "source": [
    "train['timestamp'] = scaler.fit_transform(train['timestamp'])"
   ],
   "metadata": {
    "collapsed": false,
    "pycharm": {
     "name": "#%%\n"
    }
   }
  },
  {
   "cell_type": "code",
   "execution_count": null,
   "outputs": [],
   "source": [
    "xgb_train = xgb.DMatrix(X_train, y_train, feature_names = cols, enable_categorical=True)\n",
    "xgb_test = xgb.DMatrix(X_test, y_test, feature_names = cols, enable_categorical=True)"
   ],
   "metadata": {
    "collapsed": false,
    "pycharm": {
     "name": "#%%\n"
    }
   }
  },
  {
   "cell_type": "code",
   "execution_count": null,
   "outputs": [],
   "source": [
    "evallist = [(xgb_test, 'eval'), (xgb_train, 'train')]"
   ],
   "metadata": {
    "collapsed": false,
    "pycharm": {
     "name": "#%%\n"
    }
   }
  },
  {
   "cell_type": "code",
   "execution_count": null,
   "outputs": [],
   "source": [
    "model_2 = xgb.train(params = xgb_params,\n",
    "                    dtrain = xgb_train,\n",
    "                    num_boost_round = 300,\n",
    "                    evals = evallist,\n",
    "                    early_stopping_rounds = 10,\n",
    "                    verbose_eval = 10)"
   ],
   "metadata": {
    "collapsed": false,
    "pycharm": {
     "name": "#%%\n"
    }
   }
  },
  {
   "cell_type": "markdown",
   "source": [],
   "metadata": {
    "collapsed": false
   }
  },
  {
   "cell_type": "markdown",
   "source": [],
   "metadata": {
    "collapsed": false,
    "pycharm": {
     "name": "#%% md\n"
    }
   }
  }
 ],
 "metadata": {
  "kernelspec": {
   "display_name": "Python 3",
   "language": "python",
   "name": "python3"
  },
  "language_info": {
   "codemirror_mode": {
    "name": "ipython",
    "version": 2
   },
   "file_extension": ".py",
   "mimetype": "text/x-python",
   "name": "python",
   "nbconvert_exporter": "python",
   "pygments_lexer": "ipython2",
   "version": "2.7.6"
  }
 },
 "nbformat": 4,
 "nbformat_minor": 0
}