{
 "cells": [
  {
   "cell_type": "code",
   "execution_count": 90,
   "metadata": {
    "collapsed": true
   },
   "outputs": [],
   "source": [
    "import pandas as pd\n",
    "import numpy as np"
   ]
  },
  {
   "cell_type": "code",
   "execution_count": 91,
   "outputs": [],
   "source": [
    "def preprocess(df, col):\n",
    "\n",
    "    df['timestamp'] = pd.to_datetime(df['timestamp'])\n",
    "    # df['ts'] = df['timestamp'].astype(int)\n",
    "\n",
    "    df['year'] = df['timestamp'].dt.year\n",
    "    df['month'] = df['timestamp'].dt.month\n",
    "    df['day_of_week'] = df.timestamp.dt.weekday\n",
    "    df['week_of_year'] = df.timestamp.dt.weekofyear\n",
    "    df['timestamp'] = df['timestamp'].astype(np.int64)\n",
    "    df = df.sort_values(by=col).reset_index(drop=True)\n",
    "    df = df.fillna(method='bfill')\n",
    "    df = df.fillna(method='ffill')\n",
    "    df[\"ratio_life_dash_full_sq\"] = np.divide(df[\"life_sq\"], df[\"full_sq\"], out=np.zeros_like(df[\"life_sq\"]), where=df[\"full_sq\"]!=0)\n",
    "    df[\"ration_kitchen_dash_full_sq\"] =  np.divide(df[\"kitch_sq\"], df[\"full_sq\"], out=np.zeros_like(df[\"life_sq\"]), where=df[\"full_sq\"]!=0)\n",
    "\n",
    "    df['age'] = df['year'] - df[\"build_year\"]\n",
    "    df['some_extra_sqr'] = df[\"full_sq\"] - df[\"life_sq\"]\n",
    "    df = df.fillna(method='bfill')\n",
    "    df = df.fillna(method='ffill')\n",
    "    # df = df.fillna(df.mean(), inplace=True)\n",
    "    return df"
   ],
   "metadata": {
    "collapsed": false,
    "pycharm": {
     "name": "#%%\n"
    }
   }
  },
  {
   "cell_type": "code",
   "execution_count": 92,
   "outputs": [],
   "source": [
    "train1 = pd.read_csv('HW_train_main_data.csv')\n",
    "train2 = pd.read_csv('HW_train_additional_data.csv')"
   ],
   "metadata": {
    "collapsed": false,
    "pycharm": {
     "name": "#%%\n"
    }
   }
  },
  {
   "cell_type": "code",
   "execution_count": 93,
   "outputs": [],
   "source": [
    "train = train1.merge(train2, how='left', on='id')"
   ],
   "metadata": {
    "collapsed": false,
    "pycharm": {
     "name": "#%%\n"
    }
   }
  },
  {
   "cell_type": "code",
   "execution_count": 94,
   "outputs": [],
   "source": [
    "test = pd.read_csv('HW_test_main_data.csv')\n",
    "tes2 = pd.read_csv('HW_test_additional_data.csv')"
   ],
   "metadata": {
    "collapsed": false,
    "pycharm": {
     "name": "#%%\n"
    }
   }
  },
  {
   "cell_type": "code",
   "execution_count": 95,
   "outputs": [],
   "source": [
    "test = test.merge(tes2, how='left', on='id')"
   ],
   "metadata": {
    "collapsed": false,
    "pycharm": {
     "name": "#%%\n"
    }
   }
  },
  {
   "cell_type": "code",
   "execution_count": 96,
   "outputs": [
    {
     "name": "stderr",
     "output_type": "stream",
     "text": [
      "C:\\Users\\denko\\AppData\\Local\\Temp/ipykernel_3924/3061532774.py:9: FutureWarning: Series.dt.weekofyear and Series.dt.week have been deprecated.  Please use Series.dt.isocalendar().week instead.\n",
      "  df['week_of_year'] = df.timestamp.dt.weekofyear\n",
      "C:\\Users\\denko\\AppData\\Local\\Temp/ipykernel_3924/3061532774.py:10: FutureWarning: casting datetime64[ns] values to int64 with .astype(...) is deprecated and will raise in a future version. Use .view(...) instead.\n",
      "  df['timestamp'] = df['timestamp'].astype(np.int64)\n"
     ]
    }
   ],
   "source": [
    "test = preprocess(test, 'life_sq')"
   ],
   "metadata": {
    "collapsed": false,
    "pycharm": {
     "name": "#%%\n"
    }
   }
  },
  {
   "cell_type": "code",
   "execution_count": 97,
   "outputs": [
    {
     "name": "stderr",
     "output_type": "stream",
     "text": [
      "C:\\Users\\denko\\AppData\\Local\\Temp/ipykernel_3924/3061532774.py:9: FutureWarning: Series.dt.weekofyear and Series.dt.week have been deprecated.  Please use Series.dt.isocalendar().week instead.\n",
      "  df['week_of_year'] = df.timestamp.dt.weekofyear\n",
      "C:\\Users\\denko\\AppData\\Local\\Temp/ipykernel_3924/3061532774.py:10: FutureWarning: casting datetime64[ns] values to int64 with .astype(...) is deprecated and will raise in a future version. Use .view(...) instead.\n",
      "  df['timestamp'] = df['timestamp'].astype(np.int64)\n"
     ]
    }
   ],
   "source": [
    "train = preprocess(train, 'price')"
   ],
   "metadata": {
    "collapsed": false,
    "pycharm": {
     "name": "#%%\n"
    }
   }
  },
  {
   "cell_type": "code",
   "execution_count": 98,
   "outputs": [],
   "source": [
    "from sklearn.model_selection import train_test_split"
   ],
   "metadata": {
    "collapsed": false,
    "pycharm": {
     "name": "#%%\n"
    }
   }
  },
  {
   "cell_type": "code",
   "execution_count": 99,
   "outputs": [
    {
     "data": {
      "text/plain": "Index(['id', 'timestamp', 'full_sq', 'life_sq', 'floor', 'max_floor',\n       'material', 'build_year', 'num_room', 'kitch_sq', 'apartment condition',\n       'sub_area', 'population', 'indust_part', 'preschool_facilities',\n       'school_facilities', 'hospital_beds_raion', 'healthcare_facilities',\n       'university_num', 'sport_objects_facilities',\n       'additional_education_facilities', 'culture_objects_facilities',\n       'shopping_centers_facilities', 'office_num', 'green_part', 'prom_part',\n       'cafe_count', 'church_facilities', 'mosque', 'leisure_facilities',\n       'year', 'month', 'day_of_week', 'week_of_year',\n       'ratio_life_dash_full_sq', 'ration_kitchen_dash_full_sq', 'age',\n       'some_extra_sqr'],\n      dtype='object')"
     },
     "execution_count": 99,
     "metadata": {},
     "output_type": "execute_result"
    }
   ],
   "source": [
    "cols = train.columns[(train.columns != 'price') & (train.columns != 'year_month')]\n",
    "cols"
   ],
   "metadata": {
    "collapsed": false,
    "pycharm": {
     "name": "#%%\n"
    }
   }
  },
  {
   "cell_type": "code",
   "execution_count": 100,
   "outputs": [],
   "source": [],
   "metadata": {
    "collapsed": false,
    "pycharm": {
     "name": "#%%\n"
    }
   }
  },
  {
   "cell_type": "code",
   "execution_count": 101,
   "outputs": [],
   "source": [
    "xgb_params = {\n",
    "    'eta': 0.05,\n",
    "    'max_depth': 4,\n",
    "    'subsample': 0.7,\n",
    "    'colsample_bytree': 0.7,\n",
    "    'objective': 'reg:linear',\n",
    "    'eval_metric': 'rmse',\n",
    "    'min_child_weight':1,\n",
    "    'silent': 1,\n",
    "    'seed':0\n",
    "}"
   ],
   "metadata": {
    "collapsed": false,
    "pycharm": {
     "name": "#%%\n"
    }
   }
  },
  {
   "cell_type": "code",
   "execution_count": 102,
   "outputs": [],
   "source": [
    "import xgboost as xgb"
   ],
   "metadata": {
    "collapsed": false,
    "pycharm": {
     "name": "#%%\n"
    }
   }
  },
  {
   "cell_type": "code",
   "execution_count": 108,
   "outputs": [],
   "source": [
    "from sklearn.preprocessing import StandardScaler\n",
    "scaler = StandardScaler()\n",
    "train = scaler.fit_transform(train)\n",
    "test = scaler.fit_transform(test)\n",
    "# train['timestamp'] = scaler.fit_transform(train['timestamp'])"
   ],
   "metadata": {
    "collapsed": false,
    "pycharm": {
     "name": "#%%\n"
    }
   }
  },
  {
   "cell_type": "code",
   "execution_count": 110,
   "outputs": [
    {
     "data": {
      "text/plain": "array([[ 0.47515272,  0.52272112,  0.43229455, ...,  0.05268582,\n         0.00743284,  0.3702824 ],\n       [-1.44186363, -2.01033544, -0.44443179, ..., -0.13559118,\n         0.00737278, -0.17307125],\n       [-0.48899408, -2.0073728 , -0.21235717, ..., -0.14235113,\n         0.00737278, -0.14590357],\n       ...,\n       [ 1.27656848,  1.31078316,  4.30020489, ..., -0.06816766,\n         0.00791331,  1.53849274],\n       [-1.56953129, -0.68899833,  3.42347855, ..., -0.04958965,\n         0.0079013 ,  2.73387077],\n       [ 1.16006259, -1.78813749,  0.04550352, ...,  0.22919552,\n         0.0078953 ,  0.12577325]])"
     },
     "execution_count": 110,
     "metadata": {},
     "output_type": "execute_result"
    }
   ],
   "source": [
    "train"
   ],
   "metadata": {
    "collapsed": false,
    "pycharm": {
     "name": "#%%\n"
    }
   }
  },
  {
   "cell_type": "code",
   "execution_count": 109,
   "outputs": [
    {
     "ename": "IndexError",
     "evalue": "only integers, slices (`:`), ellipsis (`...`), numpy.newaxis (`None`) and integer or boolean arrays are valid indices",
     "output_type": "error",
     "traceback": [
      "\u001B[1;31m---------------------------------------------------------------------------\u001B[0m",
      "\u001B[1;31mIndexError\u001B[0m                                Traceback (most recent call last)",
      "\u001B[1;32m~\\AppData\\Local\\Temp/ipykernel_3924/1559258083.py\u001B[0m in \u001B[0;36m<module>\u001B[1;34m\u001B[0m\n\u001B[0;32m      1\u001B[0m X_train, X_test, y_train, y_test = train_test_split(\n\u001B[1;32m----> 2\u001B[1;33m     \u001B[0mtrain\u001B[0m\u001B[1;33m[\u001B[0m\u001B[0mcols\u001B[0m\u001B[1;33m]\u001B[0m\u001B[1;33m,\u001B[0m\u001B[1;33m\u001B[0m\u001B[1;33m\u001B[0m\u001B[0m\n\u001B[0m\u001B[0;32m      3\u001B[0m     train.price, test_size=1425, random_state=42)\n",
      "\u001B[1;31mIndexError\u001B[0m: only integers, slices (`:`), ellipsis (`...`), numpy.newaxis (`None`) and integer or boolean arrays are valid indices"
     ]
    }
   ],
   "source": [
    "X_train, X_test, y_train, y_test = train_test_split(\n",
    "    train[cols],\n",
    "    train.price, test_size=1425, random_state=42)"
   ],
   "metadata": {
    "collapsed": false,
    "pycharm": {
     "name": "#%%\n"
    }
   }
  },
  {
   "cell_type": "code",
   "execution_count": 105,
   "outputs": [],
   "source": [
    "xgb_train = xgb.DMatrix(X_train, y_train, feature_names = cols, enable_categorical=True)\n",
    "xgb_test = xgb.DMatrix(X_test, y_test, feature_names = cols, enable_categorical=True)"
   ],
   "metadata": {
    "collapsed": false,
    "pycharm": {
     "name": "#%%\n"
    }
   }
  },
  {
   "cell_type": "code",
   "execution_count": 106,
   "outputs": [],
   "source": [
    "evallist = [(xgb_test, 'eval'), (xgb_train, 'train')]"
   ],
   "metadata": {
    "collapsed": false,
    "pycharm": {
     "name": "#%%\n"
    }
   }
  },
  {
   "cell_type": "code",
   "execution_count": 107,
   "outputs": [
    {
     "name": "stdout",
     "output_type": "stream",
     "text": [
      "[15:39:28] WARNING: C:/Users/Administrator/workspace/xgboost-win64_release_1.4.0/src/objective/regression_obj.cu:171: reg:linear is now deprecated in favor of reg:squarederror.\n",
      "[15:39:29] WARNING: C:/Users/Administrator/workspace/xgboost-win64_release_1.4.0/src/learner.cc:573: \n",
      "Parameters: { \"silent\" } might not be used.\n",
      "\n",
      "  This may not be accurate due to some parameters are only used in language bindings but\n",
      "  passed down to XGBoost core.  Or some parameters are not used but slip through this\n",
      "  verification. Please open an issue if you find above cases.\n",
      "\n",
      "\n",
      "[0]\teval-rmse:7885143.50000\ttrain-rmse:8679628.00000\n",
      "[10]\teval-rmse:5203258.00000\ttrain-rmse:5882132.00000\n",
      "[20]\teval-rmse:3801437.00000\ttrain-rmse:4378543.00000\n",
      "[30]\teval-rmse:3153103.75000\ttrain-rmse:3615511.75000\n",
      "[40]\teval-rmse:2870713.75000\ttrain-rmse:3224390.50000\n",
      "[50]\teval-rmse:2729835.75000\ttrain-rmse:3015962.75000\n",
      "[60]\teval-rmse:2673673.75000\ttrain-rmse:2887694.50000\n",
      "[70]\teval-rmse:2637913.00000\ttrain-rmse:2805288.00000\n",
      "[80]\teval-rmse:2610949.00000\ttrain-rmse:2746466.00000\n",
      "[90]\teval-rmse:2592742.00000\ttrain-rmse:2701843.75000\n",
      "[100]\teval-rmse:2584069.75000\ttrain-rmse:2662315.00000\n",
      "[110]\teval-rmse:2572933.75000\ttrain-rmse:2630411.25000\n",
      "[120]\teval-rmse:2563695.50000\ttrain-rmse:2600822.50000\n",
      "[130]\teval-rmse:2551108.00000\ttrain-rmse:2573889.25000\n",
      "[140]\teval-rmse:2542306.00000\ttrain-rmse:2550243.75000\n",
      "[150]\teval-rmse:2544304.75000\ttrain-rmse:2526927.25000\n",
      "[160]\teval-rmse:2533214.25000\ttrain-rmse:2505851.50000\n",
      "[170]\teval-rmse:2524139.75000\ttrain-rmse:2484930.25000\n",
      "[180]\teval-rmse:2513869.00000\ttrain-rmse:2468656.75000\n",
      "[190]\teval-rmse:2509056.50000\ttrain-rmse:2448926.75000\n",
      "[200]\teval-rmse:2501571.50000\ttrain-rmse:2434560.50000\n",
      "[210]\teval-rmse:2496028.50000\ttrain-rmse:2421787.25000\n",
      "[220]\teval-rmse:2487238.00000\ttrain-rmse:2405776.75000\n",
      "[230]\teval-rmse:2485267.50000\ttrain-rmse:2397129.75000\n",
      "[240]\teval-rmse:2481326.25000\ttrain-rmse:2385353.50000\n",
      "[250]\teval-rmse:2476652.00000\ttrain-rmse:2373798.00000\n",
      "[260]\teval-rmse:2468806.25000\ttrain-rmse:2363154.50000\n",
      "[270]\teval-rmse:2470420.50000\ttrain-rmse:2354103.25000\n",
      "[280]\teval-rmse:2466457.75000\ttrain-rmse:2343755.50000\n",
      "[290]\teval-rmse:2466354.50000\ttrain-rmse:2332498.50000\n",
      "[299]\teval-rmse:2459318.50000\ttrain-rmse:2321693.25000\n"
     ]
    }
   ],
   "source": [
    "model_2 = xgb.train(params = xgb_params,\n",
    "                    dtrain = xgb_train,\n",
    "                    num_boost_round = 300,\n",
    "                    evals = evallist,\n",
    "                    early_stopping_rounds = 10,\n",
    "                    verbose_eval = 10)"
   ],
   "metadata": {
    "collapsed": false,
    "pycharm": {
     "name": "#%%\n"
    }
   }
  }
 ],
 "metadata": {
  "kernelspec": {
   "display_name": "Python 3",
   "language": "python",
   "name": "python3"
  },
  "language_info": {
   "codemirror_mode": {
    "name": "ipython",
    "version": 2
   },
   "file_extension": ".py",
   "mimetype": "text/x-python",
   "name": "python",
   "nbconvert_exporter": "python",
   "pygments_lexer": "ipython2",
   "version": "2.7.6"
  }
 },
 "nbformat": 4,
 "nbformat_minor": 0
}